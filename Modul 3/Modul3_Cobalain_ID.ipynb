{
 "cells": [
  {
   "cell_type": "markdown",
   "metadata": {},
   "source": [
    "## pba-modul3-id-text-summarization"
   ]
  },
  {
   "cell_type": "markdown",
   "metadata": {},
   "source": [
    "- Nama : Emmanuel Mathew Krisna Rata \n",
    "- NPM: 200710530"
   ]
  },
  {
   "cell_type": "markdown",
   "metadata": {},
   "source": [
    "1.2.1 Inisialisasi"
   ]
  },
  {
   "cell_type": "code",
   "execution_count": 1,
   "metadata": {},
   "outputs": [],
   "source": [
    "import os\n",
    "import re\n",
    "import sys\n",
    "from Sastrawi.Stemmer.StemmerFactory import StemmerFactory\n",
    "from sklearn.feature_extraction.text import CountVectorizer\n",
    "from sklearn.metrics.pairwise import cosine_similarity\n",
    "from IPython.display import HTML as html_print\n",
    "from IPython.display import display\n",
    "import pandas as pd\n",
    "import operator\n",
    "import spacy"
   ]
  },
  {
   "cell_type": "markdown",
   "metadata": {},
   "source": [
    "1.2.2 Text Summarization"
   ]
  },
  {
   "cell_type": "code",
   "execution_count": 2,
   "metadata": {},
   "outputs": [],
   "source": [
    "factory = StemmerFactory()\n",
    "stemmer = factory.create_stemmer()"
   ]
  },
  {
   "cell_type": "code",
   "execution_count": 3,
   "metadata": {},
   "outputs": [],
   "source": [
    "def load_stopWords():\n",
    "    f = open('stopword.txt', 'r');\n",
    "    return f.readlines()\n",
    "stopwords = load_stopWords()"
   ]
  },
  {
   "cell_type": "code",
   "execution_count": 4,
   "metadata": {},
   "outputs": [
    {
     "data": {
      "text/plain": [
       "['\\n',\n",
       " 'ada\\n',\n",
       " 'adanya\\n',\n",
       " 'adalah\\n',\n",
       " 'adapun\\n',\n",
       " 'agak\\n',\n",
       " 'agaknya\\n',\n",
       " 'agar\\n',\n",
       " 'akan\\n',\n",
       " 'akankah\\n',\n",
       " 'akhirnya\\n',\n",
       " 'aku\\n',\n",
       " 'akulah\\n',\n",
       " 'amat\\n',\n",
       " 'amatlah\\n',\n",
       " 'anda\\n',\n",
       " 'andalah\\n',\n",
       " 'antar\\n',\n",
       " 'diantaranya\\n',\n",
       " 'antara\\n',\n",
       " 'antaranya\\n',\n",
       " 'diantara\\n',\n",
       " 'apa\\n',\n",
       " 'apaan\\n',\n",
       " 'mengapa\\n',\n",
       " 'apabila\\n',\n",
       " 'apakah\\n',\n",
       " 'apalagi\\n',\n",
       " 'apatah\\n',\n",
       " 'atau\\n',\n",
       " 'ataukah\\n',\n",
       " 'ataupun\\n',\n",
       " 'bagai\\n',\n",
       " 'bagaikan\\n',\n",
       " 'sebagai\\n',\n",
       " 'sebagainya\\n',\n",
       " 'bagaimana\\n',\n",
       " 'bagaimanapun\\n',\n",
       " 'sebagaimana\\n',\n",
       " 'bagaimanakah\\n',\n",
       " 'bagi\\n',\n",
       " 'bahkan\\n',\n",
       " 'bahwa\\n',\n",
       " 'bahwasanya\\n',\n",
       " 'sebaliknya\\n',\n",
       " 'banyak\\n',\n",
       " 'sebanyak\\n',\n",
       " 'beberapa\\n',\n",
       " 'seberapa\\n',\n",
       " 'begini\\n',\n",
       " 'beginian\\n',\n",
       " 'beginikah\\n',\n",
       " 'beginilah\\n',\n",
       " 'sebegini\\n',\n",
       " 'begitu\\n',\n",
       " 'begitukah\\n',\n",
       " 'begitulah\\n',\n",
       " 'begitupun\\n',\n",
       " 'sebegitu\\n',\n",
       " 'belum\\n',\n",
       " 'belumlah\\n',\n",
       " 'sebelum\\n',\n",
       " 'sebelumnya\\n',\n",
       " 'sebenarnya\\n',\n",
       " 'berapa\\n',\n",
       " 'berapakah\\n',\n",
       " 'berapalah\\n',\n",
       " 'berapapun\\n',\n",
       " 'betulkah\\n',\n",
       " 'sebetulnya\\n',\n",
       " 'biasa\\n',\n",
       " 'biasanya\\n',\n",
       " 'bila\\n',\n",
       " 'bilakah\\n',\n",
       " 'bisa\\n',\n",
       " 'bisakah\\n',\n",
       " 'sebisanya\\n',\n",
       " 'boleh\\n',\n",
       " 'bolehkah\\n',\n",
       " 'bolehlah\\n',\n",
       " 'buat\\n',\n",
       " 'bukan\\n',\n",
       " 'bukankah\\n',\n",
       " 'bukanlah\\n',\n",
       " 'bukannya\\n',\n",
       " 'cuma\\n',\n",
       " 'percuma\\n',\n",
       " 'dahulu\\n',\n",
       " 'dalam\\n',\n",
       " 'dan\\n',\n",
       " 'dapat\\n',\n",
       " 'dari\\n',\n",
       " 'daripada\\n',\n",
       " 'dekat\\n',\n",
       " 'demi\\n',\n",
       " 'demikian\\n',\n",
       " 'demikianlah\\n',\n",
       " 'sedemikian\\n',\n",
       " 'dengan\\n',\n",
       " 'depan\\n',\n",
       " 'di\\n',\n",
       " 'dia\\n',\n",
       " 'dialah\\n',\n",
       " 'dini\\n',\n",
       " 'diri\\n',\n",
       " 'dirinya\\n',\n",
       " 'terdiri\\n',\n",
       " 'dong\\n',\n",
       " 'dulu\\n',\n",
       " 'enggak\\n',\n",
       " 'enggaknya\\n',\n",
       " 'entah\\n',\n",
       " 'entahlah\\n',\n",
       " 'terhadap\\n',\n",
       " 'terhadapnya\\n',\n",
       " 'hal\\n',\n",
       " 'hampir\\n',\n",
       " 'hanya\\n',\n",
       " 'hanyalah\\n',\n",
       " 'harus\\n',\n",
       " 'haruslah\\n',\n",
       " 'harusnya\\n',\n",
       " 'seharusnya\\n',\n",
       " 'hendak\\n',\n",
       " 'hendaklah\\n',\n",
       " 'hendaknya\\n',\n",
       " 'hingga\\n',\n",
       " 'sehingga\\n',\n",
       " 'ia\\n',\n",
       " 'ialah\\n',\n",
       " 'ibarat\\n',\n",
       " 'ingin\\n',\n",
       " 'inginkah\\n',\n",
       " 'inginkan\\n',\n",
       " 'ini\\n',\n",
       " 'inikah\\n',\n",
       " 'inilah\\n',\n",
       " 'itu\\n',\n",
       " 'itukah\\n',\n",
       " 'itulah\\n',\n",
       " 'jangan\\n',\n",
       " 'jangankan\\n',\n",
       " 'janganlah\\n',\n",
       " 'jika\\n',\n",
       " 'jikalau\\n',\n",
       " 'juga\\n',\n",
       " 'justru\\n',\n",
       " 'kala\\n',\n",
       " 'kalau\\n',\n",
       " 'kalaulah\\n',\n",
       " 'kalaupun\\n',\n",
       " 'kalian\\n',\n",
       " 'kami\\n',\n",
       " 'kamilah\\n',\n",
       " 'kamu\\n',\n",
       " 'kamulah\\n',\n",
       " 'kan\\n',\n",
       " 'kapan\\n',\n",
       " 'kapankah\\n',\n",
       " 'kapanpun\\n',\n",
       " 'dikarenakan\\n',\n",
       " 'karena\\n',\n",
       " 'karenanya\\n',\n",
       " 'ke\\n',\n",
       " 'kecil\\n',\n",
       " 'kemudian\\n',\n",
       " 'kenapa\\n',\n",
       " 'kepada\\n',\n",
       " 'kepadanya\\n',\n",
       " 'ketika\\n',\n",
       " 'seketika\\n',\n",
       " 'khususnya\\n',\n",
       " 'kini\\n',\n",
       " 'kinilah\\n',\n",
       " 'kiranya\\n',\n",
       " 'sekiranya\\n',\n",
       " 'kita\\n',\n",
       " 'kitalah\\n',\n",
       " 'kok\\n',\n",
       " 'lagi\\n',\n",
       " 'lagian\\n',\n",
       " 'selagi\\n',\n",
       " 'lah\\n',\n",
       " 'lain\\n',\n",
       " 'lainnya\\n',\n",
       " 'melainkan\\n',\n",
       " 'selaku\\n',\n",
       " 'lalu\\n',\n",
       " 'melalui\\n',\n",
       " 'terlalu\\n',\n",
       " 'lama\\n',\n",
       " 'lamanya\\n',\n",
       " 'selama\\n',\n",
       " 'selama\\n',\n",
       " 'selamanya\\n',\n",
       " 'lebih\\n',\n",
       " 'terlebih\\n',\n",
       " 'bermacam\\n',\n",
       " 'macam\\n',\n",
       " 'semacam\\n',\n",
       " 'maka\\n',\n",
       " 'makanya\\n',\n",
       " 'makin\\n',\n",
       " 'malah\\n',\n",
       " 'malahan\\n',\n",
       " 'mampu\\n',\n",
       " 'mampukah\\n',\n",
       " 'mana\\n',\n",
       " 'manakala\\n',\n",
       " 'manalagi\\n',\n",
       " 'masih\\n',\n",
       " 'masihkah\\n',\n",
       " 'semasih\\n',\n",
       " 'masing\\n',\n",
       " 'mau\\n',\n",
       " 'maupun\\n',\n",
       " 'semaunya\\n',\n",
       " 'memang\\n',\n",
       " 'mereka\\n',\n",
       " 'merekalah\\n',\n",
       " 'meski\\n',\n",
       " 'meskipun\\n',\n",
       " 'semula\\n',\n",
       " 'mungkin\\n',\n",
       " 'mungkinkah\\n',\n",
       " 'nah\\n',\n",
       " 'namun\\n',\n",
       " 'nanti\\n',\n",
       " 'nantinya\\n',\n",
       " 'nyaris\\n',\n",
       " 'oleh\\n',\n",
       " 'olehnya\\n',\n",
       " 'seorang\\n',\n",
       " 'seseorang\\n',\n",
       " 'pada\\n',\n",
       " 'padanya\\n',\n",
       " 'padahal\\n',\n",
       " 'paling\\n',\n",
       " 'sepanjang\\n',\n",
       " 'pantas\\n',\n",
       " 'sepantasnya\\n',\n",
       " 'sepantasnyalah\\n',\n",
       " 'para\\n',\n",
       " 'pasti\\n',\n",
       " 'pastilah\\n',\n",
       " 'per\\n',\n",
       " 'pernah\\n',\n",
       " 'pula\\n',\n",
       " 'pun\\n',\n",
       " 'merupakan\\n',\n",
       " 'rupanya\\n',\n",
       " 'serupa\\n',\n",
       " 'saat\\n',\n",
       " 'saatnya\\n',\n",
       " 'sesaat\\n',\n",
       " 'saja\\n',\n",
       " 'sajalah\\n',\n",
       " 'saling\\n',\n",
       " 'bersama\\n',\n",
       " 'sama\\n',\n",
       " 'sesama\\n',\n",
       " 'sambil\\n',\n",
       " 'sampai\\n',\n",
       " 'sana\\n',\n",
       " 'sangat\\n',\n",
       " 'sangatlah\\n',\n",
       " 'saya\\n',\n",
       " 'sayalah\\n',\n",
       " 'se\\n',\n",
       " 'sebab\\n',\n",
       " 'sebabnya\\n',\n",
       " 'sebuah\\n',\n",
       " 'tersebut\\n',\n",
       " 'tersebutlah\\n',\n",
       " 'sedang\\n',\n",
       " 'sedangkan\\n',\n",
       " 'sedikit\\n',\n",
       " 'sedikitnya\\n',\n",
       " 'segala\\n',\n",
       " 'segalanya\\n',\n",
       " 'segera\\n',\n",
       " 'sesegera\\n',\n",
       " 'sejak\\n',\n",
       " 'sejenak\\n',\n",
       " 'sekali\\n',\n",
       " 'sekalian\\n',\n",
       " 'sekalipun\\n',\n",
       " 'sesekali\\n',\n",
       " 'sekaligus\\n',\n",
       " 'sekarang\\n',\n",
       " 'sekarang\\n',\n",
       " 'sekitar\\n',\n",
       " 'sekitarnya\\n',\n",
       " 'sela\\n',\n",
       " 'selain\\n',\n",
       " 'selalu\\n',\n",
       " 'seluruh\\n',\n",
       " 'seluruhnya\\n',\n",
       " 'semakin\\n',\n",
       " 'sementara\\n',\n",
       " 'sempat\\n',\n",
       " 'semua\\n',\n",
       " 'semuanya\\n',\n",
       " 'sendiri\\n',\n",
       " 'sendirinya\\n',\n",
       " 'seolah\\n',\n",
       " 'seperti\\n',\n",
       " 'sepertinya\\n',\n",
       " 'sering\\n',\n",
       " 'seringnya\\n',\n",
       " 'serta\\n',\n",
       " 'siapa\\n',\n",
       " 'siapakah\\n',\n",
       " 'siapapun\\n',\n",
       " 'disini\\n',\n",
       " 'disinilah\\n',\n",
       " 'sini\\n',\n",
       " 'sinilah\\n',\n",
       " 'sesuatu\\n',\n",
       " 'sesuatunya\\n',\n",
       " 'suatu\\n',\n",
       " 'sesudah\\n',\n",
       " 'sesudahnya\\n',\n",
       " 'sudah\\n',\n",
       " 'sudahkah\\n',\n",
       " 'sudahlah\\n',\n",
       " 'supaya\\n',\n",
       " 'tadi\\n',\n",
       " 'tadinya\\n',\n",
       " 'tak\\n',\n",
       " 'tanpa\\n',\n",
       " 'setelah\\n',\n",
       " 'telah\\n',\n",
       " 'tentang\\n',\n",
       " 'tentu\\n',\n",
       " 'tentulah\\n',\n",
       " 'tentunya\\n',\n",
       " 'tertentu\\n',\n",
       " 'seterusnya\\n',\n",
       " 'tapi\\n',\n",
       " 'tetapi\\n',\n",
       " 'setiap\\n',\n",
       " 'tiap\\n',\n",
       " 'setidaknya\\n',\n",
       " 'tidak\\n',\n",
       " 'tidakkah\\n',\n",
       " 'tidaklah\\n',\n",
       " 'toh\\n',\n",
       " 'waduh\\n',\n",
       " 'wah\\n',\n",
       " 'wahai\\n',\n",
       " 'sewaktu\\n',\n",
       " 'walau\\n',\n",
       " 'walaupun\\n',\n",
       " 'wong\\n',\n",
       " 'yaitu\\n',\n",
       " 'yakni\\n',\n",
       " 'yang']"
      ]
     },
     "execution_count": 4,
     "metadata": {},
     "output_type": "execute_result"
    }
   ],
   "source": [
    "stopwords"
   ]
  },
  {
   "cell_type": "code",
   "execution_count": 5,
   "metadata": {},
   "outputs": [],
   "source": [
    "from sklearn.feature_extraction.text import CountVectorizer\n",
    "from sklearn.metrics.pairwise import cosine_similarity\n",
    "from IPython.display import display, HTML"
   ]
  },
  {
   "cell_type": "code",
   "execution_count": 6,
   "metadata": {},
   "outputs": [],
   "source": [
    "def cleanData(sentence):\n",
    "    ret = []\n",
    "    sentence = stemmer.stem(sentence)  # Stemming (not defined here)\n",
    "    \n",
    "    for word in sentence.split():\n",
    "        if not word in stopwords:  # Stopword removal (not defined here)\n",
    "            ret.append(word)\n",
    "    \n",
    "    return \" \".join(ret)\n",
    "\n",
    "def getVectorSpace(cleanSet):\n",
    "    vocab = {}\n",
    "    \n",
    "    for data in cleanSet:\n",
    "        for word in data.split():\n",
    "            vocab[data] = 0\n",
    "    \n",
    "    return vocab.keys()\n",
    "\n",
    "def calculateSimilarity(sentence, doc):\n",
    "    if doc == []:\n",
    "        return 0\n",
    "    \n",
    "    vocab = {}\n",
    "    \n",
    "    for word in sentence:\n",
    "        vocab[word] = 0\n",
    "    \n",
    "    docInOneSentence = ''\n",
    "    \n",
    "    for t in doc:\n",
    "        docInOneSentence += (t + ' ')\n",
    "    \n",
    "    for word in t.split():\n",
    "        vocab[word] = 0\n",
    "    \n",
    "    cv = CountVectorizer(vocabulary=vocab.keys())\n",
    "    docVector = cv.fit_transform([docInOneSentence])\n",
    "    sentenceVector = cv.fit_transform([sentence])\n",
    "    \n",
    "    return cosine_similarity(docVector, sentenceVector)[0][0]\n",
    "\n",
    "def cstr(s, color='black'):\n",
    "    return \"<text style=color:{}>{}</text>\".format(color, s)\n",
    "\n",
    "def print_color(t):\n",
    "    display(HTML(' '.join([cstr(ti, color=ci) for ti, ci in t])))"
   ]
  },
  {
   "cell_type": "code",
   "execution_count": 19,
   "metadata": {},
   "outputs": [
    {
     "data": {
      "text/html": [
       "<div>\n",
       "<style scoped>\n",
       "    .dataframe tbody tr th:only-of-type {\n",
       "        vertical-align: middle;\n",
       "    }\n",
       "\n",
       "    .dataframe tbody tr th {\n",
       "        vertical-align: top;\n",
       "    }\n",
       "\n",
       "    .dataframe thead th {\n",
       "        text-align: right;\n",
       "    }\n",
       "</style>\n",
       "<table border=\"1\" class=\"dataframe\">\n",
       "  <thead>\n",
       "    <tr style=\"text-align: right;\">\n",
       "      <th></th>\n",
       "      <th>title</th>\n",
       "      <th>author</th>\n",
       "      <th>category</th>\n",
       "      <th>date</th>\n",
       "      <th>content</th>\n",
       "      <th>link</th>\n",
       "    </tr>\n",
       "  </thead>\n",
       "  <tbody>\n",
       "    <tr>\n",
       "      <th>0</th>\n",
       "      <td>Penonton Jagokan Marc Marquez di Sprint Race M...</td>\n",
       "      <td>Okdwitya Karina Sari</td>\n",
       "      <td>MotoGP</td>\n",
       "      <td>Sabtu, 14 Okt 2023 11:10 WIB</td>\n",
       "      <td>Meski sedang tak oke-oke amat, Marc Marquez ma...</td>\n",
       "      <td>https://sport.detik.com/moto-gp/d-6981885/peno...</td>\n",
       "    </tr>\n",
       "    <tr>\n",
       "      <th>1</th>\n",
       "      <td>Cara Anthony Ginting Balikin Motivasi Usai Gag...</td>\n",
       "      <td>Mercy Raya</td>\n",
       "      <td>Raket</td>\n",
       "      <td>Rabu, 11 Okt 2023 21:45 WIB</td>\n",
       "      <td>Anthony Sinisuka Ginting mengaku sulit move on...</td>\n",
       "      <td>https://sport.detik.com/raket/d-6977523/cara-a...</td>\n",
       "    </tr>\n",
       "    <tr>\n",
       "      <th>2</th>\n",
       "      <td>Hasil Kualifikasi MotoGP Indonesia 2023: Luca ...</td>\n",
       "      <td>Rifqi Ardita Widianto</td>\n",
       "      <td>MotoGP</td>\n",
       "      <td>Sabtu, 14 Okt 2023 10:28 WIB</td>\n",
       "      <td>Luca Marini secara impresif merebut pole posit...</td>\n",
       "      <td>https://sport.detik.com/moto-gp/d-6981874/hasi...</td>\n",
       "    </tr>\n",
       "    <tr>\n",
       "      <th>3</th>\n",
       "      <td>Kisah Fans Diundang Khusus Race Director untuk...</td>\n",
       "      <td>Okdwitya Karina Sari</td>\n",
       "      <td>MotoGP</td>\n",
       "      <td>Sabtu, 14 Okt 2023 12:10 WIB</td>\n",
       "      <td>Bahagia betul Ira (42). Dia dan putranya, Mika...</td>\n",
       "      <td>https://sport.detik.com/moto-gp/d-6981921/kisa...</td>\n",
       "    </tr>\n",
       "    <tr>\n",
       "      <th>4</th>\n",
       "      <td>Ini Seragam Baru Kontingen Indonesia di Asian ...</td>\n",
       "      <td>Mercy Raya</td>\n",
       "      <td>Sport Lain</td>\n",
       "      <td>Sabtu, 14 Okt 2023 11:30 WIB</td>\n",
       "      <td>Kontingen Indonesia yang akan tampil di Asian ...</td>\n",
       "      <td>https://sport.detik.com/sport-lain/d-6981910/i...</td>\n",
       "    </tr>\n",
       "    <tr>\n",
       "      <th>...</th>\n",
       "      <td>...</td>\n",
       "      <td>...</td>\n",
       "      <td>...</td>\n",
       "      <td>...</td>\n",
       "      <td>...</td>\n",
       "      <td>...</td>\n",
       "    </tr>\n",
       "    <tr>\n",
       "      <th>995</th>\n",
       "      <td>Dapat Poin Usai Crash, Alex Marquez: MotoGP Ca...</td>\n",
       "      <td>Lucas Aditya</td>\n",
       "      <td>MotoGP</td>\n",
       "      <td>Senin, 04 Sep 2023 17:30 WIB</td>\n",
       "      <td>Rider Gresini, Alex Marquez, menyebut balapan ...</td>\n",
       "      <td>https://sport.detik.com/moto-gp/d-6912778/dapa...</td>\n",
       "    </tr>\n",
       "    <tr>\n",
       "      <th>996</th>\n",
       "      <td>Jadwal Lengkap China Open 2023, Tunggal Putra ...</td>\n",
       "      <td>Mercy Raya</td>\n",
       "      <td>Raket</td>\n",
       "      <td>Senin, 04 Sep 2023 14:50 WIB</td>\n",
       "      <td>Turnamen bulutangkis China Open 2023 akan dise...</td>\n",
       "      <td>https://sport.detik.com/raket/d-6912459/jadwal...</td>\n",
       "    </tr>\n",
       "    <tr>\n",
       "      <th>997</th>\n",
       "      <td>Rekor! Penonton FIBA World Cup Jakarta Tembus ...</td>\n",
       "      <td>Mercy Raya</td>\n",
       "      <td>Basket</td>\n",
       "      <td>Senin, 04 Sep 2023 15:55 WIB</td>\n",
       "      <td>Penonton FIBA World Cup Jakarta menembus angka...</td>\n",
       "      <td>https://sport.detik.com/basket/d-6912672/rekor...</td>\n",
       "    </tr>\n",
       "    <tr>\n",
       "      <th>998</th>\n",
       "      <td>Kata Dokter Soal Cedera Francesco Bagnaia</td>\n",
       "      <td>detikTV, dtv</td>\n",
       "      <td>Detiktv</td>\n",
       "      <td>Senin, 04 Sep 2023 08:43 WIB</td>\n",
       "      <td>Direktur Medis MotoGP dr. Angel Charte menyebu...</td>\n",
       "      <td>https://sport.detik.com/detiktv/d-6911700/kata...</td>\n",
       "    </tr>\n",
       "    <tr>\n",
       "      <th>999</th>\n",
       "      <td>Qarrar Firhand Ali Finis Ketiga di Rok Super F...</td>\n",
       "      <td>Mohammad Resha Pratama</td>\n",
       "      <td>Sport Lain</td>\n",
       "      <td>Senin, 16 Okt 2023 23:50 WIB</td>\n",
       "      <td>Qarrar Firhand Ali menutup kiprahnya di Rok Su...</td>\n",
       "      <td>https://sport.detik.com/sport-lain/d-6985671/q...</td>\n",
       "    </tr>\n",
       "  </tbody>\n",
       "</table>\n",
       "<p>1000 rows × 6 columns</p>\n",
       "</div>"
      ],
      "text/plain": [
       "                                                 title  \\\n",
       "0    Penonton Jagokan Marc Marquez di Sprint Race M...   \n",
       "1    Cara Anthony Ginting Balikin Motivasi Usai Gag...   \n",
       "2    Hasil Kualifikasi MotoGP Indonesia 2023: Luca ...   \n",
       "3    Kisah Fans Diundang Khusus Race Director untuk...   \n",
       "4    Ini Seragam Baru Kontingen Indonesia di Asian ...   \n",
       "..                                                 ...   \n",
       "995  Dapat Poin Usai Crash, Alex Marquez: MotoGP Ca...   \n",
       "996  Jadwal Lengkap China Open 2023, Tunggal Putra ...   \n",
       "997  Rekor! Penonton FIBA World Cup Jakarta Tembus ...   \n",
       "998          Kata Dokter Soal Cedera Francesco Bagnaia   \n",
       "999  Qarrar Firhand Ali Finis Ketiga di Rok Super F...   \n",
       "\n",
       "                     author    category                          date  \\\n",
       "0      Okdwitya Karina Sari      MotoGP  Sabtu, 14 Okt 2023 11:10 WIB   \n",
       "1                Mercy Raya       Raket   Rabu, 11 Okt 2023 21:45 WIB   \n",
       "2     Rifqi Ardita Widianto      MotoGP  Sabtu, 14 Okt 2023 10:28 WIB   \n",
       "3      Okdwitya Karina Sari      MotoGP  Sabtu, 14 Okt 2023 12:10 WIB   \n",
       "4                Mercy Raya  Sport Lain  Sabtu, 14 Okt 2023 11:30 WIB   \n",
       "..                      ...         ...                           ...   \n",
       "995            Lucas Aditya      MotoGP  Senin, 04 Sep 2023 17:30 WIB   \n",
       "996              Mercy Raya       Raket  Senin, 04 Sep 2023 14:50 WIB   \n",
       "997              Mercy Raya      Basket  Senin, 04 Sep 2023 15:55 WIB   \n",
       "998            detikTV, dtv     Detiktv  Senin, 04 Sep 2023 08:43 WIB   \n",
       "999  Mohammad Resha Pratama  Sport Lain  Senin, 16 Okt 2023 23:50 WIB   \n",
       "\n",
       "                                               content  \\\n",
       "0    Meski sedang tak oke-oke amat, Marc Marquez ma...   \n",
       "1    Anthony Sinisuka Ginting mengaku sulit move on...   \n",
       "2    Luca Marini secara impresif merebut pole posit...   \n",
       "3    Bahagia betul Ira (42). Dia dan putranya, Mika...   \n",
       "4    Kontingen Indonesia yang akan tampil di Asian ...   \n",
       "..                                                 ...   \n",
       "995  Rider Gresini, Alex Marquez, menyebut balapan ...   \n",
       "996  Turnamen bulutangkis China Open 2023 akan dise...   \n",
       "997  Penonton FIBA World Cup Jakarta menembus angka...   \n",
       "998  Direktur Medis MotoGP dr. Angel Charte menyebu...   \n",
       "999  Qarrar Firhand Ali menutup kiprahnya di Rok Su...   \n",
       "\n",
       "                                                  link  \n",
       "0    https://sport.detik.com/moto-gp/d-6981885/peno...  \n",
       "1    https://sport.detik.com/raket/d-6977523/cara-a...  \n",
       "2    https://sport.detik.com/moto-gp/d-6981874/hasi...  \n",
       "3    https://sport.detik.com/moto-gp/d-6981921/kisa...  \n",
       "4    https://sport.detik.com/sport-lain/d-6981910/i...  \n",
       "..                                                 ...  \n",
       "995  https://sport.detik.com/moto-gp/d-6912778/dapa...  \n",
       "996  https://sport.detik.com/raket/d-6912459/jadwal...  \n",
       "997  https://sport.detik.com/basket/d-6912672/rekor...  \n",
       "998  https://sport.detik.com/detiktv/d-6911700/kata...  \n",
       "999  https://sport.detik.com/sport-lain/d-6985671/q...  \n",
       "\n",
       "[1000 rows x 6 columns]"
      ]
     },
     "execution_count": 19,
     "metadata": {},
     "output_type": "execute_result"
    }
   ],
   "source": [
    "dataset = pd.read_csv('../UTS/detik_2023-10-18_08-30-26.csv')\n",
    "dataset"
   ]
  },
  {
   "cell_type": "code",
   "execution_count": 22,
   "metadata": {},
   "outputs": [],
   "source": [
    "feature = dataset.iloc[:,4]"
   ]
  },
  {
   "cell_type": "code",
   "execution_count": 24,
   "metadata": {},
   "outputs": [
    {
     "data": {
      "text/plain": [
       "'Berlian Indah Pinastika/Malika Nur Aqilah menjadi juara Ganda Anak-anak Putri BNI Sirkuit Nasional (Sirnas) B Kepulauan Bangka Belitung 2023 di Pangkalpinang usai mengalahkan Chintya Cahyaningtyas Ayu Widayat/Yemima Febryanti Wijaya.\\nRangkaian partai final digelar di GOR Wijaya, Pangkalpinang, Sabtu (14/10). Salah satunya pasangan Berlian/Malika, sebagai unggulan pertama, yang berhadapan dengan unggulan ketiga Chintya /Yemima. Gelar juara diraih Berlian/Malika dengan kemenangan 21-17, 21-17.\\nDi nomor Tunggal Usia Dini Putri, unggulan ketiga Mikha Ribka Kasalang yang menjadi juaranya setelah melewati partai alot melawan unggulan keempat Avisa Evangeline Anake Setiyabudi. Partai ini tuntas 21-19, 18-21, 22-20.\\nADVERTISEMENT\\nSCROLL TO CONTINUE WITH CONTENT\\nSementara di nomor Tunggal Usia Dini Putri, Revan Adrilleo Saputra selaku unggulan ketiga berhak menyandang gelar juara berkat kemenangan 21-13, 21-16 melawan unggulan kesembilan Adhy Hasmoro.\\n\\nDi Tunggal Pemula Putra, unggulan ketiga Dave Valentino Kurniawan berhasil mengatasi perlawanan unggulan keempat Farel Dwi Prasetya untuk menjadi juara pada nomor tersebut.\\nSedangkan di final Ganda Anak-anak Putra ada unggulan ketiga Athaya Affan Zaidan/Raynanda Laksmana yang mengalahkan unggulan kedua Anandirga Triadi/Richardo Regino Mozes Munde dengan 21-9, 21-17.\\nBNI Sirnas B mempertandingkan kelompok usia dini (U-11), anak-anak (U-13), dan pemula (U-15). Ada 10 nomor yang dimainkan yakni Tunggal Anak-Anak Putra (TAPA), Tunggal Anak-Anak Putri (TAPI), Ganda Anak-Anak Putra (GAPA), Ganda Anak-Anak Putri (GAPI), Tunggal Pemula Putra (TPA), Tunggal Pemula Putri (TPI), Ganda Pemula Putra (GPA), Ganda Pemula Putri (GPI), Tunggal Usia Dini Putra (UDPA/TUDA), dan Tunggal Usia Dini Putri (UDPI/TUDI).\\nAjang BNI Sirnas 2023 sendiri merupakan turnamen bulutangkis berskala nasional yang menjadi ajang unjuk gigi para pebulutangkis muda potensial. Gelaran itu sekaligus menjadi tolak ukur pembinaan bulutangkis nasional sekaligus ajang buat para atlet dalam menjaring poin nasional dan pematangan atlet-atlet muda potensial.\\nSimak rangkuman informasi BNI Sirkuit Nasional 2023 selengkapnya di halaman khusus berikut ini!\\n'"
      ]
     },
     "execution_count": 24,
     "metadata": {},
     "output_type": "execute_result"
    }
   ],
   "source": [
    "feature[10]"
   ]
  },
  {
   "cell_type": "markdown",
   "metadata": {},
   "source": [
    "Tokenisasi Kalimat Langkah ini adalah untuk melakukan tokenisasi kalimat dari data teks\n",
    "Bahasa Indonesia yang telah didefinisikan dan akan digunakan dalam proses pemrosesan teks."
   ]
  },
  {
   "cell_type": "code",
   "execution_count": 25,
   "metadata": {},
   "outputs": [],
   "source": [
    "nlp = spacy.load(\"id_nusantara\")"
   ]
  },
  {
   "cell_type": "code",
   "execution_count": 26,
   "metadata": {},
   "outputs": [],
   "source": [
    "doc = nlp(feature[10])"
   ]
  },
  {
   "cell_type": "code",
   "execution_count": 27,
   "metadata": {},
   "outputs": [],
   "source": [
    "sentences = []\n",
    "clean = []\n",
    "originalSentenceOf = {}\n",
    "\n",
    "for sent in doc.sents:\n",
    "    if '\\n' not in sent.text:\n",
    "        cl = cleanData(sent.text)\n",
    "        sentences.append(sent.text)\n",
    "        clean.append(cl)\n",
    "        originalSentenceOf[cl] = sent.text\n",
    "\n",
    "setClean = set(clean)\n"
   ]
  },
  {
   "cell_type": "code",
   "execution_count": 28,
   "metadata": {},
   "outputs": [
    {
     "data": {
      "text/plain": [
       "['Berlian Indah Pinastika/Malika Nur Aqilah menjadi juara Ganda Anak-anak Putri BNI Sirkuit Nasional (Sirnas) B Kepulauan Bangka Belitung 2023 di Pangkalpinang usai mengalahkan Chintya Cahyaningtyas Ayu Widayat/Yemima Febryanti Wijaya.',\n",
       " 'Salah satunya pasangan Berlian/Malika, sebagai unggulan pertama, yang berhadapan dengan unggulan ketiga Chintya /Yemima.',\n",
       " 'Gelar juara diraih Berlian/Malika dengan kemenangan 21-17, 21-17.',\n",
       " 'Partai ini tuntas 21-19, 18-21, 22-20.',\n",
       " 'Ada 10 nomor yang dimainkan yakni Tunggal Anak-Anak Putra (TAPA), Tunggal Anak-Anak Putri (TAPI), Ganda Anak-Anak Putra (GAPA), Ganda Anak-Anak Putri (GAPI), Tunggal Pemula Putra (TPA), Tunggal Pemula Putri (TPI), Ganda Pemula Putra (GPA), Ganda Pemula Putri (GPI), Tunggal Usia Dini Putra (UDPA/TUDA), dan Tunggal Usia Dini Putri (UDPI/TUDI).',\n",
       " 'Gelaran itu sekaligus menjadi tolak ukur pembinaan bulutangkis nasional sekaligus ajang buat para atlet dalam menjaring poin nasional dan pematangan atlet-atlet muda potensial.']"
      ]
     },
     "execution_count": 28,
     "metadata": {},
     "output_type": "execute_result"
    }
   ],
   "source": [
    "sentences"
   ]
  },
  {
   "cell_type": "markdown",
   "metadata": {},
   "source": [
    "Similarity and MMR Calculation"
   ]
  },
  {
   "cell_type": "code",
   "execution_count": 29,
   "metadata": {},
   "outputs": [],
   "source": [
    "scores = {}\n",
    "for data in clean:\n",
    "    temp_doc = setClean - set([data])\n",
    "    score = calculateSimilarity(data, list(temp_doc))\n",
    "    scores[data] = score\n",
    "\n",
    "n = 20 * len(sentences) / 100\n",
    "alpha = 0.5\n",
    "summarySet = []\n",
    "\n",
    "while n > 0:\n",
    "    mmr = {}\n",
    "    \n",
    "    for sentence in scores.keys():\n",
    "        if not sentence in summarySet:\n",
    "            mmr[sentence] = alpha * scores[sentence] - (1 - alpha) * calculateSimilarity(sentence, summarySet)\n",
    "    \n",
    "    selected = max(mmr.items(), key=operator.itemgetter(1))[0]\n",
    "    summarySet.append(selected)\n",
    "    n -= 1\n"
   ]
  },
  {
   "cell_type": "code",
   "execution_count": 30,
   "metadata": {},
   "outputs": [
    {
     "name": "stdout",
     "output_type": "stream",
     "text": [
      "Ringkasan Artikel:\n",
      "\n",
      "Salah satunya pasangan Berlian/Malika, sebagai unggulan pertama, yang berhadapan dengan unggulan ketiga Chintya /Yemima.\n",
      "\n",
      "Gelar juara diraih Berlian/Malika dengan kemenangan 21-17, 21-17.\n",
      "\n"
     ]
    }
   ],
   "source": [
    "print('Ringkasan Artikel:\\n')\n",
    "\n",
    "for sentence in summarySet:\n",
    "    print(originalSentenceOf[sentence].lstrip(' '))\n",
    "    print()\n"
   ]
  },
  {
   "cell_type": "code",
   "execution_count": 31,
   "metadata": {},
   "outputs": [
    {
     "data": {
      "text/plain": [
       "[('salah satu pasang berlian malika bagai unggul pertama hadap dengan unggul tiga chintya yemima',\n",
       "  0.6622661785325219),\n",
       " ('berlian indah pinastika malika nur aqilah jadi juara ganda anak putri bni sirkuit nasional sirnas b pulau bangka belitung 2023 di pangkalpinang usai kalah chintya cahyaningtyas ayu widayat yemima febryanti wijaya',\n",
       "  0.6),\n",
       " ('gelar juara raih berlian malika dengan menang 21-17 21-17',\n",
       "  0.545544725589981),\n",
       " ('partai ini tuntas 21-19 18-21 22-20', 0.0),\n",
       " ('ada 10 nomor main yakni tunggal anak putra tapa tunggal anak putri tapi ganda anak putra gapa ganda anak putri gap tunggal mula putra tpa tunggal mula putri tpi ganda mula putra gpa ganda mula putri gpi tunggal usia dini putra udpa tuda dan tunggal usia dini putri udpi tudi',\n",
       "  0.0),\n",
       " ('gelar itu sekaligus jadi tolak ukur bina bulutangkis nasional sekaligus ajang buat para atlet dalam jaring poin nasional dan pematang atlet muda potensial',\n",
       "  0.0)]"
      ]
     },
     "execution_count": 31,
     "metadata": {},
     "output_type": "execute_result"
    }
   ],
   "source": [
    "sentence_score_sorted = sorted(scores.items(), key=lambda x:x[1], reverse=True)\n",
    "sentence_score_sorted"
   ]
  },
  {
   "cell_type": "code",
   "execution_count": 32,
   "metadata": {},
   "outputs": [
    {
     "name": "stdout",
     "output_type": "stream",
     "text": [
      "=============================================================\n",
      "\n",
      "Artikel sebenarnya:\n",
      "\n"
     ]
    },
    {
     "data": {
      "text/html": [
       "<text style=color:black>Berlian Indah Pinastika/Malika Nur Aqilah menjadi juara Ganda Anak-anak Putri BNI Sirkuit Nasional (Sirnas) B Kepulauan Bangka Belitung 2023 di Pangkalpinang usai mengalahkan Chintya Cahyaningtyas Ayu Widayat/Yemima Febryanti Wijaya.</text>"
      ],
      "text/plain": [
       "<IPython.core.display.HTML object>"
      ]
     },
     "metadata": {},
     "output_type": "display_data"
    },
    {
     "data": {
      "text/html": [
       "<text style=color:green>Salah satunya pasangan Berlian/Malika, sebagai unggulan pertama, yang berhadapan dengan unggulan ketiga Chintya /Yemima.</text>"
      ],
      "text/plain": [
       "<IPython.core.display.HTML object>"
      ]
     },
     "metadata": {},
     "output_type": "display_data"
    },
    {
     "data": {
      "text/html": [
       "<text style=color:green>Gelar juara diraih Berlian/Malika dengan kemenangan 21-17, 21-17.</text>"
      ],
      "text/plain": [
       "<IPython.core.display.HTML object>"
      ]
     },
     "metadata": {},
     "output_type": "display_data"
    },
    {
     "data": {
      "text/html": [
       "<text style=color:black>Partai ini tuntas 21-19, 18-21, 22-20.</text>"
      ],
      "text/plain": [
       "<IPython.core.display.HTML object>"
      ]
     },
     "metadata": {},
     "output_type": "display_data"
    },
    {
     "data": {
      "text/html": [
       "<text style=color:black>Ada 10 nomor yang dimainkan yakni Tunggal Anak-Anak Putra (TAPA), Tunggal Anak-Anak Putri (TAPI), Ganda Anak-Anak Putra (GAPA), Ganda Anak-Anak Putri (GAPI), Tunggal Pemula Putra (TPA), Tunggal Pemula Putri (TPI), Ganda Pemula Putra (GPA), Ganda Pemula Putri (GPI), Tunggal Usia Dini Putra (UDPA/TUDA), dan Tunggal Usia Dini Putri (UDPI/TUDI).</text>"
      ],
      "text/plain": [
       "<IPython.core.display.HTML object>"
      ]
     },
     "metadata": {},
     "output_type": "display_data"
    },
    {
     "data": {
      "text/html": [
       "<text style=color:black>Gelaran itu sekaligus menjadi tolak ukur pembinaan bulutangkis nasional sekaligus ajang buat para atlet dalam menjaring poin nasional dan pematangan atlet-atlet muda potensial.</text>"
      ],
      "text/plain": [
       "<IPython.core.display.HTML object>"
      ]
     },
     "metadata": {},
     "output_type": "display_data"
    }
   ],
   "source": [
    "print('=============================================================')\n",
    "print('\\nArtikel sebenarnya:\\n')\n",
    "\n",
    "for sentence in clean:\n",
    "    if sentence in summarySet:\n",
    "        print_color(((originalSentenceOf[sentence].lstrip(' '), 'green'),))\n",
    "    else:\n",
    "        print_color(((originalSentenceOf[sentence].lstrip(' '), 'black'),))\n"
   ]
  },
  {
   "cell_type": "code",
   "execution_count": null,
   "metadata": {},
   "outputs": [],
   "source": []
  }
 ],
 "metadata": {
  "kernelspec": {
   "display_name": "base",
   "language": "python",
   "name": "python3"
  },
  "language_info": {
   "codemirror_mode": {
    "name": "ipython",
    "version": 3
   },
   "file_extension": ".py",
   "mimetype": "text/x-python",
   "name": "python",
   "nbconvert_exporter": "python",
   "pygments_lexer": "ipython3",
   "version": "3.11.5"
  }
 },
 "nbformat": 4,
 "nbformat_minor": 2
}
