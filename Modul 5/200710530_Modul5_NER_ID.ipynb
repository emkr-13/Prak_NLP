{
 "cells": [
  {
   "cell_type": "markdown",
   "metadata": {},
   "source": [
    "## pba-modul5-building-ner-tagger-using-pycrfsuite"
   ]
  },
  {
   "cell_type": "code",
   "execution_count": 2,
   "metadata": {},
   "outputs": [
    {
     "name": "stdout",
     "output_type": "stream",
     "text": [
      "<class 'pandas.core.frame.DataFrame'>\n",
      "RangeIndex: 96274 entries, 0 to 96273\n",
      "Data columns (total 2 columns):\n",
      " #   Column  Non-Null Count  Dtype \n",
      "---  ------  --------------  ----- \n",
      " 0   word    92184 non-null  object\n",
      " 1   pos     92186 non-null  object\n",
      "dtypes: object(2)\n",
      "memory usage: 1.5+ MB\n"
     ]
    }
   ],
   "source": [
    "import pandas as pd\n",
    "dfpos = pd.read_csv('train_pos.txt', sep='\\t', skip_blank_lines=False,encoding='ISO-8859-1')\n",
    "dfpos.info()"
   ]
  },
  {
   "cell_type": "code",
   "execution_count": 3,
   "metadata": {},
   "outputs": [
    {
     "data": {
      "text/plain": [
       "(96274, 2)"
      ]
     },
     "execution_count": 3,
     "metadata": {},
     "output_type": "execute_result"
    }
   ],
   "source": [
    "dfpos.shape"
   ]
  },
  {
   "cell_type": "code",
   "execution_count": 4,
   "metadata": {},
   "outputs": [
    {
     "name": "stdout",
     "output_type": "stream",
     "text": [
      "<class 'pandas.core.frame.DataFrame'>\n",
      "RangeIndex: 96274 entries, 0 to 96273\n",
      "Data columns (total 2 columns):\n",
      " #   Column  Non-Null Count  Dtype \n",
      "---  ------  --------------  ----- \n",
      " 0   word    92184 non-null  object\n",
      " 1   tag     92186 non-null  object\n",
      "dtypes: object(2)\n",
      "memory usage: 1.5+ MB\n"
     ]
    }
   ],
   "source": [
    "dfner = pd.read_csv('train_ner.txt', sep='\\t', skip_blank_lines=False,encoding='ISO-8859-1')\n",
    "dfner.info()"
   ]
  },
  {
   "cell_type": "code",
   "execution_count": 5,
   "metadata": {},
   "outputs": [
    {
     "data": {
      "text/plain": [
       "(96274, 2)"
      ]
     },
     "execution_count": 5,
     "metadata": {},
     "output_type": "execute_result"
    }
   ],
   "source": [
    "dfner.shape"
   ]
  },
  {
   "cell_type": "code",
   "execution_count": 6,
   "metadata": {},
   "outputs": [],
   "source": [
    "df = pd.merge(dfpos, dfner,left_index=True,right_index=True, how=\"left\")"
   ]
  },
  {
   "cell_type": "code",
   "execution_count": 7,
   "metadata": {},
   "outputs": [
    {
     "data": {
      "text/plain": [
       "(96274, 4)"
      ]
     },
     "execution_count": 7,
     "metadata": {},
     "output_type": "execute_result"
    }
   ],
   "source": [
    "df.shape"
   ]
  },
  {
   "cell_type": "code",
   "execution_count": 8,
   "metadata": {},
   "outputs": [
    {
     "data": {
      "text/html": [
       "<div>\n",
       "<style scoped>\n",
       "    .dataframe tbody tr th:only-of-type {\n",
       "        vertical-align: middle;\n",
       "    }\n",
       "\n",
       "    .dataframe tbody tr th {\n",
       "        vertical-align: top;\n",
       "    }\n",
       "\n",
       "    .dataframe thead th {\n",
       "        text-align: right;\n",
       "    }\n",
       "</style>\n",
       "<table border=\"1\" class=\"dataframe\">\n",
       "  <thead>\n",
       "    <tr style=\"text-align: right;\">\n",
       "      <th></th>\n",
       "      <th>word_x</th>\n",
       "      <th>pos</th>\n",
       "      <th>word_y</th>\n",
       "      <th>tag</th>\n",
       "    </tr>\n",
       "  </thead>\n",
       "  <tbody>\n",
       "    <tr>\n",
       "      <th>0</th>\n",
       "      <td>kepala</td>\n",
       "      <td>B-NNO</td>\n",
       "      <td>kepala</td>\n",
       "      <td>O</td>\n",
       "    </tr>\n",
       "    <tr>\n",
       "      <th>1</th>\n",
       "      <td>dinas</td>\n",
       "      <td>B-VBP</td>\n",
       "      <td>dinas</td>\n",
       "      <td>O</td>\n",
       "    </tr>\n",
       "    <tr>\n",
       "      <th>2</th>\n",
       "      <td>tata</td>\n",
       "      <td>B-NNO</td>\n",
       "      <td>tata</td>\n",
       "      <td>O</td>\n",
       "    </tr>\n",
       "    <tr>\n",
       "      <th>3</th>\n",
       "      <td>kota</td>\n",
       "      <td>B-NNO</td>\n",
       "      <td>kota</td>\n",
       "      <td>O</td>\n",
       "    </tr>\n",
       "    <tr>\n",
       "      <th>4</th>\n",
       "      <td>manado</td>\n",
       "      <td>B-NNP</td>\n",
       "      <td>manado</td>\n",
       "      <td>B-PLC</td>\n",
       "    </tr>\n",
       "  </tbody>\n",
       "</table>\n",
       "</div>"
      ],
      "text/plain": [
       "   word_x    pos  word_y    tag\n",
       "0  kepala  B-NNO  kepala      O\n",
       "1   dinas  B-VBP   dinas      O\n",
       "2    tata  B-NNO    tata      O\n",
       "3    kota  B-NNO    kota      O\n",
       "4  manado  B-NNP  manado  B-PLC"
      ]
     },
     "execution_count": 8,
     "metadata": {},
     "output_type": "execute_result"
    }
   ],
   "source": [
    "df.head()"
   ]
  },
  {
   "cell_type": "code",
   "execution_count": 9,
   "metadata": {},
   "outputs": [],
   "source": [
    "df = df.drop(['word_y'], axis=1)"
   ]
  },
  {
   "cell_type": "code",
   "execution_count": 10,
   "metadata": {},
   "outputs": [
    {
     "data": {
      "text/html": [
       "<div>\n",
       "<style scoped>\n",
       "    .dataframe tbody tr th:only-of-type {\n",
       "        vertical-align: middle;\n",
       "    }\n",
       "\n",
       "    .dataframe tbody tr th {\n",
       "        vertical-align: top;\n",
       "    }\n",
       "\n",
       "    .dataframe thead th {\n",
       "        text-align: right;\n",
       "    }\n",
       "</style>\n",
       "<table border=\"1\" class=\"dataframe\">\n",
       "  <thead>\n",
       "    <tr style=\"text-align: right;\">\n",
       "      <th></th>\n",
       "      <th>word_x</th>\n",
       "      <th>pos</th>\n",
       "      <th>tag</th>\n",
       "    </tr>\n",
       "  </thead>\n",
       "  <tbody>\n",
       "    <tr>\n",
       "      <th>0</th>\n",
       "      <td>kepala</td>\n",
       "      <td>B-NNO</td>\n",
       "      <td>O</td>\n",
       "    </tr>\n",
       "    <tr>\n",
       "      <th>1</th>\n",
       "      <td>dinas</td>\n",
       "      <td>B-VBP</td>\n",
       "      <td>O</td>\n",
       "    </tr>\n",
       "    <tr>\n",
       "      <th>2</th>\n",
       "      <td>tata</td>\n",
       "      <td>B-NNO</td>\n",
       "      <td>O</td>\n",
       "    </tr>\n",
       "    <tr>\n",
       "      <th>3</th>\n",
       "      <td>kota</td>\n",
       "      <td>B-NNO</td>\n",
       "      <td>O</td>\n",
       "    </tr>\n",
       "    <tr>\n",
       "      <th>4</th>\n",
       "      <td>manado</td>\n",
       "      <td>B-NNP</td>\n",
       "      <td>B-PLC</td>\n",
       "    </tr>\n",
       "  </tbody>\n",
       "</table>\n",
       "</div>"
      ],
      "text/plain": [
       "   word_x    pos    tag\n",
       "0  kepala  B-NNO      O\n",
       "1   dinas  B-VBP      O\n",
       "2    tata  B-NNO      O\n",
       "3    kota  B-NNO      O\n",
       "4  manado  B-NNP  B-PLC"
      ]
     },
     "execution_count": 10,
     "metadata": {},
     "output_type": "execute_result"
    }
   ],
   "source": [
    "df.head()"
   ]
  },
  {
   "cell_type": "code",
   "execution_count": 11,
   "metadata": {},
   "outputs": [
    {
     "data": {
      "text/plain": [
       "(15465, 26, 11)"
      ]
     },
     "execution_count": 11,
     "metadata": {},
     "output_type": "execute_result"
    }
   ],
   "source": [
    "df.word_x.nunique(), df.pos.nunique(), df.tag.nunique()"
   ]
  },
  {
   "cell_type": "markdown",
   "metadata": {},
   "source": [
    "1.2 Tag Distribution"
   ]
  },
  {
   "cell_type": "code",
   "execution_count": 12,
   "metadata": {},
   "outputs": [
    {
     "data": {
      "text/plain": [
       "tag\n",
       "O        78436\n",
       "B-PPL     2960\n",
       "B-PLC     2592\n",
       "B-IND     1824\n",
       "I-PPL     1719\n",
       "I-IND     1337\n",
       "I-PLC     1170\n",
       "I-EVT      994\n",
       "B-EVT      624\n",
       "B-FNB      345\n",
       "I-FNB      185\n",
       "Name: count, dtype: int64"
      ]
     },
     "execution_count": 12,
     "metadata": {},
     "output_type": "execute_result"
    }
   ],
   "source": [
    "df.tag.value_counts()"
   ]
  },
  {
   "cell_type": "code",
   "execution_count": 13,
   "metadata": {},
   "outputs": [
    {
     "data": {
      "text/html": [
       "<div>\n",
       "<style scoped>\n",
       "    .dataframe tbody tr th:only-of-type {\n",
       "        vertical-align: middle;\n",
       "    }\n",
       "\n",
       "    .dataframe tbody tr th {\n",
       "        vertical-align: top;\n",
       "    }\n",
       "\n",
       "    .dataframe thead th {\n",
       "        text-align: right;\n",
       "    }\n",
       "</style>\n",
       "<table border=\"1\" class=\"dataframe\">\n",
       "  <thead>\n",
       "    <tr style=\"text-align: right;\">\n",
       "      <th></th>\n",
       "      <th>word_x</th>\n",
       "      <th>pos</th>\n",
       "      <th>tag</th>\n",
       "    </tr>\n",
       "  </thead>\n",
       "  <tbody>\n",
       "    <tr>\n",
       "      <th>0</th>\n",
       "      <td>kepala</td>\n",
       "      <td>B-NNO</td>\n",
       "      <td>O</td>\n",
       "    </tr>\n",
       "    <tr>\n",
       "      <th>1</th>\n",
       "      <td>dinas</td>\n",
       "      <td>B-VBP</td>\n",
       "      <td>O</td>\n",
       "    </tr>\n",
       "    <tr>\n",
       "      <th>2</th>\n",
       "      <td>tata</td>\n",
       "      <td>B-NNO</td>\n",
       "      <td>O</td>\n",
       "    </tr>\n",
       "    <tr>\n",
       "      <th>3</th>\n",
       "      <td>kota</td>\n",
       "      <td>B-NNO</td>\n",
       "      <td>O</td>\n",
       "    </tr>\n",
       "    <tr>\n",
       "      <th>4</th>\n",
       "      <td>manado</td>\n",
       "      <td>B-NNP</td>\n",
       "      <td>B-PLC</td>\n",
       "    </tr>\n",
       "    <tr>\n",
       "      <th>5</th>\n",
       "      <td>amos</td>\n",
       "      <td>B-NNP</td>\n",
       "      <td>B-PPL</td>\n",
       "    </tr>\n",
       "    <tr>\n",
       "      <th>6</th>\n",
       "      <td>kenda</td>\n",
       "      <td>B-NNP</td>\n",
       "      <td>I-PPL</td>\n",
       "    </tr>\n",
       "    <tr>\n",
       "      <th>7</th>\n",
       "      <td>menyatakan</td>\n",
       "      <td>B-VBT</td>\n",
       "      <td>O</td>\n",
       "    </tr>\n",
       "    <tr>\n",
       "      <th>8</th>\n",
       "      <td>tidak</td>\n",
       "      <td>B-NEG</td>\n",
       "      <td>O</td>\n",
       "    </tr>\n",
       "    <tr>\n",
       "      <th>9</th>\n",
       "      <td>tahu</td>\n",
       "      <td>B-VBI</td>\n",
       "      <td>O</td>\n",
       "    </tr>\n",
       "    <tr>\n",
       "      <th>10</th>\n",
       "      <td>-</td>\n",
       "      <td>B-SYM</td>\n",
       "      <td>O</td>\n",
       "    </tr>\n",
       "    <tr>\n",
       "      <th>11</th>\n",
       "      <td>menahu</td>\n",
       "      <td>B-VBT</td>\n",
       "      <td>O</td>\n",
       "    </tr>\n",
       "    <tr>\n",
       "      <th>12</th>\n",
       "      <td>soal</td>\n",
       "      <td>B-NNO</td>\n",
       "      <td>O</td>\n",
       "    </tr>\n",
       "    <tr>\n",
       "      <th>13</th>\n",
       "      <td>pencabutan</td>\n",
       "      <td>B-NNO</td>\n",
       "      <td>O</td>\n",
       "    </tr>\n",
       "    <tr>\n",
       "      <th>14</th>\n",
       "      <td>baliho</td>\n",
       "      <td>B-NNO</td>\n",
       "      <td>O</td>\n",
       "    </tr>\n",
       "    <tr>\n",
       "      <th>15</th>\n",
       "      <td>.</td>\n",
       "      <td>B-SYM</td>\n",
       "      <td>O</td>\n",
       "    </tr>\n",
       "    <tr>\n",
       "      <th>16</th>\n",
       "      <td>ia</td>\n",
       "      <td>B-PRN</td>\n",
       "      <td>O</td>\n",
       "    </tr>\n",
       "    <tr>\n",
       "      <th>17</th>\n",
       "      <td>enggan</td>\n",
       "      <td>B-ADV</td>\n",
       "      <td>O</td>\n",
       "    </tr>\n",
       "    <tr>\n",
       "      <th>18</th>\n",
       "      <td>berkomentar</td>\n",
       "      <td>B-VBI</td>\n",
       "      <td>O</td>\n",
       "    </tr>\n",
       "    <tr>\n",
       "      <th>19</th>\n",
       "      <td>banyak</td>\n",
       "      <td>B-KUA</td>\n",
       "      <td>O</td>\n",
       "    </tr>\n",
       "    <tr>\n",
       "      <th>20</th>\n",
       "      <td>karena</td>\n",
       "      <td>B-CSN</td>\n",
       "      <td>O</td>\n",
       "    </tr>\n",
       "    <tr>\n",
       "      <th>21</th>\n",
       "      <td>merasa</td>\n",
       "      <td>B-VBT</td>\n",
       "      <td>O</td>\n",
       "    </tr>\n",
       "    <tr>\n",
       "      <th>22</th>\n",
       "      <td>bukan</td>\n",
       "      <td>B-NEG</td>\n",
       "      <td>O</td>\n",
       "    </tr>\n",
       "    <tr>\n",
       "      <th>23</th>\n",
       "      <td>kewenangannya</td>\n",
       "      <td>B-NNO</td>\n",
       "      <td>O</td>\n",
       "    </tr>\n",
       "    <tr>\n",
       "      <th>24</th>\n",
       "      <td>.</td>\n",
       "      <td>B-SYM</td>\n",
       "      <td>O</td>\n",
       "    </tr>\n",
       "    <tr>\n",
       "      <th>25</th>\n",
       "      <td>NaN</td>\n",
       "      <td>NaN</td>\n",
       "      <td>NaN</td>\n",
       "    </tr>\n",
       "    <tr>\n",
       "      <th>26</th>\n",
       "      <td>di</td>\n",
       "      <td>B-PPO</td>\n",
       "      <td>O</td>\n",
       "    </tr>\n",
       "    <tr>\n",
       "      <th>27</th>\n",
       "      <td>antara</td>\n",
       "      <td>B-PPO</td>\n",
       "      <td>O</td>\n",
       "    </tr>\n",
       "  </tbody>\n",
       "</table>\n",
       "</div>"
      ],
      "text/plain": [
       "           word_x    pos    tag\n",
       "0          kepala  B-NNO      O\n",
       "1           dinas  B-VBP      O\n",
       "2            tata  B-NNO      O\n",
       "3            kota  B-NNO      O\n",
       "4          manado  B-NNP  B-PLC\n",
       "5            amos  B-NNP  B-PPL\n",
       "6           kenda  B-NNP  I-PPL\n",
       "7      menyatakan  B-VBT      O\n",
       "8           tidak  B-NEG      O\n",
       "9            tahu  B-VBI      O\n",
       "10              -  B-SYM      O\n",
       "11         menahu  B-VBT      O\n",
       "12           soal  B-NNO      O\n",
       "13     pencabutan  B-NNO      O\n",
       "14         baliho  B-NNO      O\n",
       "15              .  B-SYM      O\n",
       "16             ia  B-PRN      O\n",
       "17         enggan  B-ADV      O\n",
       "18    berkomentar  B-VBI      O\n",
       "19         banyak  B-KUA      O\n",
       "20         karena  B-CSN      O\n",
       "21         merasa  B-VBT      O\n",
       "22          bukan  B-NEG      O\n",
       "23  kewenangannya  B-NNO      O\n",
       "24              .  B-SYM      O\n",
       "25            NaN    NaN    NaN\n",
       "26             di  B-PPO      O\n",
       "27         antara  B-PPO      O"
      ]
     },
     "execution_count": 13,
     "metadata": {},
     "output_type": "execute_result"
    }
   ],
   "source": [
    "df.head(28)"
   ]
  },
  {
   "cell_type": "code",
   "execution_count": 14,
   "metadata": {},
   "outputs": [],
   "source": [
    "df['sentence'] = df.isnull().all(axis=1).cumsum()"
   ]
  },
  {
   "cell_type": "code",
   "execution_count": 15,
   "metadata": {},
   "outputs": [
    {
     "data": {
      "text/html": [
       "<div>\n",
       "<style scoped>\n",
       "    .dataframe tbody tr th:only-of-type {\n",
       "        vertical-align: middle;\n",
       "    }\n",
       "\n",
       "    .dataframe tbody tr th {\n",
       "        vertical-align: top;\n",
       "    }\n",
       "\n",
       "    .dataframe thead th {\n",
       "        text-align: right;\n",
       "    }\n",
       "</style>\n",
       "<table border=\"1\" class=\"dataframe\">\n",
       "  <thead>\n",
       "    <tr style=\"text-align: right;\">\n",
       "      <th></th>\n",
       "      <th>word_x</th>\n",
       "      <th>pos</th>\n",
       "      <th>tag</th>\n",
       "      <th>sentence</th>\n",
       "    </tr>\n",
       "  </thead>\n",
       "  <tbody>\n",
       "    <tr>\n",
       "      <th>0</th>\n",
       "      <td>kepala</td>\n",
       "      <td>B-NNO</td>\n",
       "      <td>O</td>\n",
       "      <td>0</td>\n",
       "    </tr>\n",
       "    <tr>\n",
       "      <th>1</th>\n",
       "      <td>dinas</td>\n",
       "      <td>B-VBP</td>\n",
       "      <td>O</td>\n",
       "      <td>0</td>\n",
       "    </tr>\n",
       "    <tr>\n",
       "      <th>2</th>\n",
       "      <td>tata</td>\n",
       "      <td>B-NNO</td>\n",
       "      <td>O</td>\n",
       "      <td>0</td>\n",
       "    </tr>\n",
       "    <tr>\n",
       "      <th>3</th>\n",
       "      <td>kota</td>\n",
       "      <td>B-NNO</td>\n",
       "      <td>O</td>\n",
       "      <td>0</td>\n",
       "    </tr>\n",
       "    <tr>\n",
       "      <th>4</th>\n",
       "      <td>manado</td>\n",
       "      <td>B-NNP</td>\n",
       "      <td>B-PLC</td>\n",
       "      <td>0</td>\n",
       "    </tr>\n",
       "    <tr>\n",
       "      <th>5</th>\n",
       "      <td>amos</td>\n",
       "      <td>B-NNP</td>\n",
       "      <td>B-PPL</td>\n",
       "      <td>0</td>\n",
       "    </tr>\n",
       "    <tr>\n",
       "      <th>6</th>\n",
       "      <td>kenda</td>\n",
       "      <td>B-NNP</td>\n",
       "      <td>I-PPL</td>\n",
       "      <td>0</td>\n",
       "    </tr>\n",
       "    <tr>\n",
       "      <th>7</th>\n",
       "      <td>menyatakan</td>\n",
       "      <td>B-VBT</td>\n",
       "      <td>O</td>\n",
       "      <td>0</td>\n",
       "    </tr>\n",
       "    <tr>\n",
       "      <th>8</th>\n",
       "      <td>tidak</td>\n",
       "      <td>B-NEG</td>\n",
       "      <td>O</td>\n",
       "      <td>0</td>\n",
       "    </tr>\n",
       "    <tr>\n",
       "      <th>9</th>\n",
       "      <td>tahu</td>\n",
       "      <td>B-VBI</td>\n",
       "      <td>O</td>\n",
       "      <td>0</td>\n",
       "    </tr>\n",
       "    <tr>\n",
       "      <th>10</th>\n",
       "      <td>-</td>\n",
       "      <td>B-SYM</td>\n",
       "      <td>O</td>\n",
       "      <td>0</td>\n",
       "    </tr>\n",
       "    <tr>\n",
       "      <th>11</th>\n",
       "      <td>menahu</td>\n",
       "      <td>B-VBT</td>\n",
       "      <td>O</td>\n",
       "      <td>0</td>\n",
       "    </tr>\n",
       "    <tr>\n",
       "      <th>12</th>\n",
       "      <td>soal</td>\n",
       "      <td>B-NNO</td>\n",
       "      <td>O</td>\n",
       "      <td>0</td>\n",
       "    </tr>\n",
       "    <tr>\n",
       "      <th>13</th>\n",
       "      <td>pencabutan</td>\n",
       "      <td>B-NNO</td>\n",
       "      <td>O</td>\n",
       "      <td>0</td>\n",
       "    </tr>\n",
       "    <tr>\n",
       "      <th>14</th>\n",
       "      <td>baliho</td>\n",
       "      <td>B-NNO</td>\n",
       "      <td>O</td>\n",
       "      <td>0</td>\n",
       "    </tr>\n",
       "    <tr>\n",
       "      <th>15</th>\n",
       "      <td>.</td>\n",
       "      <td>B-SYM</td>\n",
       "      <td>O</td>\n",
       "      <td>0</td>\n",
       "    </tr>\n",
       "    <tr>\n",
       "      <th>16</th>\n",
       "      <td>ia</td>\n",
       "      <td>B-PRN</td>\n",
       "      <td>O</td>\n",
       "      <td>0</td>\n",
       "    </tr>\n",
       "    <tr>\n",
       "      <th>17</th>\n",
       "      <td>enggan</td>\n",
       "      <td>B-ADV</td>\n",
       "      <td>O</td>\n",
       "      <td>0</td>\n",
       "    </tr>\n",
       "    <tr>\n",
       "      <th>18</th>\n",
       "      <td>berkomentar</td>\n",
       "      <td>B-VBI</td>\n",
       "      <td>O</td>\n",
       "      <td>0</td>\n",
       "    </tr>\n",
       "    <tr>\n",
       "      <th>19</th>\n",
       "      <td>banyak</td>\n",
       "      <td>B-KUA</td>\n",
       "      <td>O</td>\n",
       "      <td>0</td>\n",
       "    </tr>\n",
       "    <tr>\n",
       "      <th>20</th>\n",
       "      <td>karena</td>\n",
       "      <td>B-CSN</td>\n",
       "      <td>O</td>\n",
       "      <td>0</td>\n",
       "    </tr>\n",
       "    <tr>\n",
       "      <th>21</th>\n",
       "      <td>merasa</td>\n",
       "      <td>B-VBT</td>\n",
       "      <td>O</td>\n",
       "      <td>0</td>\n",
       "    </tr>\n",
       "    <tr>\n",
       "      <th>22</th>\n",
       "      <td>bukan</td>\n",
       "      <td>B-NEG</td>\n",
       "      <td>O</td>\n",
       "      <td>0</td>\n",
       "    </tr>\n",
       "    <tr>\n",
       "      <th>23</th>\n",
       "      <td>kewenangannya</td>\n",
       "      <td>B-NNO</td>\n",
       "      <td>O</td>\n",
       "      <td>0</td>\n",
       "    </tr>\n",
       "    <tr>\n",
       "      <th>24</th>\n",
       "      <td>.</td>\n",
       "      <td>B-SYM</td>\n",
       "      <td>O</td>\n",
       "      <td>0</td>\n",
       "    </tr>\n",
       "    <tr>\n",
       "      <th>25</th>\n",
       "      <td>NaN</td>\n",
       "      <td>NaN</td>\n",
       "      <td>NaN</td>\n",
       "      <td>1</td>\n",
       "    </tr>\n",
       "    <tr>\n",
       "      <th>26</th>\n",
       "      <td>di</td>\n",
       "      <td>B-PPO</td>\n",
       "      <td>O</td>\n",
       "      <td>1</td>\n",
       "    </tr>\n",
       "    <tr>\n",
       "      <th>27</th>\n",
       "      <td>antara</td>\n",
       "      <td>B-PPO</td>\n",
       "      <td>O</td>\n",
       "      <td>1</td>\n",
       "    </tr>\n",
       "  </tbody>\n",
       "</table>\n",
       "</div>"
      ],
      "text/plain": [
       "           word_x    pos    tag  sentence\n",
       "0          kepala  B-NNO      O         0\n",
       "1           dinas  B-VBP      O         0\n",
       "2            tata  B-NNO      O         0\n",
       "3            kota  B-NNO      O         0\n",
       "4          manado  B-NNP  B-PLC         0\n",
       "5            amos  B-NNP  B-PPL         0\n",
       "6           kenda  B-NNP  I-PPL         0\n",
       "7      menyatakan  B-VBT      O         0\n",
       "8           tidak  B-NEG      O         0\n",
       "9            tahu  B-VBI      O         0\n",
       "10              -  B-SYM      O         0\n",
       "11         menahu  B-VBT      O         0\n",
       "12           soal  B-NNO      O         0\n",
       "13     pencabutan  B-NNO      O         0\n",
       "14         baliho  B-NNO      O         0\n",
       "15              .  B-SYM      O         0\n",
       "16             ia  B-PRN      O         0\n",
       "17         enggan  B-ADV      O         0\n",
       "18    berkomentar  B-VBI      O         0\n",
       "19         banyak  B-KUA      O         0\n",
       "20         karena  B-CSN      O         0\n",
       "21         merasa  B-VBT      O         0\n",
       "22          bukan  B-NEG      O         0\n",
       "23  kewenangannya  B-NNO      O         0\n",
       "24              .  B-SYM      O         0\n",
       "25            NaN    NaN    NaN         1\n",
       "26             di  B-PPO      O         1\n",
       "27         antara  B-PPO      O         1"
      ]
     },
     "execution_count": 15,
     "metadata": {},
     "output_type": "execute_result"
    }
   ],
   "source": [
    "df.head(28)"
   ]
  },
  {
   "cell_type": "code",
   "execution_count": 16,
   "metadata": {},
   "outputs": [],
   "source": [
    "df_new = df.dropna()"
   ]
  },
  {
   "cell_type": "code",
   "execution_count": 17,
   "metadata": {},
   "outputs": [
    {
     "data": {
      "text/html": [
       "<div>\n",
       "<style scoped>\n",
       "    .dataframe tbody tr th:only-of-type {\n",
       "        vertical-align: middle;\n",
       "    }\n",
       "\n",
       "    .dataframe tbody tr th {\n",
       "        vertical-align: top;\n",
       "    }\n",
       "\n",
       "    .dataframe thead th {\n",
       "        text-align: right;\n",
       "    }\n",
       "</style>\n",
       "<table border=\"1\" class=\"dataframe\">\n",
       "  <thead>\n",
       "    <tr style=\"text-align: right;\">\n",
       "      <th></th>\n",
       "      <th>word_x</th>\n",
       "      <th>pos</th>\n",
       "      <th>tag</th>\n",
       "      <th>sentence</th>\n",
       "    </tr>\n",
       "  </thead>\n",
       "  <tbody>\n",
       "    <tr>\n",
       "      <th>0</th>\n",
       "      <td>kepala</td>\n",
       "      <td>B-NNO</td>\n",
       "      <td>O</td>\n",
       "      <td>0</td>\n",
       "    </tr>\n",
       "    <tr>\n",
       "      <th>1</th>\n",
       "      <td>dinas</td>\n",
       "      <td>B-VBP</td>\n",
       "      <td>O</td>\n",
       "      <td>0</td>\n",
       "    </tr>\n",
       "    <tr>\n",
       "      <th>2</th>\n",
       "      <td>tata</td>\n",
       "      <td>B-NNO</td>\n",
       "      <td>O</td>\n",
       "      <td>0</td>\n",
       "    </tr>\n",
       "    <tr>\n",
       "      <th>3</th>\n",
       "      <td>kota</td>\n",
       "      <td>B-NNO</td>\n",
       "      <td>O</td>\n",
       "      <td>0</td>\n",
       "    </tr>\n",
       "    <tr>\n",
       "      <th>4</th>\n",
       "      <td>manado</td>\n",
       "      <td>B-NNP</td>\n",
       "      <td>B-PLC</td>\n",
       "      <td>0</td>\n",
       "    </tr>\n",
       "    <tr>\n",
       "      <th>5</th>\n",
       "      <td>amos</td>\n",
       "      <td>B-NNP</td>\n",
       "      <td>B-PPL</td>\n",
       "      <td>0</td>\n",
       "    </tr>\n",
       "    <tr>\n",
       "      <th>6</th>\n",
       "      <td>kenda</td>\n",
       "      <td>B-NNP</td>\n",
       "      <td>I-PPL</td>\n",
       "      <td>0</td>\n",
       "    </tr>\n",
       "    <tr>\n",
       "      <th>7</th>\n",
       "      <td>menyatakan</td>\n",
       "      <td>B-VBT</td>\n",
       "      <td>O</td>\n",
       "      <td>0</td>\n",
       "    </tr>\n",
       "    <tr>\n",
       "      <th>8</th>\n",
       "      <td>tidak</td>\n",
       "      <td>B-NEG</td>\n",
       "      <td>O</td>\n",
       "      <td>0</td>\n",
       "    </tr>\n",
       "    <tr>\n",
       "      <th>9</th>\n",
       "      <td>tahu</td>\n",
       "      <td>B-VBI</td>\n",
       "      <td>O</td>\n",
       "      <td>0</td>\n",
       "    </tr>\n",
       "    <tr>\n",
       "      <th>10</th>\n",
       "      <td>-</td>\n",
       "      <td>B-SYM</td>\n",
       "      <td>O</td>\n",
       "      <td>0</td>\n",
       "    </tr>\n",
       "    <tr>\n",
       "      <th>11</th>\n",
       "      <td>menahu</td>\n",
       "      <td>B-VBT</td>\n",
       "      <td>O</td>\n",
       "      <td>0</td>\n",
       "    </tr>\n",
       "    <tr>\n",
       "      <th>12</th>\n",
       "      <td>soal</td>\n",
       "      <td>B-NNO</td>\n",
       "      <td>O</td>\n",
       "      <td>0</td>\n",
       "    </tr>\n",
       "    <tr>\n",
       "      <th>13</th>\n",
       "      <td>pencabutan</td>\n",
       "      <td>B-NNO</td>\n",
       "      <td>O</td>\n",
       "      <td>0</td>\n",
       "    </tr>\n",
       "    <tr>\n",
       "      <th>14</th>\n",
       "      <td>baliho</td>\n",
       "      <td>B-NNO</td>\n",
       "      <td>O</td>\n",
       "      <td>0</td>\n",
       "    </tr>\n",
       "    <tr>\n",
       "      <th>15</th>\n",
       "      <td>.</td>\n",
       "      <td>B-SYM</td>\n",
       "      <td>O</td>\n",
       "      <td>0</td>\n",
       "    </tr>\n",
       "    <tr>\n",
       "      <th>16</th>\n",
       "      <td>ia</td>\n",
       "      <td>B-PRN</td>\n",
       "      <td>O</td>\n",
       "      <td>0</td>\n",
       "    </tr>\n",
       "    <tr>\n",
       "      <th>17</th>\n",
       "      <td>enggan</td>\n",
       "      <td>B-ADV</td>\n",
       "      <td>O</td>\n",
       "      <td>0</td>\n",
       "    </tr>\n",
       "    <tr>\n",
       "      <th>18</th>\n",
       "      <td>berkomentar</td>\n",
       "      <td>B-VBI</td>\n",
       "      <td>O</td>\n",
       "      <td>0</td>\n",
       "    </tr>\n",
       "    <tr>\n",
       "      <th>19</th>\n",
       "      <td>banyak</td>\n",
       "      <td>B-KUA</td>\n",
       "      <td>O</td>\n",
       "      <td>0</td>\n",
       "    </tr>\n",
       "    <tr>\n",
       "      <th>20</th>\n",
       "      <td>karena</td>\n",
       "      <td>B-CSN</td>\n",
       "      <td>O</td>\n",
       "      <td>0</td>\n",
       "    </tr>\n",
       "    <tr>\n",
       "      <th>21</th>\n",
       "      <td>merasa</td>\n",
       "      <td>B-VBT</td>\n",
       "      <td>O</td>\n",
       "      <td>0</td>\n",
       "    </tr>\n",
       "    <tr>\n",
       "      <th>22</th>\n",
       "      <td>bukan</td>\n",
       "      <td>B-NEG</td>\n",
       "      <td>O</td>\n",
       "      <td>0</td>\n",
       "    </tr>\n",
       "    <tr>\n",
       "      <th>23</th>\n",
       "      <td>kewenangannya</td>\n",
       "      <td>B-NNO</td>\n",
       "      <td>O</td>\n",
       "      <td>0</td>\n",
       "    </tr>\n",
       "    <tr>\n",
       "      <th>24</th>\n",
       "      <td>.</td>\n",
       "      <td>B-SYM</td>\n",
       "      <td>O</td>\n",
       "      <td>0</td>\n",
       "    </tr>\n",
       "    <tr>\n",
       "      <th>26</th>\n",
       "      <td>di</td>\n",
       "      <td>B-PPO</td>\n",
       "      <td>O</td>\n",
       "      <td>1</td>\n",
       "    </tr>\n",
       "    <tr>\n",
       "      <th>27</th>\n",
       "      <td>antara</td>\n",
       "      <td>B-PPO</td>\n",
       "      <td>O</td>\n",
       "      <td>1</td>\n",
       "    </tr>\n",
       "    <tr>\n",
       "      <th>28</th>\n",
       "      <td>mereka</td>\n",
       "      <td>B-PRN</td>\n",
       "      <td>O</td>\n",
       "      <td>1</td>\n",
       "    </tr>\n",
       "  </tbody>\n",
       "</table>\n",
       "</div>"
      ],
      "text/plain": [
       "           word_x    pos    tag  sentence\n",
       "0          kepala  B-NNO      O         0\n",
       "1           dinas  B-VBP      O         0\n",
       "2            tata  B-NNO      O         0\n",
       "3            kota  B-NNO      O         0\n",
       "4          manado  B-NNP  B-PLC         0\n",
       "5            amos  B-NNP  B-PPL         0\n",
       "6           kenda  B-NNP  I-PPL         0\n",
       "7      menyatakan  B-VBT      O         0\n",
       "8           tidak  B-NEG      O         0\n",
       "9            tahu  B-VBI      O         0\n",
       "10              -  B-SYM      O         0\n",
       "11         menahu  B-VBT      O         0\n",
       "12           soal  B-NNO      O         0\n",
       "13     pencabutan  B-NNO      O         0\n",
       "14         baliho  B-NNO      O         0\n",
       "15              .  B-SYM      O         0\n",
       "16             ia  B-PRN      O         0\n",
       "17         enggan  B-ADV      O         0\n",
       "18    berkomentar  B-VBI      O         0\n",
       "19         banyak  B-KUA      O         0\n",
       "20         karena  B-CSN      O         0\n",
       "21         merasa  B-VBT      O         0\n",
       "22          bukan  B-NEG      O         0\n",
       "23  kewenangannya  B-NNO      O         0\n",
       "24              .  B-SYM      O         0\n",
       "26             di  B-PPO      O         1\n",
       "27         antara  B-PPO      O         1\n",
       "28         mereka  B-PRN      O         1"
      ]
     },
     "execution_count": 17,
     "metadata": {},
     "output_type": "execute_result"
    }
   ],
   "source": [
    "df_new.head(28)"
   ]
  },
  {
   "cell_type": "code",
   "execution_count": 20,
   "metadata": {},
   "outputs": [],
   "source": [
    "class getsentence(object):\n",
    "    def __init__(self, data):\n",
    "        self.n_sent = 1.0\n",
    "        self.data = data\n",
    "        self.empty = False\n",
    "\n",
    "        agg_func = lambda s: [(w, p, t) for w, p, t in zip(\n",
    "            s[\"word_x\"].values.tolist(),\n",
    "            s[\"pos\"].values.tolist(),\n",
    "            s[\"tag\"].values.tolist()\n",
    "        )]\n",
    "\n",
    "        self.grouped = self.data.groupby(\"sentence\").apply(agg_func)\n",
    "        self.sentences = [s for s in self.grouped]\n"
   ]
  },
  {
   "cell_type": "code",
   "execution_count": 21,
   "metadata": {},
   "outputs": [],
   "source": [
    "getter = getsentence(df_new)"
   ]
  },
  {
   "cell_type": "code",
   "execution_count": 22,
   "metadata": {},
   "outputs": [],
   "source": [
    "sentences = getter.sentences"
   ]
  },
  {
   "cell_type": "code",
   "execution_count": 23,
   "metadata": {},
   "outputs": [
    {
     "data": {
      "text/plain": [
       "[('kepala', 'B-NNO', 'O'),\n",
       " ('dinas', 'B-VBP', 'O'),\n",
       " ('tata', 'B-NNO', 'O'),\n",
       " ('kota', 'B-NNO', 'O'),\n",
       " ('manado', 'B-NNP', 'B-PLC'),\n",
       " ('amos', 'B-NNP', 'B-PPL'),\n",
       " ('kenda', 'B-NNP', 'I-PPL'),\n",
       " ('menyatakan', 'B-VBT', 'O'),\n",
       " ('tidak', 'B-NEG', 'O'),\n",
       " ('tahu', 'B-VBI', 'O'),\n",
       " ('-', 'B-SYM', 'O'),\n",
       " ('menahu', 'B-VBT', 'O'),\n",
       " ('soal', 'B-NNO', 'O'),\n",
       " ('pencabutan', 'B-NNO', 'O'),\n",
       " ('baliho', 'B-NNO', 'O'),\n",
       " ('.', 'B-SYM', 'O'),\n",
       " ('ia', 'B-PRN', 'O'),\n",
       " ('enggan', 'B-ADV', 'O'),\n",
       " ('berkomentar', 'B-VBI', 'O'),\n",
       " ('banyak', 'B-KUA', 'O'),\n",
       " ('karena', 'B-CSN', 'O'),\n",
       " ('merasa', 'B-VBT', 'O'),\n",
       " ('bukan', 'B-NEG', 'O'),\n",
       " ('kewenangannya', 'B-NNO', 'O'),\n",
       " ('.', 'B-SYM', 'O')]"
      ]
     },
     "execution_count": 23,
     "metadata": {},
     "output_type": "execute_result"
    }
   ],
   "source": [
    "sentences[0]"
   ]
  },
  {
   "cell_type": "code",
   "execution_count": 24,
   "metadata": {},
   "outputs": [
    {
     "data": {
      "text/plain": [
       "4088"
      ]
     },
     "execution_count": 24,
     "metadata": {},
     "output_type": "execute_result"
    }
   ],
   "source": [
    "len(sentences)"
   ]
  },
  {
   "cell_type": "code",
   "execution_count": 25,
   "metadata": {},
   "outputs": [],
   "source": [
    "train_sents = sentences[0:2860]\n",
    "test_sents = sentences[2861:]"
   ]
  },
  {
   "cell_type": "code",
   "execution_count": 26,
   "metadata": {},
   "outputs": [
    {
     "data": {
      "text/plain": [
       "2860"
      ]
     },
     "execution_count": 26,
     "metadata": {},
     "output_type": "execute_result"
    }
   ],
   "source": [
    "len(train_sents)"
   ]
  },
  {
   "cell_type": "code",
   "execution_count": 27,
   "metadata": {},
   "outputs": [
    {
     "data": {
      "text/plain": [
       "1227"
      ]
     },
     "execution_count": 27,
     "metadata": {},
     "output_type": "execute_result"
    }
   ],
   "source": [
    "len(test_sents)"
   ]
  },
  {
   "cell_type": "markdown",
   "metadata": {},
   "source": [
    "1.3 Conditional Random Fields"
   ]
  },
  {
   "cell_type": "markdown",
   "metadata": {},
   "source": [
    "1.4 Prepare Data"
   ]
  },
  {
   "cell_type": "code",
   "execution_count": 28,
   "metadata": {},
   "outputs": [],
   "source": [
    "def word2features(sent, i):\n",
    "    word = sent[i][0]\n",
    "    postag = sent[i][1]\n",
    "\n",
    "    features = [\n",
    "        'bias',\n",
    "        'word.lower=' + word.lower(),\n",
    "        'word[-3:]=' + word[-3:],\n",
    "        'word[-2:]=' + word[-2:],\n",
    "        'word.isupper=%s' % word.isupper(),\n",
    "        'word.istitle=%s' % word.istitle(),\n",
    "        'word.isdigit=%s' % word.isdigit(),\n",
    "        'postag=' + postag,\n",
    "        'postag[:2]=' + postag[:2],\n",
    "    ]\n",
    "\n",
    "    if i > 0:\n",
    "        word1, postag1 = sent[i - 1][:2]\n",
    "        features.extend([\n",
    "            '-1:word.lower=' + word1.lower(),\n",
    "            '-1:word.istitle=%s' % word1.istitle(),\n",
    "            '-1:word.isupper=%s' % word1.isupper(),\n",
    "            '-1:postag=' + postag1,\n",
    "            '-1:postag[:2]=' + postag1[:2],\n",
    "        ])\n",
    "    else:\n",
    "        features.append('BOS')\n",
    "\n",
    "    if i < len(sent) - 1:\n",
    "        word1, postag1 = sent[i + 1][:2]\n",
    "        features.extend([\n",
    "            '+1:word.lower=' + word1.lower(),\n",
    "            '+1:word.istitle=%s' % word1.istitle(),\n",
    "            '+1:word.isupper=%s' % word1.isupper(),\n",
    "            '+1:postag=' + postag1,\n",
    "            '+1:postag[:2]=' + postag1[:2],\n",
    "        ])\n",
    "    else:\n",
    "        features.append('EOS')\n",
    "\n",
    "    return features\n",
    "\n",
    "\n",
    "def sent2features(sent):\n",
    "    return [word2features(sent, i) for i in range(len(sent))]\n",
    "\n",
    "\n",
    "def sent2labels(sent):\n",
    "    return [label for _, _, label in sent]\n",
    "\n",
    "\n",
    "def sent2tokens(sent):\n",
    "    return [token for token, _, _ in sent]\n"
   ]
  },
  {
   "cell_type": "code",
   "execution_count": 29,
   "metadata": {},
   "outputs": [
    {
     "data": {
      "text/plain": [
       "['bias',\n",
       " 'word.lower=kepala',\n",
       " 'word[-3:]=ala',\n",
       " 'word[-2:]=la',\n",
       " 'word.isupper=False',\n",
       " 'word.istitle=False',\n",
       " 'word.isdigit=False',\n",
       " 'postag=B-NNO',\n",
       " 'postag[:2]=B-',\n",
       " 'BOS',\n",
       " '+1:word.lower=dinas',\n",
       " '+1:word.istitle=False',\n",
       " '+1:word.isupper=False',\n",
       " '+1:postag=B-VBP',\n",
       " '+1:postag[:2]=B-']"
      ]
     },
     "execution_count": 29,
     "metadata": {},
     "output_type": "execute_result"
    }
   ],
   "source": [
    "sent2features(train_sents[0])[0]"
   ]
  },
  {
   "cell_type": "code",
   "execution_count": 30,
   "metadata": {},
   "outputs": [
    {
     "name": "stdout",
     "output_type": "stream",
     "text": [
      "CPU times: user 397 ms, sys: 49 ms, total: 446 ms\n",
      "Wall time: 446 ms\n"
     ]
    }
   ],
   "source": [
    "%%time\n",
    "X_train = [sent2features(s) for s in train_sents]\n",
    "y_train = [sent2labels(s) for s in train_sents]\n",
    "X_test = [sent2features(s) for s in test_sents]\n",
    "y_test = [sent2labels(s) for s in test_sents]"
   ]
  },
  {
   "cell_type": "markdown",
   "metadata": {},
   "source": [
    "Building Models with pycrfsuite"
   ]
  },
  {
   "cell_type": "code",
   "execution_count": 31,
   "metadata": {},
   "outputs": [
    {
     "name": "stdout",
     "output_type": "stream",
     "text": [
      "Requirement already satisfied: python-crfsuite in /home/krisna/anaconda3/lib/python3.11/site-packages (0.9.9)\n"
     ]
    }
   ],
   "source": [
    "!pip install python-crfsuite"
   ]
  },
  {
   "cell_type": "code",
   "execution_count": 32,
   "metadata": {},
   "outputs": [],
   "source": [
    "import pycrfsuite"
   ]
  },
  {
   "cell_type": "code",
   "execution_count": 33,
   "metadata": {},
   "outputs": [
    {
     "name": "stdout",
     "output_type": "stream",
     "text": [
      "CPU times: user 583 ms, sys: 36.3 ms, total: 620 ms\n",
      "Wall time: 619 ms\n"
     ]
    }
   ],
   "source": [
    "%%time\n",
    "trainer = pycrfsuite.Trainer(verbose=False)\n",
    "for xseq, yseq in zip(X_train, y_train):\n",
    "    trainer.append(xseq, yseq)"
   ]
  },
  {
   "cell_type": "code",
   "execution_count": 34,
   "metadata": {},
   "outputs": [],
   "source": [
    "trainer.set_params({\n",
    "    'c1': 1.0,                  # coefficient for L1 penalty\n",
    "    'c2': 1e-3,                 # coefficient for L2 penalty\n",
    "    'max_iterations': 50,       # stop earlier\n",
    "    'feature.possible_transitions': True  # include transitions that are possible, but not observed\n",
    "})\n"
   ]
  },
  {
   "cell_type": "code",
   "execution_count": 35,
   "metadata": {},
   "outputs": [
    {
     "name": "stdout",
     "output_type": "stream",
     "text": [
      "CPU times: user 3.73 s, sys: 13.6 ms, total: 3.75 s\n",
      "Wall time: 3.75 s\n"
     ]
    }
   ],
   "source": [
    "%%time\n",
    "trainer.train('id_ner_test')"
   ]
  },
  {
   "cell_type": "code",
   "execution_count": 36,
   "metadata": {},
   "outputs": [
    {
     "data": {
      "text/plain": [
       "{'num': 50,\n",
       " 'scores': {},\n",
       " 'loss': 10209.036876,\n",
       " 'feature_norm': 73.83264,\n",
       " 'error_norm': 382.962981,\n",
       " 'active_features': 5754,\n",
       " 'linesearch_trials': 1,\n",
       " 'linesearch_step': 1.0,\n",
       " 'time': 0.061}"
      ]
     },
     "execution_count": 36,
     "metadata": {},
     "output_type": "execute_result"
    }
   ],
   "source": [
    "trainer.logparser.last_iteration"
   ]
  },
  {
   "cell_type": "code",
   "execution_count": 37,
   "metadata": {},
   "outputs": [
    {
     "name": "stdout",
     "output_type": "stream",
     "text": [
      "50 {'num': 50, 'scores': {}, 'loss': 10209.036876, 'feature_norm': 73.83264, 'error_norm': 382.962981, 'active_features': 5754, 'linesearch_trials': 1, 'linesearch_step': 1.0, 'time': 0.061}\n"
     ]
    }
   ],
   "source": [
    "print(len(trainer.logparser.iterations), trainer.logparser.iterations[-1])"
   ]
  },
  {
   "cell_type": "markdown",
   "metadata": {},
   "source": [
    "3.1 Make predictions"
   ]
  },
  {
   "cell_type": "code",
   "execution_count": 38,
   "metadata": {},
   "outputs": [
    {
     "data": {
      "text/plain": [
       "<contextlib.closing at 0x7fcfc019fb50>"
      ]
     },
     "execution_count": 38,
     "metadata": {},
     "output_type": "execute_result"
    }
   ],
   "source": [
    "tagger = pycrfsuite.Tagger()\n",
    "tagger.open('id_ner_test')"
   ]
  },
  {
   "cell_type": "code",
   "execution_count": 39,
   "metadata": {},
   "outputs": [],
   "source": [
    "def sent2tokens(sent):\n",
    "    return [token for token, postag, label in sent]"
   ]
  },
  {
   "cell_type": "code",
   "execution_count": 40,
   "metadata": {},
   "outputs": [
    {
     "data": {
      "text/plain": [
       "['bias',\n",
       " 'word.lower=tidak',\n",
       " 'word[-3:]=dak',\n",
       " 'word[-2:]=ak',\n",
       " 'word.isupper=False',\n",
       " 'word.istitle=False',\n",
       " 'word.isdigit=False',\n",
       " 'postag=B-NEG',\n",
       " 'postag[:2]=B-',\n",
       " 'BOS',\n",
       " '+1:word.lower=ada',\n",
       " '+1:word.istitle=False',\n",
       " '+1:word.isupper=False',\n",
       " '+1:postag=B-VBE',\n",
       " '+1:postag[:2]=B-']"
      ]
     },
     "execution_count": 40,
     "metadata": {},
     "output_type": "execute_result"
    }
   ],
   "source": [
    "X_test[0][0]"
   ]
  },
  {
   "cell_type": "code",
   "execution_count": 41,
   "metadata": {},
   "outputs": [
    {
     "name": "stdout",
     "output_type": "stream",
     "text": [
      "tidak ada korban dilaporkan pada pihak israel , sabtu , walaupun roket dan bom-bom mortir menghantam israel sepanjang hari itu termasuk satu yang telah dicegat di daerah tel aviv , kata militer .\n",
      "\n",
      "Predicted: O O O O O O B-PLC O O O O O O O O O B-PLC O O O O O O O O O O B-PLC I-PLC O O O O\n",
      "Correct:  O O O O O O B-PLC O O O O O O O O O B-PLC O O O O O O O O O O B-PLC I-PLC O O O O\n"
     ]
    }
   ],
   "source": [
    "example_sent = test_sents[0]\n",
    "print(' '.join(sent2tokens(example_sent)), end='\\n\\n')\n",
    "print(\"Predicted:\", ' '.join(tagger.tag(sent2features(example_sent))))\n",
    "print(\"Correct: \", ' '.join(sent2labels(example_sent)))"
   ]
  },
  {
   "cell_type": "markdown",
   "metadata": {},
   "source": [
    "4 Evaluate the model"
   ]
  },
  {
   "cell_type": "code",
   "execution_count": 42,
   "metadata": {},
   "outputs": [],
   "source": [
    "from itertools import chain\n",
    "import nltk\n",
    "from sklearn.metrics import classification_report, confusion_matrix\n",
    "from sklearn.preprocessing import LabelBinarizer\n",
    "import sklearn"
   ]
  },
  {
   "cell_type": "code",
   "execution_count": 43,
   "metadata": {},
   "outputs": [],
   "source": [
    "def bio_classification_report(y_true, y_pred):\n",
    "    \"\"\"\n",
    "    Classification report for a list of BIO-encoded sequences.\n",
    "    It computes token-level metrics and discards \"O\" labels.\n",
    "    Note that it requires scikit-learn 0.15+ (or a version from github master)\n",
    "    to calculate averages properly!\n",
    "    \"\"\"\n",
    "    lb = LabelBinarizer()\n",
    "    y_true_combined = lb.fit_transform(list(chain.from_iterable(y_true)))\n",
    "    y_pred_combined = lb.transform(list(chain.from_iterable(y_pred)))\n",
    "    \n",
    "    tagset = set(lb.classes_) - {'O'}\n",
    "    tagset = sorted(tagset, key=lambda tag: tag.split('-', 1)[::-1])\n",
    "    class_indices = {cls: idx for idx, cls in enumerate(lb.classes_)}\n",
    "    \n",
    "    return classification_report(\n",
    "        y_true_combined,\n",
    "        y_pred_combined,\n",
    "        labels=[class_indices[cls] for cls in tagset],\n",
    "        target_names=tagset\n",
    "    )"
   ]
  },
  {
   "cell_type": "code",
   "execution_count": 44,
   "metadata": {},
   "outputs": [
    {
     "name": "stdout",
     "output_type": "stream",
     "text": [
      "CPU times: user 271 ms, sys: 8.06 ms, total: 279 ms\n",
      "Wall time: 282 ms\n"
     ]
    }
   ],
   "source": [
    "%%time\n",
    "y_pred = [tagger.tag(xseq) for xseq in X_test]"
   ]
  },
  {
   "cell_type": "code",
   "execution_count": 45,
   "metadata": {},
   "outputs": [
    {
     "name": "stdout",
     "output_type": "stream",
     "text": [
      "              precision    recall  f1-score   support\n",
      "\n",
      "       B-EVT       0.61      0.34      0.44       184\n",
      "       I-EVT       0.34      0.33      0.33       286\n",
      "       B-FNB       0.77      0.26      0.39       104\n",
      "       I-FNB       0.82      0.35      0.49        51\n",
      "       B-IND       0.82      0.46      0.59       548\n",
      "       I-IND       0.71      0.57      0.63       428\n",
      "       B-PLC       0.81      0.71      0.76       803\n",
      "       I-PLC       0.72      0.62      0.67       347\n",
      "       B-PPL       0.74      0.71      0.73       887\n",
      "       I-PPL       0.71      0.75      0.73       546\n",
      "\n",
      "   micro avg       0.72      0.60      0.66      4184\n",
      "   macro avg       0.70      0.51      0.58      4184\n",
      "weighted avg       0.72      0.60      0.65      4184\n",
      " samples avg       0.09      0.09      0.09      4184\n",
      "\n"
     ]
    },
    {
     "name": "stderr",
     "output_type": "stream",
     "text": [
      "/home/krisna/anaconda3/lib/python3.11/site-packages/sklearn/metrics/_classification.py:1469: UndefinedMetricWarning: Precision and F-score are ill-defined and being set to 0.0 in samples with no predicted labels. Use `zero_division` parameter to control this behavior.\n",
      "  _warn_prf(average, modifier, msg_start, len(result))\n",
      "/home/krisna/anaconda3/lib/python3.11/site-packages/sklearn/metrics/_classification.py:1469: UndefinedMetricWarning: Recall and F-score are ill-defined and being set to 0.0 in samples with no true labels. Use `zero_division` parameter to control this behavior.\n",
      "  _warn_prf(average, modifier, msg_start, len(result))\n"
     ]
    }
   ],
   "source": [
    "print(bio_classification_report(y_test, y_pred))"
   ]
  },
  {
   "cell_type": "code",
   "execution_count": 46,
   "metadata": {},
   "outputs": [
    {
     "name": "stdout",
     "output_type": "stream",
     "text": [
      "Top likely transitions:\n",
      "B-EVT  -> I-EVT   5.442193\n",
      "I-EVT  -> I-EVT   5.362419\n",
      "I-PLC  -> I-PLC   4.551782\n",
      "B-FNB  -> I-FNB   4.524851\n",
      "B-PLC  -> I-PLC   4.384016\n",
      "B-IND  -> I-IND   3.825724\n",
      "I-FNB  -> I-FNB   3.495212\n",
      "I-IND  -> I-IND   3.442589\n",
      "B-PPL  -> I-PPL   3.306057\n",
      "I-PPL  -> I-PPL   2.492893\n",
      "O      -> B-EVT   2.011393\n",
      "O      -> O       1.197478\n",
      "B-PLC  -> B-PPL   1.010612\n",
      "O      -> B-PPL   0.872925\n",
      "I-PLC  -> B-PPL   0.623295\n",
      "\n",
      "Top unlikely transitions:\n",
      "B-PPL  -> I-FNB   -1.776997\n",
      "B-EVT  -> I-PPL   -1.841824\n",
      "B-PPL  -> B-IND   -1.887235\n",
      "B-PLC  -> I-IND   -2.211289\n",
      "I-EVT  -> I-PPL   -2.230949\n",
      "B-PPL  -> I-IND   -2.342394\n",
      "I-PLC  -> I-PPL   -2.683869\n",
      "O      -> I-EVT   -2.736554\n",
      "I-IND  -> I-PPL   -2.991321\n",
      "B-IND  -> I-PPL   -3.006000\n",
      "B-PLC  -> I-PPL   -3.210360\n",
      "O      -> I-FNB   -3.433683\n",
      "O      -> I-PLC   -4.139381\n",
      "O      -> I-IND   -4.462914\n",
      "O      -> I-PPL   -4.905335\n"
     ]
    }
   ],
   "source": [
    "from collections import Counter\n",
    "\n",
    "info = tagger.info()\n",
    "\n",
    "def print_transitions(trans_features):\n",
    "    for (label_from, label_to), weight in trans_features:\n",
    "        print(\"%-6s -> %-7s %0.6f\" % (label_from, label_to, weight))\n",
    "\n",
    "print(\"Top likely transitions:\")\n",
    "print_transitions(Counter(info.transitions).most_common(15))\n",
    "\n",
    "print(\"\\nTop unlikely transitions:\")\n",
    "print_transitions(Counter(info.transitions).most_common()[-15:])\n"
   ]
  },
  {
   "cell_type": "code",
   "execution_count": 47,
   "metadata": {},
   "outputs": [
    {
     "name": "stdout",
     "output_type": "stream",
     "text": [
      "Top positive:\n",
      "8.961001 B-FNB  word.lower=nasi\n",
      "6.555337 B-IND  word.lower=arsenal\n",
      "5.533903 B-PLC  -1:word.lower=berdarah\n",
      "5.200576 B-IND  word.lower=skuter\n",
      "5.124560 B-FNB  word.lower=rendang\n",
      "4.887663 B-EVT  word.lower=wisuda\n",
      "4.841133 B-FNB  word.lower=sate\n",
      "4.819712 B-IND  word.lower=instagram\n",
      "4.565449 B-PLC  word.lower=pakistan\n",
      "4.549857 B-FNB  word.lower=pisang\n",
      "4.423253 B-EVT  word.lower=pilkada\n",
      "4.338747 B-PLC  word.lower=kecamatan\n",
      "4.332411 O      postag=B-CSN\n",
      "4.310374 B-EVT  +1:word.lower=olahraga\n",
      "4.301074 B-IND  word.lower=leicester\n",
      "4.267920 B-PLC  word.lower=singkawang\n",
      "4.144854 B-IND  -1:word.lower=ka\n",
      "4.099111 O      postag=B-SYM\n",
      "4.092291 B-PLC  word.lower=singapura\n",
      "3.890772 B-EVT  word.lower=olimpiade\n",
      "\n",
      "Top negative:\n",
      "-1.651780 I-PLC  -1:word.lower=indonesia\n",
      "-1.655243 I-PLC  postag=B-SYM\n",
      "-1.681434 B-PPL  word[-3:]=com\n",
      "-1.684919 O      +1:word.lower=â\n",
      "-1.696493 O      word.lower=predator\n",
      "-1.717512 O      word[-2:]=hi\n",
      "-1.723345 O      word.lower=mata\n",
      "-1.761105 O      word[-3:]=gia\n",
      "-1.780571 O      word.lower=pernikahan\n",
      "-1.785327 O      -1:word.lower=mengalahkan\n",
      "-1.810150 O      word[-3:]=das\n",
      "-1.829054 O      word[-3:]=lia\n",
      "-1.916484 O      word[-3:]=oni\n",
      "-1.972927 O      -1:word.lower=perayaan\n",
      "-2.117572 O      word.lower=malang\n",
      "-2.360624 B-IND  word.isdigit=True\n",
      "-2.480714 O      +1:word.lower=--\n",
      "-2.487272 O      postag=B-NNP\n",
      "-3.193641 O      word.lower=ikan\n",
      "-3.944247 O      word.lower=lebaran\n"
     ]
    }
   ],
   "source": [
    "def print_state_features(state_features):\n",
    "    for (attr, label), weight in state_features:\n",
    "        print(\"%0.6f %-6s %s\" % (weight, label, attr))\n",
    "        \n",
    "print(\"Top positive:\")\n",
    "print_state_features(Counter(info.state_features).most_common(20))\n",
    "print(\"\\nTop negative:\")\n",
    "print_state_features(Counter(info.state_features).most_common()[-20:])"
   ]
  },
  {
   "cell_type": "code",
   "execution_count": null,
   "metadata": {},
   "outputs": [],
   "source": []
  }
 ],
 "metadata": {
  "kernelspec": {
   "display_name": "base",
   "language": "python",
   "name": "python3"
  },
  "language_info": {
   "codemirror_mode": {
    "name": "ipython",
    "version": 3
   },
   "file_extension": ".py",
   "mimetype": "text/x-python",
   "name": "python",
   "nbconvert_exporter": "python",
   "pygments_lexer": "ipython3",
   "version": "3.11.5"
  }
 },
 "nbformat": 4,
 "nbformat_minor": 2
}
