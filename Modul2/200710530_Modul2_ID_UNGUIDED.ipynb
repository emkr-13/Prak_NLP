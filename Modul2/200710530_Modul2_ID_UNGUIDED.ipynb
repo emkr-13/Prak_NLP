{
 "cells": [
  {
   "cell_type": "markdown",
   "metadata": {},
   "source": [
    "## pba-modul2-id-text-classification"
   ]
  },
  {
   "cell_type": "markdown",
   "metadata": {},
   "source": [
    "Inisialisasi"
   ]
  },
  {
   "cell_type": "code",
   "execution_count": 1,
   "metadata": {},
   "outputs": [],
   "source": [
    "import numpy as np\n",
    "import pandas as pd\n",
    "import modSpellChecker as sc\n",
    "from contractions_id import CONTRACTION_MAP\n",
    "import re\n",
    "import nltk\n",
    "import string\n",
    "from nltk.stem import WordNetLemmatizer\n",
    "from Sastrawi.Stemmer.StemmerFactory import StemmerFactory\n",
    "import gensim\n",
    "from gensim.models import Word2Vec\n",
    "from gensim import models\n",
    "#from pattern.en import tag\n",
    "from nltk.corpus import wordnet as wn\n",
    "from Sastrawi.StopWordRemover.StopWordRemoverFactory import StopWordRemoverFactory\n",
    "from gensim import corpora, models\n",
    "import sklearn\n",
    "#from normalization import normalize_corpus\n",
    "from sklearn.feature_extraction.text import CountVectorizer\n",
    "from sklearn.feature_extraction.text import TfidfTransformer\n",
    "from sklearn.feature_extraction.text import TfidfVectorizer\n",
    "from sklearn.datasets import fetch_20newsgroups\n",
    "from sklearn.model_selection import train_test_split\n",
    "from sklearn import metrics\n",
    "from sklearn.naive_bayes import MultinomialNB\n",
    "from datetime import datetime\n",
    "import csv"
   ]
  },
  {
   "cell_type": "code",
   "execution_count": 2,
   "metadata": {},
   "outputs": [
    {
     "data": {
      "text/html": [
       "<div>\n",
       "<style scoped>\n",
       "    .dataframe tbody tr th:only-of-type {\n",
       "        vertical-align: middle;\n",
       "    }\n",
       "\n",
       "    .dataframe tbody tr th {\n",
       "        vertical-align: top;\n",
       "    }\n",
       "\n",
       "    .dataframe thead th {\n",
       "        text-align: right;\n",
       "    }\n",
       "</style>\n",
       "<table border=\"1\" class=\"dataframe\">\n",
       "  <thead>\n",
       "    <tr style=\"text-align: right;\">\n",
       "      <th></th>\n",
       "      <th>Judul</th>\n",
       "      <th>Artikel</th>\n",
       "      <th>Jenis</th>\n",
       "    </tr>\n",
       "  </thead>\n",
       "  <tbody>\n",
       "    <tr>\n",
       "      <th>0</th>\n",
       "      <td>Rupiah masih rawan bergejolak</td>\n",
       "      <td>Nilai tukar rupiah terhadap dolar Amerika Seri...</td>\n",
       "      <td>ekonomi</td>\n",
       "    </tr>\n",
       "    <tr>\n",
       "      <th>1</th>\n",
       "      <td>SRC sasar ritel tradisional jadi pilar ekonomi...</td>\n",
       "      <td>Perkembangan teknologi telah menyebabkan perub...</td>\n",
       "      <td>ekonomi</td>\n",
       "    </tr>\n",
       "    <tr>\n",
       "      <th>2</th>\n",
       "      <td>Kiat memaksimalkan Facebook untuk bisnis</td>\n",
       "      <td>Media sosial kini bukan hanya menjadi alat unt...</td>\n",
       "      <td>ekonomi</td>\n",
       "    </tr>\n",
       "    <tr>\n",
       "      <th>3</th>\n",
       "      <td>Kiat menambah relasi bisnis</td>\n",
       "      <td>Dalam menjalankan bisnis, menjalin relasi puny...</td>\n",
       "      <td>ekonomi</td>\n",
       "    </tr>\n",
       "    <tr>\n",
       "      <th>4</th>\n",
       "      <td>Prinsip dasar merintis bisnis</td>\n",
       "      <td>Merintis usaha memang bukan pekerjaan mudah. A...</td>\n",
       "      <td>ekonomi</td>\n",
       "    </tr>\n",
       "    <tr>\n",
       "      <th>...</th>\n",
       "      <td>...</td>\n",
       "      <td>...</td>\n",
       "      <td>...</td>\n",
       "    </tr>\n",
       "    <tr>\n",
       "      <th>1304</th>\n",
       "      <td>Genoa 1 - 1 Sampdoria - Liga Serie A 2018/2019</td>\n",
       "      <td>Genoa dan Sampdoria sama-sama gagal memetik po...</td>\n",
       "      <td>sport</td>\n",
       "    </tr>\n",
       "    <tr>\n",
       "      <th>1305</th>\n",
       "      <td>Villarreal 2 - 1 Real Betis - La Liga 2018/2019</td>\n",
       "      <td>Villarreal menjaga langkah untuk mendekatkan d...</td>\n",
       "      <td>sport</td>\n",
       "    </tr>\n",
       "    <tr>\n",
       "      <th>1306</th>\n",
       "      <td>PSM kembali ke puncak klasemen, Persib resmi t...</td>\n",
       "      <td>Persija Jakarta harus rela kembali ke peringka...</td>\n",
       "      <td>sport</td>\n",
       "    </tr>\n",
       "    <tr>\n",
       "      <th>1307</th>\n",
       "      <td>Hasil imbang yang pahit bagi AC Milan</td>\n",
       "      <td>\"Hasil imbang yang pahit.\" Begitu laman resmi ...</td>\n",
       "      <td>sport</td>\n",
       "    </tr>\n",
       "    <tr>\n",
       "      <th>1308</th>\n",
       "      <td>Seruan untuk Edy Rahmayadi di balik kegagalan ...</td>\n",
       "      <td>Timnas Indonesia mengakhiri babak grup Piala A...</td>\n",
       "      <td>sport</td>\n",
       "    </tr>\n",
       "  </tbody>\n",
       "</table>\n",
       "<p>1309 rows × 3 columns</p>\n",
       "</div>"
      ],
      "text/plain": [
       "                                                  Judul  \\\n",
       "0                         Rupiah masih rawan bergejolak   \n",
       "1     SRC sasar ritel tradisional jadi pilar ekonomi...   \n",
       "2              Kiat memaksimalkan Facebook untuk bisnis   \n",
       "3                           Kiat menambah relasi bisnis   \n",
       "4                         Prinsip dasar merintis bisnis   \n",
       "...                                                 ...   \n",
       "1304     Genoa 1 - 1 Sampdoria - Liga Serie A 2018/2019   \n",
       "1305    Villarreal 2 - 1 Real Betis - La Liga 2018/2019   \n",
       "1306  PSM kembali ke puncak klasemen, Persib resmi t...   \n",
       "1307              Hasil imbang yang pahit bagi AC Milan   \n",
       "1308  Seruan untuk Edy Rahmayadi di balik kegagalan ...   \n",
       "\n",
       "                                                Artikel    Jenis  \n",
       "0     Nilai tukar rupiah terhadap dolar Amerika Seri...  ekonomi  \n",
       "1     Perkembangan teknologi telah menyebabkan perub...  ekonomi  \n",
       "2     Media sosial kini bukan hanya menjadi alat unt...  ekonomi  \n",
       "3     Dalam menjalankan bisnis, menjalin relasi puny...  ekonomi  \n",
       "4     Merintis usaha memang bukan pekerjaan mudah. A...  ekonomi  \n",
       "...                                                 ...      ...  \n",
       "1304  Genoa dan Sampdoria sama-sama gagal memetik po...    sport  \n",
       "1305  Villarreal menjaga langkah untuk mendekatkan d...    sport  \n",
       "1306  Persija Jakarta harus rela kembali ke peringka...    sport  \n",
       "1307  \"Hasil imbang yang pahit.\" Begitu laman resmi ...    sport  \n",
       "1308  Timnas Indonesia mengakhiri babak grup Piala A...    sport  \n",
       "\n",
       "[1309 rows x 3 columns]"
      ]
     },
     "execution_count": 2,
     "metadata": {},
     "output_type": "execute_result"
    }
   ],
   "source": [
    "dataset = pd.read_csv('dataartikel.csv')\n",
    "dataset"
   ]
  },
  {
   "cell_type": "code",
   "execution_count": 3,
   "metadata": {},
   "outputs": [
    {
     "data": {
      "text/plain": [
       "(1309, 3)"
      ]
     },
     "execution_count": 3,
     "metadata": {},
     "output_type": "execute_result"
    }
   ],
   "source": [
    "dataset.shape"
   ]
  },
  {
   "cell_type": "code",
   "execution_count": 4,
   "metadata": {},
   "outputs": [
    {
     "data": {
      "text/plain": [
       "Jenis\n",
       "ekonomi          100\n",
       "entertainment    134\n",
       "gaya hidup       200\n",
       "news             266\n",
       "sains-tekno      202\n",
       "sport            407\n",
       "Name: Artikel, dtype: int64"
      ]
     },
     "execution_count": 4,
     "metadata": {},
     "output_type": "execute_result"
    }
   ],
   "source": [
    "df2 = dataset.groupby(['Jenis'])['Artikel'].count()\n",
    "df2\n"
   ]
  },
  {
   "cell_type": "code",
   "execution_count": 5,
   "metadata": {},
   "outputs": [],
   "source": [
    "label = dataset.iloc[:,2]\n",
    "feature = dataset.iloc[:,1]"
   ]
  },
  {
   "cell_type": "code",
   "execution_count": 6,
   "metadata": {},
   "outputs": [
    {
     "data": {
      "text/plain": [
       "0    Nilai tukar rupiah terhadap dolar Amerika Seri...\n",
       "1    Perkembangan teknologi telah menyebabkan perub...\n",
       "2    Media sosial kini bukan hanya menjadi alat unt...\n",
       "3    Dalam menjalankan bisnis, menjalin relasi puny...\n",
       "4    Merintis usaha memang bukan pekerjaan mudah. A...\n",
       "5    Perdagangan di Bursa Efek Indonesia (BEI) ditu...\n",
       "6    Indeks Harga Saham Gabungan (IHSG) terkoreksi ...\n",
       "7    Proses ratifikasi tujuh perjanjian perdagangan...\n",
       "8    Pemerintah mematangkan skema pembiayaan fasilt...\n",
       "9    Anak muda zaman sekarang boleh jadi tidak asin...\n",
       "Name: Artikel, dtype: object"
      ]
     },
     "execution_count": 6,
     "metadata": {},
     "output_type": "execute_result"
    }
   ],
   "source": [
    "feature[0:10]"
   ]
  },
  {
   "cell_type": "code",
   "execution_count": 7,
   "metadata": {},
   "outputs": [
    {
     "data": {
      "text/plain": [
       "0    ekonomi\n",
       "1    ekonomi\n",
       "2    ekonomi\n",
       "3    ekonomi\n",
       "4    ekonomi\n",
       "5    ekonomi\n",
       "6    ekonomi\n",
       "7    ekonomi\n",
       "8    ekonomi\n",
       "9    ekonomi\n",
       "Name: Jenis, dtype: object"
      ]
     },
     "execution_count": 7,
     "metadata": {},
     "output_type": "execute_result"
    }
   ],
   "source": [
    "label[0:10]"
   ]
  },
  {
   "cell_type": "code",
   "execution_count": 8,
   "metadata": {},
   "outputs": [],
   "source": [
    "character =['z','y','x','w','v','u','t','s','r','q','p','o','n','m','l','k','j','i','h','g','f','e','d'\n",
    "',','.',';',':','-','...','?','!','(',')','[',']','{','}','<','>','\"','/','\\'','#','-','@']\n",
    "def repeatcharNormalize(text):\n",
    "    for i in range(len(character)):\n",
    "        charac_long = 5\n",
    "        while charac_long>=2:\n",
    "            char=character[i]*charac_long\n",
    "            text=text.replace(char,character[i])\n",
    "            charac_long-=1\n",
    "        return text"
   ]
  },
  {
   "cell_type": "code",
   "execution_count": 9,
   "metadata": {},
   "outputs": [],
   "source": [
    "def spellNormalize(text):\n",
    "    spellCheck = []\n",
    "    for i in text:\n",
    "        if i not in character:\n",
    "            j=sc.correction(i)\n",
    "            spellCheck.append(j)\n",
    "        else:\n",
    "            spellCheck.append(i)\n",
    "        return spellCheck"
   ]
  },
  {
   "cell_type": "code",
   "execution_count": 10,
   "metadata": {},
   "outputs": [],
   "source": [
    "def tokenize_text(text):\n",
    "    tokens=nltk.word_tokenize(text)\n",
    "    tokens=[token.strip() for token in tokens]\n",
    "    return tokens"
   ]
  },
  {
   "cell_type": "code",
   "execution_count": 11,
   "metadata": {},
   "outputs": [],
   "source": [
    "def expand_contractions(text, contraction_mapping):\n",
    "    contractions_pattern = re.compile('({})'.format('|'.join(contraction_mapping.keys())),\n",
    "                                        flags=re.IGNORECASE|re.DOTALL)\n",
    "    def expand_match(contraction):\n",
    "        match = contraction.group(0)\n",
    "        first_char = match[0]\n",
    "        expanded_contraction = contraction_mapping.get(match)\\\n",
    "                               if contraction_mapping.get(match)\\\n",
    "                                else contraction_mapping.get(match.lower())\n",
    "        expanded_contraction = first_char + expanded_contraction[1:]\n",
    "        return expanded_contraction\n",
    "    expanded_text = contractions_pattern.sub(expand_match, text)\n",
    "    expanded_text = re.sub(\"'\",\"\", expanded_text)\n",
    "    return expanded_text"
   ]
  },
  {
   "cell_type": "code",
   "execution_count": 12,
   "metadata": {},
   "outputs": [],
   "source": [
    "def stemmer_text(text):\n",
    "    factory = StemmerFactory()\n",
    "    stemmer = factory.create_stemmer()\n",
    "    text = stemmer.stem(text)\n",
    "    return text"
   ]
  },
  {
   "cell_type": "code",
   "execution_count": 13,
   "metadata": {},
   "outputs": [],
   "source": [
    "def remove_special_characters(text):\n",
    "    tokens = tokenize_text(text)\n",
    "    pattern = re.compile('[{}]'.format(re.escape(string.punctuation)))\n",
    "    filtered_tokens = filter(None, [pattern.sub('',token) for token in tokens])\n",
    "    filtered_text = ' '.join(filtered_tokens)\n",
    "    return filtered_text\n"
   ]
  },
  {
   "cell_type": "code",
   "execution_count": 14,
   "metadata": {},
   "outputs": [],
   "source": [
    "factory = StopWordRemoverFactory()\n",
    "stopword_list = factory.get_stop_words()"
   ]
  },
  {
   "cell_type": "code",
   "execution_count": 15,
   "metadata": {},
   "outputs": [],
   "source": [
    "def remove_stopwords(text):\n",
    "    tokens = tokenize_text(text)\n",
    "    filtered_tokens = [token for token in tokens if token not in stopword_list]\n",
    "    filtered_text = ' '.join(filtered_tokens)\n",
    "    return filtered_text"
   ]
  },
  {
   "cell_type": "code",
   "execution_count": 16,
   "metadata": {},
   "outputs": [],
   "source": [
    "def normalize_corpus(corpus, tokenize=False):\n",
    "    normalized_corpus = []\n",
    "    for text in corpus:\n",
    "        text = expand_contractions(text, CONTRACTION_MAP)\n",
    "        text = stemmer_text(text)\n",
    "        text = remove_special_characters(text)\n",
    "        text = repeatcharNormalize(text)\n",
    "        text = remove_stopwords(text)\n",
    "        normalized_corpus.append(text)\n",
    "        if tokenize:\n",
    "            text = tokenize_text(text)\n",
    "            text = spellNormalize(text)\n",
    "            normalized_corpus.append(text)\n",
    "    # print(normalized_corpus)\n",
    "    return normalized_corpus"
   ]
  },
  {
   "cell_type": "code",
   "execution_count": 17,
   "metadata": {},
   "outputs": [],
   "source": [
    "def prepare_datasets(corpus, labels, test_data_proportion=0.3):\n",
    "    train_X, test_X, train_Y, test_Y = train_test_split(corpus, labels,\n",
    "                                                        test_size=0.33,\n",
    "                                                        random_state=42)\n",
    "    return train_X, test_X, train_Y, test_Y"
   ]
  },
  {
   "cell_type": "code",
   "execution_count": 18,
   "metadata": {},
   "outputs": [],
   "source": [
    "train_corpus, test_corpus, train_labels, test_labels = prepare_datasets(feature,\n",
    "                                                                        label,\n",
    "                                                                        test_data_proportion=0.3)"
   ]
  },
  {
   "cell_type": "code",
   "execution_count": 19,
   "metadata": {},
   "outputs": [
    {
     "name": "stdout",
     "output_type": "stream",
     "text": [
      "376     Gonjang-ganjing soal siapa pelatih tim nasiona...\n",
      "578     Kotak hitam, walau baru sebagian, telah ditemu...\n",
      "494     Hiu prasejarah megalodon sedang hangat diperbi...\n",
      "314     Seharusnya, Persib Bandung memiliki peluang be...\n",
      "1098    Sejak menyutradarai Ngenest (2015) sebagai fil...\n",
      "                              ...                        \n",
      "1095    Wiro Sableng: Pendekar Kapak Maut Naga Geni 21...\n",
      "1130    Pemindai sidik jari saat ini menjadi salah sat...\n",
      "1294    Napoli dan Chievo sama-sama gagal memetik poin...\n",
      "860     Banyak orang merasa takut dan gelisah ketika h...\n",
      "1126    Orang utan adalah salah satu hewan darat palin...\n",
      "Name: Artikel, Length: 877, dtype: object\n"
     ]
    }
   ],
   "source": [
    "print(train_corpus)"
   ]
  },
  {
   "cell_type": "code",
   "execution_count": 20,
   "metadata": {},
   "outputs": [
    {
     "name": "stdout",
     "output_type": "stream",
     "text": [
      "1148    Mata merupakan jendela jiwa. Inilah yang diman...\n",
      "1049    Coldplay akan merilis sebuah dokumenter berjud...\n",
      "982     Nakita.id - Sarita Abdul Mukti dan Faisal Harr...\n",
      "808     Akhir-akhir ini, melancong semakin digemari ba...\n",
      "1195    Musik ternyata tidak hanya berdampak pada manu...\n",
      "                              ...                        \n",
      "715     Perkiraan pertumbuhan ekonomi dunia dipangkas....\n",
      "1246    Pada pengujung 2018, seharusnya masyarakat dap...\n",
      "814     Media sosial kini bukan hanya menjadi alat unt...\n",
      "978     Grid.ID - Tak banyak yang tahu tentang sifat a...\n",
      "885     Masa-masa mencari kerja biasanya penuh dengan ...\n",
      "Name: Artikel, Length: 432, dtype: object\n"
     ]
    }
   ],
   "source": [
    "print(test_corpus)"
   ]
  },
  {
   "cell_type": "markdown",
   "metadata": {},
   "source": [
    "Start Train"
   ]
  },
  {
   "cell_type": "code",
   "execution_count": 21,
   "metadata": {},
   "outputs": [],
   "source": [
    "# norm_train_corpus = normalize_corpus(train_corpus)\n"
   ]
  },
  {
   "cell_type": "code",
   "execution_count": 22,
   "metadata": {},
   "outputs": [],
   "source": [
    "# current_datetime = datetime.now().strftime(\"%Y-%m-%d_%H-%M-%S\")\n",
    "# # Nama file CSV yang ingin Anda buat\n",
    "# csv_file = '../Modul2/norm_train_corpus_{current_datetime}.csv'\n",
    "\n",
    "# # Buka file CSV untuk penulisan\n",
    "# with open(csv_file, 'w', newline='') as file:\n",
    "#     writer = csv.writer(file)\n",
    "\n",
    "#     for text in norm_train_corpus:\n",
    "#         writer.writerow([text])"
   ]
  },
  {
   "cell_type": "code",
   "execution_count": 23,
   "metadata": {},
   "outputs": [],
   "source": [
    "# norm_train_corpus[0:10]"
   ]
  },
  {
   "cell_type": "code",
   "execution_count": 24,
   "metadata": {},
   "outputs": [],
   "source": [
    "# norm_test_corpus = normalize_corpus(test_corpus)"
   ]
  },
  {
   "cell_type": "code",
   "execution_count": 25,
   "metadata": {},
   "outputs": [],
   "source": [
    "# current_datetime = datetime.now().strftime(\"%Y-%m-%d_%H-%M-%S\")\n",
    "# # Nama file CSV yang ingin Anda buat\n",
    "# csv_file = '../Modul2/norm_test_corpus _{current_datetime}.csv'\n",
    "\n",
    "# # Buka file CSV untuk penulisan\n",
    "# with open(csv_file, 'w', newline='') as file:\n",
    "#     writer = csv.writer(file)\n",
    "\n",
    "#     for text in norm_test_corpus:\n",
    "#         writer.writerow([text])"
   ]
  },
  {
   "cell_type": "code",
   "execution_count": 26,
   "metadata": {},
   "outputs": [],
   "source": [
    "# norm_test_corpus[0:10]"
   ]
  },
  {
   "cell_type": "markdown",
   "metadata": {},
   "source": [
    "Ambil hasil train dan test yang sudah di simpan cvs"
   ]
  },
  {
   "cell_type": "markdown",
   "metadata": {},
   "source": [
    "train set simpan"
   ]
  },
  {
   "cell_type": "code",
   "execution_count": 27,
   "metadata": {},
   "outputs": [
    {
     "data": {
      "text/html": [
       "<div>\n",
       "<style scoped>\n",
       "    .dataframe tbody tr th:only-of-type {\n",
       "        vertical-align: middle;\n",
       "    }\n",
       "\n",
       "    .dataframe tbody tr th {\n",
       "        vertical-align: top;\n",
       "    }\n",
       "\n",
       "    .dataframe thead th {\n",
       "        text-align: right;\n",
       "    }\n",
       "</style>\n",
       "<table border=\"1\" class=\"dataframe\">\n",
       "  <thead>\n",
       "    <tr style=\"text-align: right;\">\n",
       "      <th></th>\n",
       "      <th>text</th>\n",
       "    </tr>\n",
       "  </thead>\n",
       "  <tbody>\n",
       "    <tr>\n",
       "      <th>0</th>\n",
       "      <td>gonjangganjing,soal,siapa,latih,tim,nasional,i...</td>\n",
       "    </tr>\n",
       "  </tbody>\n",
       "</table>\n",
       "</div>"
      ],
      "text/plain": [
       "                                                text\n",
       "0  gonjangganjing,soal,siapa,latih,tim,nasional,i..."
      ]
     },
     "execution_count": 27,
     "metadata": {},
     "output_type": "execute_result"
    }
   ],
   "source": [
    "train_set = pd.read_csv('train_coprus.csv')\n",
    "train_set.head(1)"
   ]
  },
  {
   "cell_type": "code",
   "execution_count": 28,
   "metadata": {},
   "outputs": [
    {
     "data": {
      "text/plain": [
       "array([['gonjangganjing,soal,siapa,latih,tim,nasional,indonesia,depan,jawab,lalu,rapat,komite,eksekutif,exco,pssi,senin,17,9,2018,malam,federasi,nama,luis,milla,besut,skuat,garuda,putus,sekaligus,jawab,spekulasi,edar,beberapa,hari,akhir,kontrak,milla,tak,panjang,pssi,spekulasi,sebut,maklum,kontrak,akhir,pascaasian,games,milla,kerap,gagal,penuh,target,misal,ajang,sea,games,2017,latih,usia,51,tahun,target,raih,emas,nyata,garuda,u23,perunggu,asi,games,patok,masuk,empat,besar,hansamu,yama,pranata,dkk,finis,16,besar,capai,sebut,tak,masalah,pssi,banyak,suara,minta,milla,tahan,lihat,main,timnas,baik,tak,capai,target,pssi,milla,bagai,latih,timnas,beri,respons,positif,ucap,aggota,exco,pssi,refrizal,goal,indonesia,sama,muka,wakil,ketua,umum,pssi,joko,driyono,rapat,malam,turut,jumlah,poin,pertama,soal,putus,angkat,milla,sang,latih,merespon,baik,tawar,aju,tiga,sambung,joko,bicara,waktu,datang,milla,milla,tengah,libur,jalan,latih,lisensi,uefa,pro,kira,datang,indonesia,9,oktober,hari,laga,uji,coba,lawan,myanmar,poin,akhir,kait,kontrak,hitam,atas,putih,sekretaris,jenderal,ratu,tisha,destria,laku,komunikasi,penting,ucap,joko,kutip,cnn,indonesia,hingga,legalitas,kontrak,milla,memang,jelas,mantan,main,barcelona,tiba,indonesia,rapat,malam,hotel,sultan,jakarta,pusat,turut,joko,federasi,bahas,soal,target,piala,aff,2018,jauh,11,edisi,piala,aff,sejak,1996,indonesia,sekalipun,keluar,bagai,juara,edisi,pssi,target,juara,muka,milla,status,posisi,orang,dialog,nyaman,cara,fisik,muka,temu,muka,kata,joko,coach,luis,milla,baru,gabung,9,oktober,ideal,berinterkasi,bicara,program,latih,detail,target,kontrak,jauh,joko,memang,mau,bicara,detail,soal,kontrak,bocor,aspek,tunjang,macam,gaji,jumlah,fasilitas,bakal,penuh,pssi,masa,depan,milla,jelas,beberapa,waktu,lalu,sebut,sempat,muka,jumlah,media,masuk,suara,detik,abar,pssi,tunggak,gaji,milla,lama,tiga,bulan,total,rp6,9,miliar,pssi,sebut,ganti,sewa,rumah,milla,lama,tinggal,bal,sejak,februari,hingga,agustus,jalan,pusat,latih,sebut,kemudian,tengara,jadi,buntu,negosiasi,pssi,milla,akhir,pekan,kemarin,refrizal,anggota,exco,pssi,tak,sangkal,kabar,sebut,turut,bayar,gaji,milla,sangkut,langsung,balik,spanyol,indonesia,singkir,asi,games,2018,milla,jadi,latih,indonesia,iring,nasib,bima,sakti,panjang,minggu,lalu,bima,sebut,bagai,salah,satu,calon,ganti,milla,tangan,timnas,widodo,c,putro,hingga,simon,mcmenemy,kini,mantan,main,timnas,indonesia,medio,1990,hingga,2000an,jadi,asisten,milla,posisi,pegang,kurun,kuranglebih,tahun,akhir,miguel,gandia,asisten,latih,milla,kontrak,periode,latih,kiper,ubah,milla,datang,tiga,miguel,latih,kiper,ganti,eduardo,perez,coach,bima,bagai,asisten,latih,ujar,joko,kerja,sama,millabimagandia,benar,tak,buruk,meski,singkir,babak,16,besar,asi,games,sejati,indonesia,tampil,cukup,baik,gabung,grup,a,sama,palestina,hong,kong,indonesia,hasil,keluar,bagai,juara,grup,raih,9,poin,hasil,tiga,kali,menang,sekali,kalah,indonesia,singkir,lawan,uni,emirates,arab,babak,16,besar,lewat,adu,penalti,milla,tetap,jadi,latih,timnas,indonesia,buat,senang,beberapa,main,timnas,evan,mas,darmono,kata,milla,paham,main,timnas,coach,milla,tahu,main,ucap,evan,mas,bolasport,com,h,t,kompas,com,menang,10,atas,tuan,rumah,borneo,fc,buat,persib,kini,unggul,lima,poin,puncak,klasemen,liga,1,indonesia,wakil,indonesia,undi,berat,babak,awal,china,open,ganda,putra,mayoritas,wakil,merahputih,pool,atas,kevin,marcus,kejar,capai,juara,semua,turnamen,super,1000,23,atlet,cilik,hasil,raih,beasiswa,pb,djarum,2018,sisih,lebih,5,900,atlet,partisipasi,,,,,,,,,,,,,,,,,,,,,,,,,,,,,,,,,,,,,,,,,,,,,,,,,,,,,,,,,,,,,,,,,,,,,,,,,,,,,,,,,,,,,,,,,,,,,,,,,,,,,,,,,,,,,,,,,,,,,,,,,,,,,,,,,,,,,,,,,,,,,,,,,,,,,,,,,,,,,,,,,,,,,,,,,,,,,,,,,,,,,,,,,,,,,,,,,,,,,,,,,,,,,,,,,,,,,,,,,,,,,,,,,,,,,,,,,,,,,,,,,,,,,,,,,,,,,,,,,,,,,,,,,,,,,,,,,,,,,,,,,,,,,,,,,,,,,,,,,,,,,,,,,,,,,,,,,,,,,,,,,,,,,,,,,,,,,,,,,,,,,,,,,,,,,,,,,,,,,,,,,,,,,,,,,,,,,,,,,,,,,,,,,,,,,,,,,,,,,,,,,,,,,,,,,,,,,,,,,,,,,,,,,,,,,,,,,,,,,,,,,,,,,,,,,,,,,,,,,,,,,,,,,'],\n",
       "       ['kotak,hitam,baru,temu,kini,semua,utama,keluarga,korban,tengah,hasil,lidi,komite,nasional,selamat,transportasi,knkt,kena,jatuh,pesawat,lion,air,pklqp,baru,lepas,landas,jakarta,tuju,pangkalpinang,senin,29,10,2017,agam,spekulasi,soal,celaka,muncul,semua,baru,jawab,knkt,selesai,lidi,tahun,sekarang,ikut,papar,kembang,lidi,knkt,kabar,baru,putar,insiden,jatuh,pesawat,boeing,737,max,8,baru,usia,tiga,bulan,air,tanjung,karawang,kotak,hitam,black,box,knkt,segera,teliti,isi,rekam,baru,satu,kotak,hitam,temu,tahu,flight,data,recorder,fdr,cockpit,voice,recorder,cvr,investigator,knkt,bambang,iriawan,sempat,fdr,kemudian,koordinator,investigator,selamat,udara,knkt,ony,soerjo,wibowo,nyata,fdr,cvr,badan,nasional,cari,selamat,bnpp,basarnas,kabar,kumpar,2,11,serah,seluruh,temu,barang,pesawat,sebut,teliti,knkt,proses,lidi,dasar,atur,menteri,pm,no,74,tahun,2017,penuh,konvensi,chicago,terbang,sipil,internasional,annex,13,konvensi,sebut,sesuai,annex,13,negara,selidik,celaka,kasus,knkt,serah,lapor,awal,preliminary,report,lidi,sebut,organisasi,terbang,sipil,internasional,international,civil,aviation,organization,icao,waktu,30,hari,sejak,hari,celaka,jadi,lapor,kategori,konfidensial,rahasia,buka,publik,gantung,selidik,wenang,ony,jelas,lapor,sebut,upa,data,fakta,celaka,pesawat,pklqp,analisis,jelas,jadi,ungkap,data,fakta,kata,katadata,co,id,1,11,data,fakta,bakal,papar,masuk,kronologi,jadi,data,terbang,pesawat,nama,alamat,operator,pesawat,kru,tugas,celaka,jadi,kru,knkt,selidik,alam,tingkat,sehat,nama,nomor,lisensi,cantum,lindung,privasi,sangkut,lapor,muat,data,badan,meteorologi,klimatologi,geofisika,bmkg,kena,kondisi,alam,mungkin,rahasia,ony,tegas,knkt,putus,buka,lapor,awal,publik,rakyat,indonesia,hak,tahu,data,fakta,tegas,lapor,akhir,cepat,mungkin,waktu,12,bulan,celaka,jadi,hasil,lidi,knkt,dasar,pm,74,2017,jadi,rekomendasi,selamat,laku,tindak,cegah,anggap,perlu,segera,tingkat,selamat,terbang,pihak,wenang,sangkut,masuk,negara,icao,apabila,kait,dokumen,icao,jelas,wakil,ketua,knkt,haryo,satmiko,wartakotalive,com,kapasitas,siapa,salah,peristiwa,sebut,hasil,lidi,knkt,kata,haryo,serah,menteri,hubung,cum,direktorat,jenderal,hubung,udara,lion,air,bagai,operator,terbang,boeing,bagai,usaha,buat,pesawat,polisi,ri,polri,nyata,selidik,peristiwa,sebut,sisi,nonteknis,kepala,divisi,humas,polri,irjen,pol,setyo,wasisto,kutip,kompas,com,2,11,tugas,bentuk,tim,bareskrim,antisipasi,teliti,sabotase,kata,setyo,tim,sebut,koordinasi,knkt,mulai,kumpul,data,butuh,hingga,jumat,2,11,lapor,antaranews,com,65,kantong,jenazah,datang,rs,polri,kramat,jati,jakarta,timur,identifikasi,tim,disaster,victim,investigation,dvi,indonesia,automatic,fingerprint,identifcation,system,inafis,polri,turut,kepala,rs,polri,kombes,musyafak,liputan6,com,ambil,sampel,dna,238,potong,tubuh,48,kantong,jenazah,jumlah,baru,satu,jenazah,hasil,identifikasi,jannatun,cintya,dewi,24,makam,sidoarjo,jawa,timur,kamis,1,11,anggota,keluarga,seluruh,189,korban,serah,data,antemortem,data,diri,korban,mati,baru,152,anggota,keluarga,ambil,sampel,dnanya,cocok,dna,korban,sedikit,korban,temu,buat,basarnas,putus,luas,area,cari,cari,tim,sar,gabung,fokus,radius,10,mil,laut,titik,jatuh,pesawat,air,tanjung,karawang,kini,cari,luas,hingga,laut,kawasan,bekas,indramayu,jawa,barat,humas,basarnas,bandung,joshua,banjarnahor,tempo,co,tiga,wni,kerja,bagai,abk,art,tze,kapal,bendera,singapura,culik,perompak,laut,dekat,pointenoire,kongo,senin,29,10,2018,culik,aju,tuntut,menteri,hubung,budi,karya,sumadi,evaluasi,ulang,ketat,manajemen,selamat,maskapai,terbang,khusus,biaya,murah,low,cost,carrier,lcc,formula,upah,jadi,debat,usaha,nilai,formula,hitung,naik,beri,sedang,buruh,nilai,naik,tak,cukup,tutup,butuh,,,,,,,,,,,,,,,,,,,,,,,,,,,,,,,,,,,,,,,,,,,,,,,,,,,,,,,,,,,,,,,,,,,,,,,,,,,,,,,,,,,,,,,,,,,,,,,,,,,,,,,,,,,,,,,,,,,,,,,,,,,,,,,,,,,,,,,,,,,,,,,,,,,,,,,,,,,,,,,,,,,,,,,,,,,,,,,,,,,,,,,,,,,,,,,,,,,,,,,,,,,,,,,,,,,,,,,,,,,,,,,,,,,,,,,,,,,,,,,,,,,,,,,,,,,,,,,,,,,,,,,,,,,,,,,,,,,,,,,,,,,,,,,,,,,,,,,,,,,,,,,,,,,,,,,,,,,,,,,,,,,,,,,,,,,,,,,,,,,,,,,,,,,,,,,,,,,,,,,,,,,,,,,,,,,,,,,,,,,,,,,,,,,,,,,,,,,,,,,,,,,,,,,,,,,,,,,,,,,,,,,,,,,,,,,,,,,,,,,,,,,,,,,,,,,,,,,,']],\n",
       "      dtype=object)"
      ]
     },
     "execution_count": 28,
     "metadata": {},
     "output_type": "execute_result"
    }
   ],
   "source": [
    "array_train = train_set.values\n",
    "array_train[0:2]"
   ]
  },
  {
   "cell_type": "code",
   "execution_count": 29,
   "metadata": {},
   "outputs": [
    {
     "data": {
      "text/plain": [
       "'salah,satu,pamer,teknologi,besar,dunia,ifa,internationale,funkausstellung,depan,mata,acara,langsung,tanggal,31,agustus,hingga,5,september,2018,lin,expocenter,city,jerman,ajang,besar,biasa,manufaktur,perangkat,teknologi,samsung,lg,sony,huawei,nokia,hingga,lenovo,bakal,kenal,pamer,bagai,macam,perangkat,gawai,baru,mulai,ponsel,hingga,speaker,pintar,tv,laptop,banyak,ifa,selalu,jadi,sumber,teknologi,konsumen,alat,rumah,tangga,bahkan,saing,consumer,electronic,show,pamer,barang,elektronik,besar,amerika,serikat,selenggara,las,vegas,ikut,manufaktur,nama,gawai,apa,bakal,pamer,lin,bagaimana,rangkum,beberapa,sumber,galaxy,note,9,galaxy,watch,memang,luncur,arti,samsung,habis,stok,pamer,ifa,lansir,the,verge,samsung,bakal,pajang,perangkat,tv,baru,8k,qled,tv,beberapa,tahun,akhir,samsung,memang,manfaat,ifa,luncur,perangkat,lacak,bugar,earbud,nirkabel,usaha,sebut,sempat,pamer,tv,resolusi,8k,ces,2018,hingga,berita,tulis,sebut,berapa,banyak,model,keluar,lin,blackberry,tampak,optimistis,produk,damba,gemar,seluruh,dunia,meski,masa,jaya,ponsel,papan,tik,konvensional,jadi,masa,lalu,beberapa,tahun,akhir,blackberry,coba,bangkit,ragam,ponsel,baru,keluar,deret,ponsel,sebut,bukan,produksi,langsung,usaha,asal,kanada,sebut,karya,tcl,communication,usaha,tiongkok,beli,lisensi,produksi,gawai,merek,blackberry,ifa,2018,pamer,versi,murah,key2,beri,nama,key2,le,key2,lite,edition,ponsel,sebut,kenal,publik,kamis,30,8,hari,buka,ifa,sony,jarang,sekali,luncur,ponsel,baru,turut,lapor,firstpost,xperia,baru,bakal,hadir,ifa,lin,tanda,hadir,seri,xperia,baru,sebut,mulai,tebar,sejak,awal,bulan,lalu,akun,media,sosial,kicau,twitter,sony,tampil,pesan,pendek,video,singkat,logo,xperia,pampang,depan,kabaranya,ponsel,xperia,xz3,bocor,gambar,ponsel,edar,tunjuk,sony,poni,layar,notch,tengah,populer,desain,xz3,hampir,sama,xz2,premium,luncur,awal,tahun,ponsel,sony,bakal,ungkap,buah,headphone,anyar,wh1000x,mk3,sama,produk,audio,baru,penuh,butuh,audiophile,nikmat,audio,kelas,atas,sama,sony,lenovo,motorola,tenggelam,dunia,ponsel,ajang,usaha,sebut,ambil,sempat,kenal,varian,baru,yoga,yoga,930,mungkin,hadir,moto,x5,p30,kira,bakal,pamer,lenovo,beberapa,lengkap,vr,virtual,reality,resmi,luncur,lg,g7,thinq,bulan,mei,lalu,usaha,asal,korea,selatan,bakal,umum,ponsel,baru,g7,one,g7,fit,hadir,model,baru,harga,lebih,jangkau,lg,g7,thinq,ifa,2018,umum,unggah,blog,resmi,lg,paling,tarik,mungkin,g7,one,gawai,ponsel,android,one,pertama,lg,android,one,program,standar,perangkat,keras,lunak,google,ponsel,android,one,os,android,versi,polos,jamin,bakal,terima,baru,patch,sekuriti,baik,bug,cara,reguler,ikut,dukung,buat,hingga,tiga,tahun,ponsel,turut,broadbandtvnews,lg,bakal,mendemontrasikan,monitor,ultragear,baru,tuju,gamer,hingga,p20,pro,jadi,salah,satu,ponsel,andal,usaha,logo,kipas,merah,asal,tiongkok,orang,tunggu,apa,gebrak,baru,bakal,kenal,huawei,ajang,ifa,2018,rumor,muncul,beberapa,hari,akhir,sebut,usaha,sebut,luncur,seri,mate,20,sama,huawei,kenal,cip,baru,beri,nama,kirin,980,bakal,seri,mate,20,flagship,honor,tahun,tahun,depan,ajang,sebut,huawei,bakal,bicara,banyak,rencana,songsong,era,5g,usaha,ponsel,tiongkok,zte,sebut,kenal,axon,9,gambar,ponsel,sebut,akun,resmi,twitter,weibonya,spesifikasi,ponsel,rahasia,zte,lansir,ubergizmo,gambar,rilis,ungkap,sistem,kamera,ganda,belakang,milik,desain,lengkung,sama,huawei,zte,bakal,bicara,banyak,inovasi,5g,tahun,tajuk,pimpin,inovasi,5g,blackberry,bisnis,telepon,nokia,besar,operasi,usaha,lama,beberapa,tahun,akhir,hmd,global,hasil,tarik,minat,andorid,lirik,jenama,nokia,jelas,ponsel,nokia,luncur,ifa,rumor,edar,hadir,nokia,9,prosesor,snapdragon,845,akhir,htc,mungkin,kenal,buah,ponsel,baru,beri,nama,u12,life,sama,u11,life,kenal,tahun,lalu,u12,life,jadi,versi,murah,u12,plus,benar,sesuai,rumor,u12,life,milik,layar,6,inci,aspek,rasio,18,9,milik,poni,layar,performa,andal,snapdragon,636,simpan,internal,64gb,ram,4gb,sama,atur,kamera,belakang,ganda,dulu,produk,buat,tiongkok,jual,murah,korban,kualitas,daya,tahan,kini,stigma,sebut,sukses,hapus,produsen,potensi,alam,indonesia,sempat,jadi,negara,hasil,listrik,tenaga,panas,bumi,besar,dunia,key2,le,sebut,memilki,spesifikasi,lebih,rendah,banding,key,2,,,,,,,,,,,,,,,,,,,,,,,,,,,,,,,,,,,,,,,,,,,,,,,,,,,,,,,,,,,,,,,,,,,,,,,,,,,,,,,,,,,,,,,,,,,,,,,,,,,,,,,,,,,,,,,,,,,,,,,,,,,,,,,,,,,,,,,,,,,,,,,,,,,,,,,,,,,,,,,,,,,,,,,,,,,,,,,,,,,,,,,,,,,,,,,,,,,,,,,,,,,,,,,,,,,,,,,,,,,,,,,,,,,,,,,,,,,,,,,,,,,,,,,,,,,,,,,,,,,,,,,,,,,,,,,,,,,,,,,,,,,,,,,,,,,,,,,,,,,,,,,,,,,,,,,,,,,,,,,,,,,,,,,,,,,,,,,,,,,,,,,,,,,,,,,,,,,,,,,,,,,,,,'"
      ]
     },
     "execution_count": 29,
     "metadata": {},
     "output_type": "execute_result"
    }
   ],
   "source": [
    "norm_train_corpus=array_train.flatten().tolist()\n",
    "norm_train_corpus[10]"
   ]
  },
  {
   "cell_type": "markdown",
   "metadata": {},
   "source": [
    "test train"
   ]
  },
  {
   "cell_type": "code",
   "execution_count": 30,
   "metadata": {},
   "outputs": [
    {
     "data": {
      "text/html": [
       "<div>\n",
       "<style scoped>\n",
       "    .dataframe tbody tr th:only-of-type {\n",
       "        vertical-align: middle;\n",
       "    }\n",
       "\n",
       "    .dataframe tbody tr th {\n",
       "        vertical-align: top;\n",
       "    }\n",
       "\n",
       "    .dataframe thead th {\n",
       "        text-align: right;\n",
       "    }\n",
       "</style>\n",
       "<table border=\"1\" class=\"dataframe\">\n",
       "  <thead>\n",
       "    <tr style=\"text-align: right;\">\n",
       "      <th></th>\n",
       "      <th>text</th>\n",
       "    </tr>\n",
       "  </thead>\n",
       "  <tbody>\n",
       "    <tr>\n",
       "      <th>0</th>\n",
       "      <td>mata,rupa,jendela,jiwa,manfaat,artificial,inte...</td>\n",
       "    </tr>\n",
       "  </tbody>\n",
       "</table>\n",
       "</div>"
      ],
      "text/plain": [
       "                                                text\n",
       "0  mata,rupa,jendela,jiwa,manfaat,artificial,inte..."
      ]
     },
     "execution_count": 30,
     "metadata": {},
     "output_type": "execute_result"
    }
   ],
   "source": [
    "test_set = pd.read_csv('test.csv')\n",
    "test_set.head(1)"
   ]
  },
  {
   "cell_type": "code",
   "execution_count": 31,
   "metadata": {},
   "outputs": [
    {
     "name": "stdout",
     "output_type": "stream",
     "text": [
      "432\n"
     ]
    }
   ],
   "source": [
    "print(len(test_set))"
   ]
  },
  {
   "cell_type": "code",
   "execution_count": 32,
   "metadata": {},
   "outputs": [
    {
     "data": {
      "text/plain": [
       "array([['mata,rupa,jendela,jiwa,manfaat,artificial,inteligence,ai,cerdas,buat,baca,pribadi,turut,buah,teliti,baru,terbit,jurnal,frontiers,in,human,neuroscience,teliti,kembang,buah,teknologi,baru,manfaat,cerdas,buat,deteksi,gera,mata,uak,pribadi,orang,kerja,kata,mampu,revolusi,bagaimana,manusia,komunikasi,mesin,teknologi,depan,sistem,ponsel,pintar,paham,prediksi,perilaku,potensi,tawar,layan,lebih,personal,teknologi,sebut,robot,tugas,tani,orang,lanjut,usia,mobil,kemudi,sendiri,gim,video,interaktif,teliti,university,of,south,australia,kerja,sama,univeristy,of,stuttgart,max,planck,institute,for,informatics,jerman,flinders,university,australia,selatan,rancang,algoritma,mampu,ajar,mesin,kemampuan,komputer,tindak,cara,eksplisit,diprogram,menggunakan,data,kumpul,42,flinders,university,algoritma,ajar,mesin,rekam,gera,mata,laku,tugas,hari,headset,lacak,mata,buat,sensormotoric,instruments,kena,headset,lama,puluh,menit,kemudian,teliti,periksa,cara,silang,temu,kuesioner,biasa,indikasi,ciri,pribadi,dominan,lalu,teliti,periksa,subjek,lama,laku,giat,beda,misal,jalan,toko,banding,jalan,laboratorium,periksa,prediksi,algoritma,buat,skenario,dasar,ciri,pribadi,big,five,buka,hati,nurani,ekstraversi,ramah,neurotisisme,cerdas,buat,mampu,identifikasi,empat,butir,neurotisisme,extraversion,ramah,hati,nurani,hasil,teliti,hasil,tebak,semua,ciri,pribadi,buka,dasar,hasil,teliti,simpul,gera,apa,wakil,pribadi,bawah,salah,satu,kontribusi,utama,kerja,tunjuk,pertama,kali,tingkat,neurotisisme,ekstraversi,ramah,teliti,rasa,tahu,perseptual,tipe,pribadi,individu,prediksi,gera,mata,rekam,lama,laku,tugas,hari,tulis,teliti,studi,perlu,perhati,cerdas,buat,memang,mampu,prediksi,jenis,pribadi,mampu,laku,tingkat,akurasi,sangat,tinggi,sempurna,lebih,lanjut,teliti,pikir,teknologi,macam,cara,dramatis,tingkat,interaksi,mesin,beri,mampu,asisten,virtual,cara,baca,suasana,hati,pribadi,tobias,loetscher,university,of,south,australia,libat,teliti,kata,buah,unggah,situs,universitas,teliti,tunjuk,mungkin,masa,depan,robot,benar,paham,emosi,orang,hadap,orang,selalu,cari,layan,tingkat,personal,kata,loetscher,robot,komputer,sadar,cara,sosial,adaptasi,isyarat,nonverbal,teliti,beri,sempat,kembang,robot,komputer,jadi,lebih,alami,lebih,baik,tafsir,sinyal,sosial,manusia,urai,olivia,carter,orang,ahli,saraf,university,of,melbourne,kata,new,scientist,meski,temu,tarik,beri,tanda,masalah,privasi,baru,teknologi,lacak,mata,informasi,sama,rekam,mata,frekuensi,bicara,pungkas,turut,sebut,mudah,rekam,tahu,orang,sebut,teliti,klaim,cara,cepat,murah,mudah,akurat,buah,studi,baru,tunjuk,cerdas,kait,tingkat,konektivitas,antar,beberapa,area,otak,kurang,interaksi,studi,tunjuk,giat,lamun,rupa,tanda,otak,efisien,laku,agam,tugas,tinggal,informasi,,,,,,,,,,,,,,,,,,,,,,,,,,,,,,,,,,,,,,,,,,,,,,,,,,,,,,,,,,,,,,,,,,,,,,,,,,,,,,,,,,,,,,,,,,,,,,,,,,,,,,,,,,,,,,,,,,,,,,,,,,,,,,,,,,,,,,,,,,,,,,,,,,,,,,,,,,,,,,,,,,,,,,,,,,,,,,,,,,,,,,,,,,,,,,,,,,,,,,,,,,,,,,,,,,,,,,,,,,,,,,,,,,,,,,,,,,,,,,,,,,,,,,,,,,,,,,,,,,,,,,,,,,,,,,,,,,,,,,,,,,,,,,,,,,,,,,,,,,,,,,,,,,,,,,,,,,,,,,,,,,,,,,,,,,,,,,,,,,,,,,,,,,,,,,,,,,,,,,,,,,,,,,,,,,,,,,,,,,,,,,,,,,,,,,,,,,,,,,,,,,,,,,,,,,,,,,,,,,,,,,,,,,,,,,,,,,,,,,,,,,,,,,,,,,,,,,,,,,,,,,,,,,,,,,,,,,,,,,,,,,,,,,,,,,,,,,,,,,,,,,,,,,,,,,,,,,,,,,,,,,,,,,,,,,,,,,,,,,,,,,,,,,,,,,,,,,,,,,,,,,,,,,'],\n",
       "       ['coldplay,rilis,buah,dokumenter,judul,a,head,full,of,dreams,lalu,platform,video,manasuka,amazon,prime,video,ingat,20,tahun,diri,band,sebut,jadi,buah,band,besar,kata,chris,martin,rekam,video,1996,kutip,rolling,stone,guy,will,jon,chris,jangan,kalian,lupa,besar,besar,ucap,sang,vokalis,kemudian,jadi,nyata,martin,jonny,buckland,gitar,will,champion,drum,guy,berryman,bas,jadi,coldplay,bagai,salah,satu,kelompok,musik,paling,populer,pengaruh,dunia,a,head,full,of,dreams,cerita,lebih,kena,band,poprock,asal,inggris,band,anak,kuliah,manggung,kafe,lokal,london,hingga,jadi,musisi,kelas,dunia,hasil,ratus,juta,dolar,lansir,hollywood,reporter,12,10,2018,dokumenter,sedia,cara,eksklusif,amazon,prime,video,inggris,amerika,serikat,australia,selandia,baru,16,november,14,november,film,putar,2,0,bioskop,seluruh,dunia,a,head,full,of,dreams,sutradara,mat,whitecross,sineas,usia,41,kenal,coldplay,sejak,band,sebut,diri,kuliah,london,whitecross,bahkan,pernah,rekam,musik,coldplay,empat,orang,anggota,dengar,musik,pertama,kali,kamar,asrama,rupa,hubung,baik,terus,jaga,whitecross,garap,beberapa,videoklip,coldplay,paradise,a,sky,full,of,stars,adventure,of,a,lifetime,bagai,sutradara,dokumenter,whitecross,punya,banyak,alam,pernah,film,jalan,oasis,band,rock,asal,inggris,oasis,supersonic,lelaki,profesi,bagai,sunting,adegan,garap,dokumenter,the,shock,doctrine,2009,moving,to,mars,2009,dokudrama,the,road,to,guantanamo,2006,judul,a,head,full,of,dreams,ambil,titel,album,studio,tujuh,coldplay,rilis,2015,album,single,pertama,adventure,of,a,lifetime,ikut,tur,dunia,hasil,banyak,uang,aksi,panggung,coldplay,114,konser,tur,a,head,full,of,dreams,tonton,5,juta,lebih,gemar,sebar,31,negara,cara,total,tur,tujuh,coldplay,kumpul,523,juta,as,rp7,9,triliun,jadi,tur,laris,tiga,dunia,360,degree,u2,a,bigger,bang,the,rolling,stones,tingkat,sangat,besar,banding,rekor,tur,empat,coldplay,viva,la,vida,gelar,2008,hingga,2010,tur,hasil,209,4,juta,lansir,allmusic,empat,anggota,coldplay,pertama,kali,kumpul,1996,kuliah,university,college,london,jalan,kafe,pub,cukup,panjang,hingga,dapur,rekam,parlophone,records,tarik,rekrut,coldplay,april,1999,tahun,ikut,album,parachutes,rilis,coldplay,mulai,jadi,bincang,banding,band,besar,inggris,radiohead,oasis,musik,lebih,santai,lirik,melodi,ngepop,musik,coldplay,seberang,amerika,serikat,bahkan,seluruh,dunia,2002,coldplay,rilis,album,a,rush,of,blood,to,the,head,seluruh,dunia,lagu,jago,the,scientist,album,buat,coldplay,laku,tur,global,pertama,lalu,mula,dominasi,atas,bandband,besar,seluruh,dunia,lalu,banyak,sama,luar,biasa,tetap,sama,bagai,buah,kelompok,kata,martin,cuplik,film,sebut,,,,,,,,,,,,,,,,,,,,,,,,,,,,,,,,,,,,,,,,,,,,,,,,,,,,,,,,,,,,,,,,,,,,,,,,,,,,,,,,,,,,,,,,,,,,,,,,,,,,,,,,,,,,,,,,,,,,,,,,,,,,,,,,,,,,,,,,,,,,,,,,,,,,,,,,,,,,,,,,,,,,,,,,,,,,,,,,,,,,,,,,,,,,,,,,,,,,,,,,,,,,,,,,,,,,,,,,,,,,,,,,,,,,,,,,,,,,,,,,,,,,,,,,,,,,,,,,,,,,,,,,,,,,,,,,,,,,,,,,,,,,,,,,,,,,,,,,,,,,,,,,,,,,,,,,,,,,,,,,,,,,,,,,,,,,,,,,,,,,,,,,,,,,,,,,,,,,,,,,,,,,,,,,,,,,,,,,,,,,,,,,,,,,,,,,,,,,,,,,,,,,,,,,,,,,,,,,,,,,,,,,,,,,,,,,,,,,,,,,,,,,,,,,,,,,,,,,,,,,,,,,,,,,,,,,,,,,,,,,,,,,,,,,,,,,,,,,,,,,,,,,,,,,,,,,,,,,,,,,,,,,,,,,,,,,,,,,,,']],\n",
       "      dtype=object)"
      ]
     },
     "execution_count": 32,
     "metadata": {},
     "output_type": "execute_result"
    }
   ],
   "source": [
    "array_test = test_set.values\n",
    "array_test[0:2]"
   ]
  },
  {
   "cell_type": "code",
   "execution_count": 33,
   "metadata": {},
   "outputs": [
    {
     "data": {
      "text/plain": [
       "'satu,juta,botol,plastik,beli,tiap,menit,50,persen,plastik,sekali,pakai,8,juta,ton,plastik,akhir,laut,10,persen,semua,sampah,dunia,plastik,fakta,sebut,rupa,bukti,rusa,alam,manusia,ungkap,situs,world,environment,day,meski,fakta,atas,lihat,cara,global,bukan,arti,negara,bebas,beban,tanggung,jawab,sampah,plastik,bukti,indonesia,rupa,negara,hasil,sampah,nomor,besar,dunia,turut,data,menteri,lingkung,hidup,hutan,klhk,satu,dekade,akhir,sampah,plastik,tingkat,11,persen,jadi,16,persen,tahun,2050,komposisi,sampah,plastik,indonesia,prediksi,capai,40,persen,gera,ubah,perilaku,novrizal,tahar,direktur,kelola,sampah,klhk,kata,lima,bentuk,sampah,plastik,indonesia,kantong,jadi,bentuk,paling,banyak,lanjut,sedot,kemudian,kotak,makan,styrofoam,botol,saset,khusus,kantong,sedot,styrofoam,benar,kata,novrizal,talkshow,no,straw,movement,jakarta,convention,center,jumat,20,7,novrizal,kata,bukan,benda,wajib,dulu,baik,laku,aktivitas,makan,kini,jadi,benda,wajib,makin,banyak,orang,makin,gunung,sampah,hasil,lebih,parah,umum,tiga,jenis,benda,plastik,sebut,umur,sekali,pakai,lebih,lanjut,novrizal,kata,selesai,masalah,sampah,plastik,fokus,hilir,hulu,kalah,penting,sampah,cipta,pikir,misal,hindar,cipta,sampah,tumbler,hindar,botol,plastik,sedot,pakai,ujar,sebut,amin,madhina,suryadi,perempuan,muda,gelar,putri,selam,indonesia,2017,bagai,sosok,peduli,lingkung,laut,madhina,sedih,laku,apa,sampah,terus,datang,kotor,laut,aku,usaha,bersih,aku,diving,imbuh,madhi,lanjut,ajak,lebih,banyak,orang,hidup,lebih,hijau,madhi,kerap,buka,paket,wisata,edukasi,sembari,senang,nikmat,indah,bawah,laut,madhi,ajak,lebih,peduli,sampah,contoh,habis,selam,kan,baju,basah,kantong,plastik,mungkin,jadi,solusi,paling,mudah,benar,dry,bag,kata,kok,mulai,kecil,lebih,pikir,jangka,panjang,atas,dampak,laku,dampak,buruk,plastik,telinga,usaha,restoran,mungkir,restoran,hasil,sampah,jumlah,besar,kini,jumlah,restoran,terap,kurang,hingga,henti,sedot,sampah,plastik,luar,biasa,banyak,kerap,remeh,kfc,mulai,kampanye,sedot,sejak,2017,resto,ayam,goreng,amerika,hilang,dispenser,sedot,enam,gerai,langgan,butuh,minta,kasir,bagai,gambar,kfc,indonesia,habis,10,12,juta,sedot,tiap,bulan,pihak,kfc,klaim,usaha,tahun,lalu,hasil,kurang,sedot,hingga,28,persen,meski,kfc,naik,keluh,langgan,hingga,50,persen,banyak,keluh,masuk,marah,kasih,sedot,hingga,tuduh,laku,hemat,semata,kata,hendra,yuniarto,gm,marketing,kfc,indonesia,padahal,kurang,konsumsi,sedot,kontribusi,kecil,keluar,meski,risiko,hadap,awal,2018,tetap,bijak,sebut,seluruh,gerai,indonesia,jumlah,648,gerai,steak,hotel,by,holycow,ikut,partisipasi,program,kurang,plastik,restoran,cinta,daging,bebas,sedot,saji,minum,mulai,maret,2018,meski,baru,sebentar,dampak,capai,50,persen,kurang,meski,butuh,mental,kuat,usaha,tinggi,terap,sedikit,langgan,marah,kata,pelit,masa,sedot,aja,gak,nyediain,kata,wynda,mardio,founder,steak,hotel,by,holycow,wynda,tutur,edukasi,langgan,perlu,laku,praktik,jangan,kes,guru,bagai,konsumen,bijak,orang,perlu,paham,ubah,perilaku,rupa,kunci,tanggung,jawab,apa,buang,alam,ular,beri,nama,xiaophis,myanmarensis,bagai,harga,si,temu,nama,jia,xiao,orang,kolektor,amber,temu,alat,buat,batu,shangchen,buka,mungkin,manusia,purba,tinggal,tiongkok,lebih,lama,250,0,tahun,kira,turut,lapor,blancco,samsung,jadi,jenama,kasus,rusa,banyak,xiaomi,lalu,redmi,4,sandang,bagai,seri,ponsel,paling,banyak,kasus,rusa,,,,,,,,,,,,,,,,,,,,,,,,,,,,,,,,,,,,,,,,,,,,,,,,,,,,,,,,,,,,,,,,,,,,,,,,,,,,,,,,,,,,,,,,,,,,,,,,,,,,,,,,,,,,,,,,,,,,,,,,,,,,,,,,,,,,,,,,,,,,,,,,,,,,,,,,,,,,,,,,,,,,,,,,,,,,,,,,,,,,,,,,,,,,,,,,,,,,,,,,,,,,,,,,,,,,,,,,,,,,,,,,,,,,,,,,,,,,,,,,,,,,,,,,,,,,,,,,,,,,,,,,,,,,,,,,,,,,,,,,,,,,,,,,,,,,,,,,,,,,,,,,,,,,,,,,,,,,,,,,,,,,,,,,,,,,,,,,,,,,,,,,,,,,,,,,,,,,,,,,,,,,,,,,,,,,,,,,,,,,,,,,,,,,,,,,,,,,,,,,,,,,,,,,,,,,,,,,,,,,,,,,,,,,,,,,,,'"
      ]
     },
     "execution_count": 33,
     "metadata": {},
     "output_type": "execute_result"
    }
   ],
   "source": [
    "norm_test_corpus=array_test.flatten().tolist()\n",
    "norm_test_corpus[10]"
   ]
  },
  {
   "cell_type": "markdown",
   "metadata": {},
   "source": [
    "Langkah 4: Ekstraksi Fitur"
   ]
  },
  {
   "cell_type": "code",
   "execution_count": 34,
   "metadata": {},
   "outputs": [],
   "source": [
    "#Fungsi untuk mengekstraksi feature menggunakan TF-IDF Model\n",
    "def tfidf_transformer(bow_matrix):\n",
    "    transformer = TfidfTransformer(norm='l2',\n",
    "                                    smooth_idf=True,\n",
    "                                    use_idf=True)\n",
    "    tfidf_matrix = transformer.fit_transform(bow_matrix)\n",
    "    return transformer, tfidf_matrix"
   ]
  },
  {
   "cell_type": "code",
   "execution_count": 35,
   "metadata": {},
   "outputs": [],
   "source": [
    "def tfidf_extractor(corpus, ngram_range=(1,1)):\n",
    "    vectorizer = TfidfVectorizer(min_df=1,\n",
    "                                    norm='l2',\n",
    "                                    smooth_idf=True,\n",
    "                                    use_idf=True,\n",
    "                                    ngram_range=ngram_range)\n",
    "    features = vectorizer.fit_transform(corpus)\n",
    "    return vectorizer, features"
   ]
  },
  {
   "cell_type": "code",
   "execution_count": 36,
   "metadata": {},
   "outputs": [],
   "source": [
    "tfidf_vectorizer, tfidf_train_features = tfidf_extractor(norm_train_corpus)\n"
   ]
  },
  {
   "cell_type": "code",
   "execution_count": 37,
   "metadata": {},
   "outputs": [],
   "source": [
    "tfidf_test_features = tfidf_vectorizer.transform(norm_test_corpus)"
   ]
  },
  {
   "cell_type": "markdown",
   "metadata": {},
   "source": [
    "Langkah 5: Model Training"
   ]
  },
  {
   "cell_type": "code",
   "execution_count": 38,
   "metadata": {},
   "outputs": [],
   "source": [
    "from sklearn.linear_model import SGDClassifier\n",
    "train_features=tfidf_train_features\n",
    "train_labels=train_labels\n",
    "test_features=tfidf_test_features\n",
    "test_labels=test_labels"
   ]
  },
  {
   "cell_type": "code",
   "execution_count": 39,
   "metadata": {},
   "outputs": [],
   "source": [
    "df_train = pd.DataFrame()\n",
    "df_train['norm_train'] = norm_train_corpus\n",
    "df_train['train_labels'] = train_labels\n",
    "df_test = pd.DataFrame()\n",
    "df_test['norm_test'] = norm_test_corpus\n",
    "df_test['test_labels'] = test_labels"
   ]
  },
  {
   "cell_type": "code",
   "execution_count": 40,
   "metadata": {},
   "outputs": [
    {
     "data": {
      "text/html": [
       "<div>\n",
       "<style scoped>\n",
       "    .dataframe tbody tr th:only-of-type {\n",
       "        vertical-align: middle;\n",
       "    }\n",
       "\n",
       "    .dataframe tbody tr th {\n",
       "        vertical-align: top;\n",
       "    }\n",
       "\n",
       "    .dataframe thead th {\n",
       "        text-align: right;\n",
       "    }\n",
       "</style>\n",
       "<table border=\"1\" class=\"dataframe\">\n",
       "  <thead>\n",
       "    <tr style=\"text-align: right;\">\n",
       "      <th></th>\n",
       "      <th>norm_train</th>\n",
       "      <th>train_labels</th>\n",
       "    </tr>\n",
       "  </thead>\n",
       "  <tbody>\n",
       "    <tr>\n",
       "      <th>0</th>\n",
       "      <td>gonjangganjing,soal,siapa,latih,tim,nasional,i...</td>\n",
       "      <td>ekonomi</td>\n",
       "    </tr>\n",
       "    <tr>\n",
       "      <th>1</th>\n",
       "      <td>kotak,hitam,baru,temu,kini,semua,utama,keluarg...</td>\n",
       "      <td>ekonomi</td>\n",
       "    </tr>\n",
       "    <tr>\n",
       "      <th>2</th>\n",
       "      <td>hiu,prasejarah,megalodon,sedang,hangat,bincang...</td>\n",
       "      <td>ekonomi</td>\n",
       "    </tr>\n",
       "    <tr>\n",
       "      <th>3</th>\n",
       "      <td>persib,bandung,milik,peluang,besar,juara,liga,...</td>\n",
       "      <td>NaN</td>\n",
       "    </tr>\n",
       "    <tr>\n",
       "      <th>4</th>\n",
       "      <td>sejak,sutradara,ngenest,2015,bagai,film,panjan...</td>\n",
       "      <td>ekonomi</td>\n",
       "    </tr>\n",
       "  </tbody>\n",
       "</table>\n",
       "</div>"
      ],
      "text/plain": [
       "                                          norm_train train_labels\n",
       "0  gonjangganjing,soal,siapa,latih,tim,nasional,i...      ekonomi\n",
       "1  kotak,hitam,baru,temu,kini,semua,utama,keluarg...      ekonomi\n",
       "2  hiu,prasejarah,megalodon,sedang,hangat,bincang...      ekonomi\n",
       "3  persib,bandung,milik,peluang,besar,juara,liga,...          NaN\n",
       "4  sejak,sutradara,ngenest,2015,bagai,film,panjan...      ekonomi"
      ]
     },
     "execution_count": 40,
     "metadata": {},
     "output_type": "execute_result"
    }
   ],
   "source": [
    "df_train.head()"
   ]
  },
  {
   "cell_type": "code",
   "execution_count": 41,
   "metadata": {},
   "outputs": [
    {
     "data": {
      "text/html": [
       "<div>\n",
       "<style scoped>\n",
       "    .dataframe tbody tr th:only-of-type {\n",
       "        vertical-align: middle;\n",
       "    }\n",
       "\n",
       "    .dataframe tbody tr th {\n",
       "        vertical-align: top;\n",
       "    }\n",
       "\n",
       "    .dataframe thead th {\n",
       "        text-align: right;\n",
       "    }\n",
       "</style>\n",
       "<table border=\"1\" class=\"dataframe\">\n",
       "  <thead>\n",
       "    <tr style=\"text-align: right;\">\n",
       "      <th></th>\n",
       "      <th>norm_test</th>\n",
       "      <th>test_labels</th>\n",
       "    </tr>\n",
       "  </thead>\n",
       "  <tbody>\n",
       "    <tr>\n",
       "      <th>0</th>\n",
       "      <td>mata,rupa,jendela,jiwa,manfaat,artificial,inte...</td>\n",
       "      <td>NaN</td>\n",
       "    </tr>\n",
       "    <tr>\n",
       "      <th>1</th>\n",
       "      <td>coldplay,rilis,buah,dokumenter,judul,a,head,fu...</td>\n",
       "      <td>NaN</td>\n",
       "    </tr>\n",
       "    <tr>\n",
       "      <th>2</th>\n",
       "      <td>nakita,id,sarita,abdul,mukti,faisal,harris,res...</td>\n",
       "      <td>NaN</td>\n",
       "    </tr>\n",
       "    <tr>\n",
       "      <th>3</th>\n",
       "      <td>akhir,lancong,makin,gari,banyak,kalang,banyak,...</td>\n",
       "      <td>ekonomi</td>\n",
       "    </tr>\n",
       "    <tr>\n",
       "      <th>4</th>\n",
       "      <td>musik,nyata,dampak,manusia,buah,studi,baru,ung...</td>\n",
       "      <td>NaN</td>\n",
       "    </tr>\n",
       "  </tbody>\n",
       "</table>\n",
       "</div>"
      ],
      "text/plain": [
       "                                           norm_test test_labels\n",
       "0  mata,rupa,jendela,jiwa,manfaat,artificial,inte...         NaN\n",
       "1  coldplay,rilis,buah,dokumenter,judul,a,head,fu...         NaN\n",
       "2  nakita,id,sarita,abdul,mukti,faisal,harris,res...         NaN\n",
       "3  akhir,lancong,makin,gari,banyak,kalang,banyak,...     ekonomi\n",
       "4  musik,nyata,dampak,manusia,buah,studi,baru,ung...         NaN"
      ]
     },
     "execution_count": 41,
     "metadata": {},
     "output_type": "execute_result"
    }
   ],
   "source": [
    "df_test.head()"
   ]
  },
  {
   "cell_type": "code",
   "execution_count": 42,
   "metadata": {},
   "outputs": [
    {
     "data": {
      "text/plain": [
       "<1x23213 sparse matrix of type '<class 'numpy.float64'>'\n",
       "\twith 314 stored elements in Compressed Sparse Row format>"
      ]
     },
     "execution_count": 42,
     "metadata": {},
     "output_type": "execute_result"
    }
   ],
   "source": [
    "train_features[0:1]"
   ]
  },
  {
   "cell_type": "code",
   "execution_count": 43,
   "metadata": {},
   "outputs": [
    {
     "data": {
      "text/plain": [
       "376    sport\n",
       "Name: Jenis, dtype: object"
      ]
     },
     "execution_count": 43,
     "metadata": {},
     "output_type": "execute_result"
    }
   ],
   "source": [
    "train_labels[0:1]"
   ]
  },
  {
   "cell_type": "code",
   "execution_count": 44,
   "metadata": {},
   "outputs": [],
   "source": [
    "from sklearn.svm import LinearSVC\n",
    "from sklearn.naive_bayes import MultinomialNB"
   ]
  },
  {
   "cell_type": "code",
   "execution_count": 45,
   "metadata": {},
   "outputs": [],
   "source": [
    "clf = SGDClassifier(loss='hinge', max_iter=100)\n",
    "#clf = LinearSVC(penalty='l2', loss='squared_hinge', max_iter=100)\n",
    "#clf = MultinomialNB()"
   ]
  },
  {
   "cell_type": "code",
   "execution_count": 46,
   "metadata": {},
   "outputs": [
    {
     "name": "stdout",
     "output_type": "stream",
     "text": [
      "Jumlah sampel dalam train_features: 877\n",
      "Jumlah sampel dalam train_labels: 877\n",
      "Jumlah sampel dalam test_features: 432\n",
      "Jumlah sampel dalam test_labels: 432\n"
     ]
    }
   ],
   "source": [
    "print(\"Jumlah sampel dalam train_features:\", train_features.shape[0])\n",
    "print(\"Jumlah sampel dalam train_labels:\", len(train_labels))\n",
    "print(\"Jumlah sampel dalam test_features:\", test_features.shape[0])\n",
    "print(\"Jumlah sampel dalam test_labels:\", len(test_labels))"
   ]
  },
  {
   "cell_type": "code",
   "execution_count": 47,
   "metadata": {},
   "outputs": [
    {
     "name": "stdout",
     "output_type": "stream",
     "text": [
      "Label test: \n",
      "1148      sains-tekno\n",
      "1049    entertainment\n",
      "982     entertainment\n",
      "808        gaya hidup\n",
      "1195      sains-tekno\n",
      "240             sport\n",
      "1118      sains-tekno\n",
      "596              news\n",
      "924        gaya hidup\n",
      "65            ekonomi\n",
      "Name: Jenis, dtype: object\n",
      "Prediction test: \n",
      "['sains-tekno' 'entertainment' 'news' 'gaya hidup' 'sains-tekno' 'sport'\n",
      " 'sains-tekno' 'news' 'gaya hidup' 'ekonomi']\n"
     ]
    }
   ],
   "source": [
    "clf.fit(train_features, train_labels)\n",
    "predictions = clf.predict(test_features)\n",
    "print(\"Label test: \\n\" + format(test_labels[:10]))\n",
    "print(\"Prediction test: \\n\"+ format(predictions[:10]))"
   ]
  },
  {
   "cell_type": "code",
   "execution_count": 48,
   "metadata": {},
   "outputs": [
    {
     "name": "stdout",
     "output_type": "stream",
     "text": [
      "Accuration: 0.9282407407407407\n"
     ]
    }
   ],
   "source": [
    "print(\"Accuration: \"+format(clf.score(test_features,test_labels)))"
   ]
  },
  {
   "cell_type": "code",
   "execution_count": 49,
   "metadata": {},
   "outputs": [],
   "source": [
    "def get_metrics(true_labels, predicted_labels):\n",
    "    print('Accuracy: ', np.round(metrics.accuracy_score(true_labels,\n",
    "                                                predicted_labels),2))\n",
    "    print('Precision: ', np.round(metrics.precision_score(true_labels,\n",
    "                                                    predicted_labels,\n",
    "                                                    average='weighted'),2))\n",
    "    print('Recall: ', np.round(metrics.recall_score(true_labels,\n",
    "                                                            predicted_labels,\n",
    "                                                            average='weighted'),2))\n",
    "    print('F1 Score: ', np.round(metrics.f1_score(true_labels,\n",
    "                                                    predicted_labels,\n",
    "                                                    average='weighted'),2))\n"
   ]
  },
  {
   "cell_type": "code",
   "execution_count": 50,
   "metadata": {},
   "outputs": [
    {
     "name": "stdout",
     "output_type": "stream",
     "text": [
      "Accuracy:  0.93\n",
      "Precision:  0.93\n",
      "Recall:  0.93\n",
      "F1 Score:  0.93\n"
     ]
    }
   ],
   "source": [
    "get_metrics(true_labels=test_labels,predicted_labels=predictions)"
   ]
  },
  {
   "cell_type": "code",
   "execution_count": 51,
   "metadata": {},
   "outputs": [],
   "source": [
    "test = ('Sebuah kapsul NASA mendarat di gurun Utah, AS, pada Minggu (24/9 waktu '\n",
    "        'setempat. Kapsul tersebut berisi sampel dari asteroid Benny yang dikumpulkan '\n",
    "        'oleh wahana antariksa OSIRIS-REx milik NASA pada Oktober 2020 lalu. ' +\n",
    "        'OSIRIS-REx telah menghabiskan waktu selama 7 tahun di luar angkasa untuk '\n",
    "        'menunggu momen yang tepat mengambil potongan asteroid Bennu. Kini, sampel '\n",
    "        'tersebut berhasil dibawa OSIRIS-REx ke Bumi, mendarat dengan selamat di '\n",
    "        'Tempat Uji dan Pelatihan Angkatan Udara AS di Utah pada Minggu (24/4) pukul '\n",
    "        '08.52 waktu setempat.')\n"
   ]
  },
  {
   "cell_type": "code",
   "execution_count": 52,
   "metadata": {},
   "outputs": [],
   "source": [
    "test_eko = ('PT Bank Mandiri (Persero) Tbk (BMRI) melepas seluruh kepemilikan '\n",
    "            'sahamnya di PT AXA Insurance Indonesia. Meski tak lagi punya saham, Bank '\n",
    "            'Mandiri tidak akan mengakhiri kerja sama bancassurance dengan AXA Insurance '\n",
    "            'Indonesia. ' +\n",
    "            'Secara rinci, sisa 138.000 saham milik Bank Mandiri dilepas ke dua '\n",
    "            'pemegang saham, yakni Anil Panjwani dan Manoj Ramkrashin Tolani. '\n",
    "            'Masing-masing mendapat 69.000 saham atau sekitar 10 persen dari modal '\n",
    "            'ditempatkan dan disetor milik AXA Insurance Indonesia.')\n"
   ]
  },
  {
   "cell_type": "code",
   "execution_count": 53,
   "metadata": {},
   "outputs": [],
   "source": [
    "test_or = ('PSSI telah mengumumkan skuad Timnas Indonesia yang akan berlaga '\n",
    "          'dalam Kualifikasi Piala Dunia 2026 melawan Brunei Darussalam. Dalam daftar '\n",
    "          '25 pemain tersebut, terdapat satu nama yang absen, yaitu Ivar Jenner, pemain '\n",
    "          'Jong FC Utrecht. ' +\n",
    "          'Keberhasilan Timnas Indonesia melawan Brunei Darussalam dalam dua '\n",
    "          'leg pertandingan ini akan membawa mereka melangkah ke babak kedua '\n",
    "          'Kualifikasi Piala Dunia 2026. Tim Indonesia akan bersaing di Grup F babak '\n",
    "          'kedua bersama dengan Irak, Vietnam, dan Filipina.')\n"
   ]
  },
  {
   "cell_type": "code",
   "execution_count": 54,
   "metadata": {},
   "outputs": [],
   "source": [
    "test_enter = ('Setelah berkompetisi dalam Busan International Film Festival '\n",
    "            '(BIFF) 2023, kini film bergenre detektif “24 Jam Bersama Gaspar” merilis '\n",
    "            'trailer resminya. Trailer tersebut sempat dikeluarkan oleh akun YouTube '\n",
    "            'resmi Visinema @Visinema Pictures pada Selasa (26/9/2023) kemarin. Di dalam '\n",
    "            'trailer tersebut, tokoh Gaspar diperankan oleh aktor Reza Rahadian. ' +\n",
    "            'Melalui sinopsis resmi film 24 Jam Bersama Gaspar, tokoh bernama '\n",
    "            '“Gaspar” merupakan seorang detektif partikelir yang akan dinyatakan mati '\n",
    "            'dalam tenggat waktu 24 jam. Dalam kurun waktu itu, Gaspar berupaya keras '\n",
    "            'untuk membalaskan dendam dan merampok sebuah toko perhiasan yang ia incar. '\n",
    "            'Keinginannya itu ditimbulkan berkat munculnya petunjuk mengenai hilangnya '\n",
    "            'Kirana, seorang gadis yang menjadi teman masa kecil Gaspar.')\n",
    "\n"
   ]
  },
  {
   "cell_type": "code",
   "execution_count": 55,
   "metadata": {},
   "outputs": [],
   "source": [
    "test_gaya = ('Berbagai modus pinjaman pribadi atau pinpri menjamur di media '\n",
    "            'sosial. Tak sedikit masyarakat yang lantas memilih pinpri sebagai alternatif '\n",
    "            'pembiayaan karena prosesnya cepat. Perencana Keuangan Nadia Isnuari Harsya '\n",
    "            'mengatakan, kebanyakan orang yang terlilit pinjaman pribadi atau pinpri '\n",
    "            'adalah mereka yang terjebak dengan gaya hidup. ' +\n",
    "            'Ia menekankan, seseorang yang telah berani mengambil pinjaman '\n",
    "            'berarti harus mengembalikan pinjaman tersebut. Selain itu, masyarakat '\n",
    "            'dinilai belum dapat meminjam secara pintar. Beberapa peminjam hanya '\n",
    "            'memikirkan kesenangan sesaat saja tanpa berpikir soal konsekuensinya.')\n",
    "\n"
   ]
  },
  {
   "cell_type": "code",
   "execution_count": 56,
   "metadata": {},
   "outputs": [],
   "source": [
    "test_gh = ('Kalangan Gen Z dan Milenial tumbuh di lingkungan dengan kemajuan '\n",
    "          'teknologi dalam kehidupan sehari-hari. Hal ini pun turut melahirkan '\n",
    "          'kebiasaan baru, khususnya dalam berbelanja dan memilih metode pembayaran '\n",
    "          'tanpa uang tunai atau disebut gaya hidup cashless. ' +\n",
    "          'Selain itu, kenyamanan, kecepatan, dan keamanan yang ditawarkan pun '\n",
    "          'menjadi faktor-faktor terbesar yang mendorong metode pembayaran digital. '\n",
    "          'Apalagi di era smartphone dan internet, kemudahan pembayaran digital '\n",
    "          'memiliki daya tarik tersendiri, baik itu melalui dompet digital, QR, hingga '\n",
    "          'kartu kredit contactless.')\n"
   ]
  },
  {
   "cell_type": "code",
   "execution_count": 57,
   "metadata": {},
   "outputs": [
    {
     "data": {
      "text/plain": [
       "(1, 23213)"
      ]
     },
     "execution_count": 57,
     "metadata": {},
     "output_type": "execute_result"
    }
   ],
   "source": [
    "line = tfidf_vectorizer.transform([test_gaya])\n",
    "line.shape"
   ]
  },
  {
   "cell_type": "code",
   "execution_count": 58,
   "metadata": {},
   "outputs": [
    {
     "data": {
      "text/plain": [
       "<1x23213 sparse matrix of type '<class 'numpy.float64'>'\n",
       "\twith 22 stored elements in Compressed Sparse Row format>"
      ]
     },
     "execution_count": 58,
     "metadata": {},
     "output_type": "execute_result"
    }
   ],
   "source": [
    "line"
   ]
  },
  {
   "cell_type": "code",
   "execution_count": 59,
   "metadata": {},
   "outputs": [],
   "source": [
    "test = clf.predict(line)"
   ]
  },
  {
   "cell_type": "code",
   "execution_count": 60,
   "metadata": {},
   "outputs": [
    {
     "data": {
      "text/plain": [
       "array(['gaya hidup'], dtype='<U13')"
      ]
     },
     "execution_count": 60,
     "metadata": {},
     "output_type": "execute_result"
    }
   ],
   "source": [
    "test"
   ]
  }
 ],
 "metadata": {
  "kernelspec": {
   "display_name": "base",
   "language": "python",
   "name": "python3"
  },
  "language_info": {
   "codemirror_mode": {
    "name": "ipython",
    "version": 3
   },
   "file_extension": ".py",
   "mimetype": "text/x-python",
   "name": "python",
   "nbconvert_exporter": "python",
   "pygments_lexer": "ipython3",
   "version": "3.11.4"
  }
 },
 "nbformat": 4,
 "nbformat_minor": 2
}
