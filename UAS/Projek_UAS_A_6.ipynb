{
 "cells": [
  {
   "cell_type": "markdown",
   "metadata": {},
   "source": [
    "# Project UAS - Pengolahan Bahasa Alami\n",
    "##  SIMILARITY DAN CLUSTERING PADA BERITA OLAHRAGA DI CNN\n",
    "\n",
    "**Anggota Kelompok:**\n",
    "1. Emmanuel Mathew Krisna Rata - 200710530\n",
    "2. Antonius Indra Wardhana - 200710542\n",
    "3. Farrel Rayner Nathanael Geovano - 200710560\n",
    "4. Edmond Sorensen - 200710617\n",
    "4. Paulus Bayu Kurnia Wicaksono - 200710691"
   ]
  },
  {
   "cell_type": "markdown",
   "metadata": {},
   "source": [
    "## Objective\n",
    "Mempermudah pembaca dalam menemukan berita yang dituju \n",
    "\n",
    "Meningkatkan efisiensi dan efektivitas dalam mengelola berita "
   ]
  },
  {
   "cell_type": "markdown",
   "metadata": {},
   "source": [
    "## Latar Belakang\n",
    "POIN 1 \n",
    "\n",
    "Klasifikasi berita olahraga juga dapat membantu pembaca untuk menemukan berita yang lebih relevan dengan minatnya. Hal ini karena berita-berita olahraga yang dikategorikan akan lebih mudah dicari dan diakses. \n",
    "\n",
    "POIN 2 \n",
    "\n",
    "Klasifikasi berita olahraga dapat membantu media massa untuk mengelola berita olahraga dengan lebih efisien dan efektif. Hal ini dapat dilakukan dengan memisahkan berita-berita olahraga berdasarkan kategorinya masing-masing "
   ]
  },
  {
   "cell_type": "markdown",
   "metadata": {},
   "source": [
    "## Deskripsi Dataset\n",
    "SUMBER \n",
    "\n",
    "Sumber berita online terkait olahraga diambil dari CNN \n",
    "\n",
    "KARAKTERISTIK \n",
    "\n",
    "Label yang dipakai adalah Judul berita, kategori berita. Jumlah data ada pada dataset adalah 2000 baris "
   ]
  },
  {
   "cell_type": "markdown",
   "metadata": {},
   "source": [
    "## Pengembangan Model Similarty Text\n"
   ]
  },
  {
   "cell_type": "markdown",
   "metadata": {},
   "source": [
    "### Inisialisasi\n",
    "Silakan isi bagian ini dengan mengimport library-library yang akan digunakan. "
   ]
  },
  {
   "cell_type": "code",
   "execution_count": 54,
   "metadata": {},
   "outputs": [],
   "source": [
    "import os\n",
    "import re\n",
    "import sys\n",
    "import string\n",
    "import modSpellChecker_1 as sc\n",
    "from contractions_1 import CONTRACTION_MAP\n",
    "from Sastrawi.Stemmer.StemmerFactory import StemmerFactory\n",
    "from Sastrawi.StopWordRemover.StopWordRemoverFactory import StopWordRemoverFactory\n",
    "from sklearn.feature_extraction.text import CountVectorizer\n",
    "from sklearn.metrics.pairwise import cosine_similarity\n",
    "import nltk\n",
    "import numpy as np\n",
    "import pandas as pd\n",
    "import operator\n",
    "from sklearn.model_selection import train_test_split\n",
    "import time"
   ]
  },
  {
   "cell_type": "code",
   "execution_count": 55,
   "metadata": {},
   "outputs": [
    {
     "data": {
      "text/html": [
       "<div>\n",
       "<style scoped>\n",
       "    .dataframe tbody tr th:only-of-type {\n",
       "        vertical-align: middle;\n",
       "    }\n",
       "\n",
       "    .dataframe tbody tr th {\n",
       "        vertical-align: top;\n",
       "    }\n",
       "\n",
       "    .dataframe thead th {\n",
       "        text-align: right;\n",
       "    }\n",
       "</style>\n",
       "<table border=\"1\" class=\"dataframe\">\n",
       "  <thead>\n",
       "    <tr style=\"text-align: right;\">\n",
       "      <th></th>\n",
       "      <th>title</th>\n",
       "      <th>category</th>\n",
       "      <th>link</th>\n",
       "    </tr>\n",
       "  </thead>\n",
       "  <tbody>\n",
       "    <tr>\n",
       "      <th>0</th>\n",
       "      <td>Klasemen Liga Inggris: Tottenham Gusur Man Cit...</td>\n",
       "      <td>Sepakbola</td>\n",
       "      <td>https://www.cnnindonesia.com/olahraga/20231024...</td>\n",
       "    </tr>\n",
       "    <tr>\n",
       "      <th>1</th>\n",
       "      <td>Khamzat Disebut Tak Pantas Dapat Duel Gelar Ju...</td>\n",
       "      <td>Olahraga Lainnya</td>\n",
       "      <td>https://www.cnnindonesia.com/olahraga/20231023...</td>\n",
       "    </tr>\n",
       "    <tr>\n",
       "      <th>2</th>\n",
       "      <td>Hasil Liga Inggris: Son Cetak Gol, Tottenham H...</td>\n",
       "      <td>Sepakbola</td>\n",
       "      <td>https://www.cnnindonesia.com/olahraga/20231024...</td>\n",
       "    </tr>\n",
       "    <tr>\n",
       "      <th>3</th>\n",
       "      <td>Binder Merasa Kasihan Martin Gagal Menang di M...</td>\n",
       "      <td>Moto GP</td>\n",
       "      <td>https://www.cnnindonesia.com/olahraga/20231024...</td>\n",
       "    </tr>\n",
       "    <tr>\n",
       "      <th>4</th>\n",
       "      <td>FOTO: Tottenham Jaga Rekor Belum Terkalahkan U...</td>\n",
       "      <td>Sepakbola</td>\n",
       "      <td>https://www.cnnindonesia.com/olahraga/20231024...</td>\n",
       "    </tr>\n",
       "    <tr>\n",
       "      <th>...</th>\n",
       "      <td>...</td>\n",
       "      <td>...</td>\n",
       "      <td>...</td>\n",
       "    </tr>\n",
       "    <tr>\n",
       "      <th>1995</th>\n",
       "      <td>Jadwal Siaran Langsung Final Hong Kong Open: 3...</td>\n",
       "      <td>Raket</td>\n",
       "      <td>https://www.cnnindonesia.com/olahraga/20230917...</td>\n",
       "    </tr>\n",
       "    <tr>\n",
       "      <th>1996</th>\n",
       "      <td>Klasemen Liga Inggris Usai MU Terpuruk di Old ...</td>\n",
       "      <td>Sepakbola</td>\n",
       "      <td>https://www.cnnindonesia.com/olahraga/20230917...</td>\n",
       "    </tr>\n",
       "    <tr>\n",
       "      <th>1997</th>\n",
       "      <td>Ronaldo Tunjukkan Gairah Besar di Saudi Pro Le...</td>\n",
       "      <td>Sepakbola</td>\n",
       "      <td>https://www.cnnindonesia.com/olahraga/20230917...</td>\n",
       "    </tr>\n",
       "    <tr>\n",
       "      <th>1998</th>\n",
       "      <td>2 Pemain Al Raed Berebut Tendang Penalti, Rona...</td>\n",
       "      <td>Sepakbola</td>\n",
       "      <td>https://www.cnnindonesia.com/olahraga/20230917...</td>\n",
       "    </tr>\n",
       "    <tr>\n",
       "      <th>1999</th>\n",
       "      <td>Hasil Liga Spanyol: Joao Felix Cetak Gol, Barc...</td>\n",
       "      <td>Sepakbola</td>\n",
       "      <td>https://www.cnnindonesia.com/olahraga/20230917...</td>\n",
       "    </tr>\n",
       "  </tbody>\n",
       "</table>\n",
       "<p>2000 rows × 3 columns</p>\n",
       "</div>"
      ],
      "text/plain": [
       "                                                  title          category  \\\n",
       "0     Klasemen Liga Inggris: Tottenham Gusur Man Cit...         Sepakbola   \n",
       "1     Khamzat Disebut Tak Pantas Dapat Duel Gelar Ju...  Olahraga Lainnya   \n",
       "2     Hasil Liga Inggris: Son Cetak Gol, Tottenham H...         Sepakbola   \n",
       "3     Binder Merasa Kasihan Martin Gagal Menang di M...           Moto GP   \n",
       "4     FOTO: Tottenham Jaga Rekor Belum Terkalahkan U...         Sepakbola   \n",
       "...                                                 ...               ...   \n",
       "1995  Jadwal Siaran Langsung Final Hong Kong Open: 3...             Raket   \n",
       "1996  Klasemen Liga Inggris Usai MU Terpuruk di Old ...         Sepakbola   \n",
       "1997  Ronaldo Tunjukkan Gairah Besar di Saudi Pro Le...         Sepakbola   \n",
       "1998  2 Pemain Al Raed Berebut Tendang Penalti, Rona...         Sepakbola   \n",
       "1999  Hasil Liga Spanyol: Joao Felix Cetak Gol, Barc...         Sepakbola   \n",
       "\n",
       "                                                   link  \n",
       "0     https://www.cnnindonesia.com/olahraga/20231024...  \n",
       "1     https://www.cnnindonesia.com/olahraga/20231023...  \n",
       "2     https://www.cnnindonesia.com/olahraga/20231024...  \n",
       "3     https://www.cnnindonesia.com/olahraga/20231024...  \n",
       "4     https://www.cnnindonesia.com/olahraga/20231024...  \n",
       "...                                                 ...  \n",
       "1995  https://www.cnnindonesia.com/olahraga/20230917...  \n",
       "1996  https://www.cnnindonesia.com/olahraga/20230917...  \n",
       "1997  https://www.cnnindonesia.com/olahraga/20230917...  \n",
       "1998  https://www.cnnindonesia.com/olahraga/20230917...  \n",
       "1999  https://www.cnnindonesia.com/olahraga/20230917...  \n",
       "\n",
       "[2000 rows x 3 columns]"
      ]
     },
     "execution_count": 55,
     "metadata": {},
     "output_type": "execute_result"
    }
   ],
   "source": [
    "dataset = pd.read_csv('cnn_sport.csv')\n",
    "dataset"
   ]
  },
  {
   "cell_type": "code",
   "execution_count": 56,
   "metadata": {},
   "outputs": [],
   "source": [
    "feature = dataset.iloc[:,0]\n",
    "label = dataset.iloc[:,0]"
   ]
  },
  {
   "cell_type": "code",
   "execution_count": 57,
   "metadata": {},
   "outputs": [
    {
     "data": {
      "text/plain": [
       "0    Klasemen Liga Inggris: Tottenham Gusur Man Cit...\n",
       "1    Khamzat Disebut Tak Pantas Dapat Duel Gelar Ju...\n",
       "2    Hasil Liga Inggris: Son Cetak Gol, Tottenham H...\n",
       "3    Binder Merasa Kasihan Martin Gagal Menang di M...\n",
       "4    FOTO: Tottenham Jaga Rekor Belum Terkalahkan U...\n",
       "5    INFOGRAFIS: Jadwal Timnas Indonesia di Kualifi...\n",
       "6          Messi Banggakan Capaian Bersama Inter Miami\n",
       "7    Erick Thohir Soal Persiapan Piala Dunia U-17: ...\n",
       "8    Bagnaia Mulai Pongah Jelang MotoGP Thailand da...\n",
       "9    Sidang Komdis PSSI: Hugo Samir Pukul Pemain Pe...\n",
       "Name: title, dtype: object"
      ]
     },
     "execution_count": 57,
     "metadata": {},
     "output_type": "execute_result"
    }
   ],
   "source": [
    "label[0:10]"
   ]
  },
  {
   "cell_type": "code",
   "execution_count": 58,
   "metadata": {},
   "outputs": [
    {
     "data": {
      "text/plain": [
       "0    Klasemen Liga Inggris: Tottenham Gusur Man Cit...\n",
       "1    Khamzat Disebut Tak Pantas Dapat Duel Gelar Ju...\n",
       "2    Hasil Liga Inggris: Son Cetak Gol, Tottenham H...\n",
       "3    Binder Merasa Kasihan Martin Gagal Menang di M...\n",
       "4    FOTO: Tottenham Jaga Rekor Belum Terkalahkan U...\n",
       "5    INFOGRAFIS: Jadwal Timnas Indonesia di Kualifi...\n",
       "6          Messi Banggakan Capaian Bersama Inter Miami\n",
       "7    Erick Thohir Soal Persiapan Piala Dunia U-17: ...\n",
       "8    Bagnaia Mulai Pongah Jelang MotoGP Thailand da...\n",
       "9    Sidang Komdis PSSI: Hugo Samir Pukul Pemain Pe...\n",
       "Name: title, dtype: object"
      ]
     },
     "execution_count": 58,
     "metadata": {},
     "output_type": "execute_result"
    }
   ],
   "source": [
    "feature[0:10]"
   ]
  },
  {
   "cell_type": "markdown",
   "metadata": {},
   "source": [
    "### Normalisasi Data\n",
    "Silakan isi bagian ini dengan script untuk keperluan normalisasi data teks yang akan digunakan untuk pengembangan model klasifikasi teks. \n",
    "Untuk setiap strategi normalisasi yang akan digunakan sebaiknya dibuat fungsi tersendiri dan dipanggil dalam satu fungsi normalisasi. Jangan lupa pada bagian ini ditampilkan contoh hasil normalisasi datanya."
   ]
  },
  {
   "cell_type": "code",
   "execution_count": 59,
   "metadata": {},
   "outputs": [],
   "source": [
    "#fungsi2 untuk normalisasi dataset\n",
    "character =['z','y','x','w','v','u','t','s','r','q','p','o','n','m','l','k','j','i','h','g','f','e','d','c','b','a',',','.',';',':','-','...','?','!','(',')','[',']','{','}','<','>','\"','/','\\'','#','-','@']\n",
    "def repeatcharNormalize(text):\n",
    "    for i in range(len(character)):\n",
    "        charac_long = 5\n",
    "        while charac_long>=2:\n",
    "            char=character[i]*charac_long\n",
    "            text=text.replace(char,character[i])\n",
    "            charac_long-=1\n",
    "        return text\n",
    "def spellNormalize(text):\n",
    "    spellCheck = []\n",
    "    for i in text:\n",
    "        if i not in character:\n",
    "            j=sc.correction(i)\n",
    "            spellCheck.append(j)\n",
    "        else:\n",
    "            spellCheck.append(i)\n",
    "        return spellCheck\n",
    "def tokenize_text(text):\n",
    "    tokens=nltk.word_tokenize(text)\n",
    "    tokens=[token.strip() for token in tokens]\n",
    "    return tokens\n",
    "def expand_contractions(text, contraction_mapping):\n",
    "    contractions_pattern = re.compile('({})'.format('|'.join(contraction_mapping.keys())),\n",
    "    flags=re.IGNORECASE|re.DOTALL)\n",
    "    def expand_match(contraction):\n",
    "        match = contraction.group(0)\n",
    "        first_char = match[0]\n",
    "        expanded_contraction = contraction_mapping.get(match)\\\n",
    "                                if contraction_mapping.get(match)\\\n",
    "                                else contraction_mapping.get(match.lower())\n",
    "        expanded_contraction = first_char + expanded_contraction[1:]\n",
    "        return expanded_contraction\n",
    "    expanded_text = contractions_pattern.sub(expand_match, text)\n",
    "    expanded_text = re.sub(\"'\",\"\", expanded_text)\n",
    "    return expanded_text\n",
    "def stemmer_text(text):\n",
    "    factory = StemmerFactory()\n",
    "    stemmer = factory.create_stemmer()\n",
    "    text = stemmer.stem(text)\n",
    "    return text\n",
    "# def lemmatize_text(text):\n",
    "# pos_tagged_text = pos_tag_text(text)\n",
    "# lemmatized_tokens = [wnl.lemmatize(word, pos_tag) if pos_tag\n",
    "# else word for word,\n",
    "# pos_tag in pos_tagged_text]\n",
    "# lemmatize_text=' '.join(lemmatized_tokens)\n",
    "# return lemmatize_text"
   ]
  },
  {
   "cell_type": "code",
   "execution_count": 60,
   "metadata": {},
   "outputs": [],
   "source": [
    "def remove_special_characters(text):\n",
    "    tokens = tokenize_text(text)\n",
    "    pattern = re.compile('[{}]'.format(re.escape(string.punctuation)))\n",
    "    filtered_tokens = filter(None, [pattern.sub('',token) for token in tokens])\n",
    "    filtered_text = ' '.join(filtered_tokens)\n",
    "    return filtered_text\n",
    "factory = StopWordRemoverFactory()\n",
    "stopword_list = factory.get_stop_words()\n",
    "def remove_stopwords(text):\n",
    "    tokens = tokenize_text(text)\n",
    "    filtered_tokens = [token for token in tokens if token not in stopword_list]\n",
    "    filtered_text = ' '.join(filtered_tokens)\n",
    "    return filtered_text\n",
    "def normalize_corpus(corpus, tokenize=False):\n",
    "    normalized_corpus = []\n",
    "    for text in corpus:\n",
    "        text = expand_contractions(text, CONTRACTION_MAP)\n",
    "        text = stemmer_text(text)\n",
    "        text = remove_special_characters(text)\n",
    "        text = repeatcharNormalize(text)\n",
    "        text = remove_stopwords(text)\n",
    "        normalized_corpus.append(text)\n",
    "        if tokenize:\n",
    "            text = tokenize_text(text)\n",
    "            text = spellNormalize(text)\n",
    "            normalized_corpus.append(text)\n",
    "    return normalized_corpus"
   ]
  },
  {
   "cell_type": "code",
   "execution_count": 61,
   "metadata": {},
   "outputs": [
    {
     "data": {
      "text/html": [
       "<div>\n",
       "<style scoped>\n",
       "    .dataframe tbody tr th:only-of-type {\n",
       "        vertical-align: middle;\n",
       "    }\n",
       "\n",
       "    .dataframe tbody tr th {\n",
       "        vertical-align: top;\n",
       "    }\n",
       "\n",
       "    .dataframe thead th {\n",
       "        text-align: right;\n",
       "    }\n",
       "</style>\n",
       "<table border=\"1\" class=\"dataframe\">\n",
       "  <thead>\n",
       "    <tr style=\"text-align: right;\">\n",
       "      <th></th>\n",
       "      <th>title</th>\n",
       "      <th>category</th>\n",
       "      <th>link</th>\n",
       "    </tr>\n",
       "  </thead>\n",
       "  <tbody>\n",
       "    <tr>\n",
       "      <th>0</th>\n",
       "      <td>Klasemen Liga Inggris: Tottenham Gusur Man Cit...</td>\n",
       "      <td>Sepakbola</td>\n",
       "      <td>https://www.cnnindonesia.com/olahraga/20231024...</td>\n",
       "    </tr>\n",
       "    <tr>\n",
       "      <th>1</th>\n",
       "      <td>Khamzat Disebut Tak Pantas Dapat Duel Gelar Ju...</td>\n",
       "      <td>Olahraga Lainnya</td>\n",
       "      <td>https://www.cnnindonesia.com/olahraga/20231023...</td>\n",
       "    </tr>\n",
       "    <tr>\n",
       "      <th>2</th>\n",
       "      <td>Hasil Liga Inggris: Son Cetak Gol, Tottenham H...</td>\n",
       "      <td>Sepakbola</td>\n",
       "      <td>https://www.cnnindonesia.com/olahraga/20231024...</td>\n",
       "    </tr>\n",
       "    <tr>\n",
       "      <th>3</th>\n",
       "      <td>Binder Merasa Kasihan Martin Gagal Menang di M...</td>\n",
       "      <td>Moto GP</td>\n",
       "      <td>https://www.cnnindonesia.com/olahraga/20231024...</td>\n",
       "    </tr>\n",
       "    <tr>\n",
       "      <th>4</th>\n",
       "      <td>FOTO: Tottenham Jaga Rekor Belum Terkalahkan U...</td>\n",
       "      <td>Sepakbola</td>\n",
       "      <td>https://www.cnnindonesia.com/olahraga/20231024...</td>\n",
       "    </tr>\n",
       "    <tr>\n",
       "      <th>...</th>\n",
       "      <td>...</td>\n",
       "      <td>...</td>\n",
       "      <td>...</td>\n",
       "    </tr>\n",
       "    <tr>\n",
       "      <th>1995</th>\n",
       "      <td>Jadwal Siaran Langsung Final Hong Kong Open: 3...</td>\n",
       "      <td>Raket</td>\n",
       "      <td>https://www.cnnindonesia.com/olahraga/20230917...</td>\n",
       "    </tr>\n",
       "    <tr>\n",
       "      <th>1996</th>\n",
       "      <td>Klasemen Liga Inggris Usai MU Terpuruk di Old ...</td>\n",
       "      <td>Sepakbola</td>\n",
       "      <td>https://www.cnnindonesia.com/olahraga/20230917...</td>\n",
       "    </tr>\n",
       "    <tr>\n",
       "      <th>1997</th>\n",
       "      <td>Ronaldo Tunjukkan Gairah Besar di Saudi Pro Le...</td>\n",
       "      <td>Sepakbola</td>\n",
       "      <td>https://www.cnnindonesia.com/olahraga/20230917...</td>\n",
       "    </tr>\n",
       "    <tr>\n",
       "      <th>1998</th>\n",
       "      <td>2 Pemain Al Raed Berebut Tendang Penalti, Rona...</td>\n",
       "      <td>Sepakbola</td>\n",
       "      <td>https://www.cnnindonesia.com/olahraga/20230917...</td>\n",
       "    </tr>\n",
       "    <tr>\n",
       "      <th>1999</th>\n",
       "      <td>Hasil Liga Spanyol: Joao Felix Cetak Gol, Barc...</td>\n",
       "      <td>Sepakbola</td>\n",
       "      <td>https://www.cnnindonesia.com/olahraga/20230917...</td>\n",
       "    </tr>\n",
       "  </tbody>\n",
       "</table>\n",
       "<p>2000 rows × 3 columns</p>\n",
       "</div>"
      ],
      "text/plain": [
       "                                                  title          category  \\\n",
       "0     Klasemen Liga Inggris: Tottenham Gusur Man Cit...         Sepakbola   \n",
       "1     Khamzat Disebut Tak Pantas Dapat Duel Gelar Ju...  Olahraga Lainnya   \n",
       "2     Hasil Liga Inggris: Son Cetak Gol, Tottenham H...         Sepakbola   \n",
       "3     Binder Merasa Kasihan Martin Gagal Menang di M...           Moto GP   \n",
       "4     FOTO: Tottenham Jaga Rekor Belum Terkalahkan U...         Sepakbola   \n",
       "...                                                 ...               ...   \n",
       "1995  Jadwal Siaran Langsung Final Hong Kong Open: 3...             Raket   \n",
       "1996  Klasemen Liga Inggris Usai MU Terpuruk di Old ...         Sepakbola   \n",
       "1997  Ronaldo Tunjukkan Gairah Besar di Saudi Pro Le...         Sepakbola   \n",
       "1998  2 Pemain Al Raed Berebut Tendang Penalti, Rona...         Sepakbola   \n",
       "1999  Hasil Liga Spanyol: Joao Felix Cetak Gol, Barc...         Sepakbola   \n",
       "\n",
       "                                                   link  \n",
       "0     https://www.cnnindonesia.com/olahraga/20231024...  \n",
       "1     https://www.cnnindonesia.com/olahraga/20231023...  \n",
       "2     https://www.cnnindonesia.com/olahraga/20231024...  \n",
       "3     https://www.cnnindonesia.com/olahraga/20231024...  \n",
       "4     https://www.cnnindonesia.com/olahraga/20231024...  \n",
       "...                                                 ...  \n",
       "1995  https://www.cnnindonesia.com/olahraga/20230917...  \n",
       "1996  https://www.cnnindonesia.com/olahraga/20230917...  \n",
       "1997  https://www.cnnindonesia.com/olahraga/20230917...  \n",
       "1998  https://www.cnnindonesia.com/olahraga/20230917...  \n",
       "1999  https://www.cnnindonesia.com/olahraga/20230917...  \n",
       "\n",
       "[2000 rows x 3 columns]"
      ]
     },
     "execution_count": 61,
     "metadata": {},
     "output_type": "execute_result"
    }
   ],
   "source": [
    "dataset = pd.read_csv('cnn_sport.csv')\n",
    "dataset"
   ]
  },
  {
   "cell_type": "markdown",
   "metadata": {},
   "source": [
    "### Ekstraksi Fitur\n",
    "Silakan isi bagian ini dengan script untuk keperluan ekstraksi fitur data teks yang akan digunakan untuk pengembangan model klasifikasi teks. \n",
    "Untuk setiap strategi ekstraksi fitur yang akan digunakan sebaiknya dibuat fungsi tersendiri dan dipanggil dalam satu fungsi ekstraksi fitur. Jangan lupa pada bagian ini ditampilkan contoh hasil ekstraksi fitur terhadap datanya."
   ]
  },
  {
   "cell_type": "code",
   "execution_count": 62,
   "metadata": {},
   "outputs": [],
   "source": [
    "#Fungsi untuk mengekstraksi feature menggunakan TF-IDF Model\n",
    "def tfidf_transformer(bow_matrix):\n",
    "    transformer = TfidfTransformer(norm='l2',\n",
    "                                    smooth_idf=True,\n",
    "                                    use_idf=True)\n",
    "    tfidf_matrix = transformer.fit_transform(bow_matrix)\n",
    "    return transformer, tfidf_matrix\n",
    "def tfidf_extractor(corpus, ngram_range=(1,1)):\n",
    "    vectorizer = TfidfVectorizer(min_df=1,\n",
    "                                norm='l2',\n",
    "                                smooth_idf=True,\n",
    "                                use_idf=True,\n",
    "                                ngram_range=ngram_range)\n",
    "    features = vectorizer.fit_transform(corpus)\n",
    "    return vectorizer, features"
   ]
  },
  {
   "cell_type": "markdown",
   "metadata": {},
   "source": [
    "### Model Training\n",
    "Silakan isi bagian ini dengan script untuk keperluan training model klasifikasi teks. Jangan lupa untuk menjabarkan rancangan pemodelan algoritme yang akan diterapkan dan kombinasi parameter yang akan digunakan dengan benar dan lengkap."
   ]
  },
  {
   "cell_type": "code",
   "execution_count": 63,
   "metadata": {},
   "outputs": [],
   "source": [
    "#training dataset\n",
    "def prepare_datasets(corpus, labels, test_data_proportion=0.3):\n",
    "    train_X, test_X, train_Y, test_Y = train_test_split(corpus, labels,\n",
    "    test_size=0.33,random_state=42)\n",
    "    return train_X, test_X, train_Y, test_Y\n",
    "train_corpus, test_corpus, train_labels, test_labels = prepare_datasets(feature,\n",
    "                                                                        label,test_data_proportion=0.3)"
   ]
  },
  {
   "cell_type": "code",
   "execution_count": 66,
   "metadata": {},
   "outputs": [],
   "source": [
    "#memanggil fungsi normalisasi dataset yang telah ditraining\n",
    "\n",
    "norm_train_corpus = normalize_corpus(train_corpus)"
   ]
  },
  {
   "cell_type": "code",
   "execution_count": 67,
   "metadata": {},
   "outputs": [
    {
     "data": {
      "text/plain": [
       "['latih al nassr ronaldo orang enggak ribet',\n",
       " 'hasil asi games gregoria kalah badminton indonesia medali',\n",
       " 'klasemen asi games jumat pagi indonesia rawan salip malaysia',\n",
       " 'daftar 9 tim negara lolos euro 2024',\n",
       " 'marquez tinggal honda bye bye honda bagnaia jadi nyata',\n",
       " 'asi games kuat lentur ramai rumakiek balik gol indah',\n",
       " 'top skor liga inggris son heung min sejajar salah ancam haaland',\n",
       " 'jadwal indonesia asi games 2023 jumat 22 september',\n",
       " 'foto inggris hancur italia tiket euro 2024',\n",
       " 'messi bangga capai sama inter miami']"
      ]
     },
     "execution_count": 67,
     "metadata": {},
     "output_type": "execute_result"
    }
   ],
   "source": [
    "norm_train_corpus[0:10]"
   ]
  },
  {
   "cell_type": "code",
   "execution_count": 68,
   "metadata": {},
   "outputs": [],
   "source": [
    "norm_test_corpus = normalize_corpus(test_corpus)"
   ]
  },
  {
   "cell_type": "code",
   "execution_count": 69,
   "metadata": {},
   "outputs": [
    {
     "data": {
      "text/plain": [
       "['hasil liga 1 tangis firza usai cetak gol persija menang dramatis',\n",
       " 'timnas indonesia bantai brunei 60 laju kualifikasi piala dunia',\n",
       " '2 emas asi games sejahtera sama rekor legenda indonesia',\n",
       " 'neymar umum lahir anak model bruna biancardi',\n",
       " '5 nomor peluang medali indonesia asi games hari',\n",
       " 'latih bongkar alas messi absen inter miami vs houston dynamo',\n",
       " 'indonesia perak perahu naga 500 meter putri',\n",
       " 'rionny buka target badminton indonesia asi games 3 emas',\n",
       " 'pesan penuh makna egy maulana palestina',\n",
       " '5 masalah krusial mu wajib baik erik ten hag']"
      ]
     },
     "execution_count": 69,
     "metadata": {},
     "output_type": "execute_result"
    }
   ],
   "source": [
    "norm_test_corpus[0:10]"
   ]
  },
  {
   "cell_type": "code",
   "execution_count": null,
   "metadata": {},
   "outputs": [],
   "source": []
  }
 ],
 "metadata": {
  "kernelspec": {
   "display_name": "base",
   "language": "python",
   "name": "python3"
  },
  "language_info": {
   "codemirror_mode": {
    "name": "ipython",
    "version": 3
   },
   "file_extension": ".py",
   "mimetype": "text/x-python",
   "name": "python",
   "nbconvert_exporter": "python",
   "pygments_lexer": "ipython3",
   "version": "3.11.5"
  }
 },
 "nbformat": 4,
 "nbformat_minor": 2
}
