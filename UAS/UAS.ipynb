{
 "cells": [
  {
   "cell_type": "code",
   "execution_count": 1,
   "metadata": {},
   "outputs": [],
   "source": [
    "import os\n",
    "import re\n",
    "import sys\n",
    "import string\n",
    "import modSpellChecker_1 as sc\n",
    "from contractions_1 import CONTRACTION_MAP\n",
    "from Sastrawi.Stemmer.StemmerFactory import StemmerFactory\n",
    "from Sastrawi.StopWordRemover.StopWordRemoverFactory import StopWordRemoverFactory\n",
    "from sklearn.feature_extraction.text import CountVectorizer\n",
    "from sklearn.metrics.pairwise import cosine_similarity\n",
    "import nltk\n",
    "import numpy as np\n",
    "import pandas as pd\n",
    "import operator"
   ]
  },
  {
   "cell_type": "code",
   "execution_count": 2,
   "metadata": {},
   "outputs": [],
   "source": [
    "character = ['z','y','x','w','v','u','t','s','r','q','p','o','n','m','l','k','j','i','h','g','f','e','d',',',';',':','-','...','?','!', '(',')','[',']','{','}','<','>', '\"','/','\\'','#','-','@']\n",
    "\n",
    "def repeatcharNormalize(text):\n",
    "    for i in range(len(character)):\n",
    "        charac_long = 5\n",
    "        while charac_long >= 2:\n",
    "            char = character[i] * charac_long\n",
    "            text = text.replace(char, character[i])\n",
    "            charac_long -= 1\n",
    "    return text\n",
    "\n",
    "def spellNormalize(text):\n",
    "    spellCheck = []\n",
    "    for i in text:\n",
    "        if i not in character:\n",
    "            j = sc.correction(i)\n",
    "            spellCheck.append(j)\n",
    "        else:\n",
    "            spellCheck.append(i)\n",
    "    return spellCheck\n",
    "\n",
    "def tokenize_text(text):\n",
    "    tokens = nltk.word_tokenize(text)\n",
    "    tokens = [token.strip() for token in tokens]\n",
    "    return tokens\n",
    "\n",
    "def expand_contractions(text, contraction_mapping):\n",
    "    contractions_pattern = re.compile('({})'.format('|'.join(contraction_mapping.keys())),\n",
    "                                      flags=re.IGNORECASE | re.DOTALL)\n",
    "    def expand_match(contraction):\n",
    "        match = contraction.group(0)\n",
    "        first_char = match[0]\n",
    "        expanded_contraction = contraction_mapping.get(match) if contraction_mapping.get(match) else contraction_mapping.get(match.lower())\n",
    "        expanded_contraction = first_char + expanded_contraction[1:]\n",
    "        return expanded_contraction\n",
    "\n",
    "    expanded_text = contractions_pattern.sub(expand_match, text)\n",
    "    expanded_text = re.sub(\"'\", \"\", expanded_text)\n",
    "    return expanded_text\n",
    "\n",
    "def stemmer_text(text):\n",
    "    factory = StemmerFactory()\n",
    "    stemmer = factory.create_stemmer()\n",
    "    text = stemmer.stem(text)\n",
    "    return text"
   ]
  },
  {
   "cell_type": "code",
   "execution_count": 3,
   "metadata": {},
   "outputs": [],
   "source": [
    "def remove_special_characters(text):\n",
    "    tokens = tokenize_text(text)\n",
    "    pattern = re.compile('[{}]'.format(re.escape(string.punctuation)))\n",
    "    filtered_tokens = filter(None, [pattern.sub('',token) for token in tokens])\n",
    "    filtered_text = ' '.join(filtered_tokens)\n",
    "    return filtered_text"
   ]
  },
  {
   "cell_type": "code",
   "execution_count": 4,
   "metadata": {},
   "outputs": [],
   "source": [
    "factory = StopWordRemoverFactory()\n",
    "stopword_list = factory.get_stop_words()"
   ]
  },
  {
   "cell_type": "code",
   "execution_count": 5,
   "metadata": {},
   "outputs": [],
   "source": [
    "def remove_stopwords(text):\n",
    "    tokens = tokenize_text(text)\n",
    "    filtered_tokens = [token for token in tokens if token not in stopword_list]\n",
    "    filtered_text = ' '.join(filtered_tokens)\n",
    "    return filtered_text"
   ]
  },
  {
   "cell_type": "code",
   "execution_count": 6,
   "metadata": {},
   "outputs": [],
   "source": [
    "def normalize_corpus(corpus, tokenize=False):\n",
    "    normalized_corpus = []\n",
    "    for text in corpus:\n",
    "        text = expand_contractions(text, CONTRACTION_MAP)\n",
    "        text = stemmer_text(text)\n",
    "        text = remove_special_characters(text)\n",
    "        text = repeatcharNormalize(text)\n",
    "        text = remove_stopwords(text)\n",
    "        normalized_corpus.append(text)\n",
    "        if tokenize:\n",
    "            text = tokenize_text(text)\n",
    "            text = spellNormalize(text)\n",
    "            normalized_corpus.append(text)\n",
    "    return normalized_corpus"
   ]
  },
  {
   "cell_type": "markdown",
   "metadata": {},
   "source": [
    "Penyiapan Data Teks"
   ]
  },
  {
   "cell_type": "code",
   "execution_count": 7,
   "metadata": {},
   "outputs": [
    {
     "data": {
      "text/html": [
       "<div>\n",
       "<style scoped>\n",
       "    .dataframe tbody tr th:only-of-type {\n",
       "        vertical-align: middle;\n",
       "    }\n",
       "\n",
       "    .dataframe tbody tr th {\n",
       "        vertical-align: top;\n",
       "    }\n",
       "\n",
       "    .dataframe thead th {\n",
       "        text-align: right;\n",
       "    }\n",
       "</style>\n",
       "<table border=\"1\" class=\"dataframe\">\n",
       "  <thead>\n",
       "    <tr style=\"text-align: right;\">\n",
       "      <th></th>\n",
       "      <th>title</th>\n",
       "      <th>category</th>\n",
       "      <th>link</th>\n",
       "    </tr>\n",
       "  </thead>\n",
       "  <tbody>\n",
       "    <tr>\n",
       "      <th>0</th>\n",
       "      <td>Klasemen Liga Inggris: Tottenham Gusur Man Cit...</td>\n",
       "      <td>Sepakbola</td>\n",
       "      <td>https://www.cnnindonesia.com/olahraga/20231024...</td>\n",
       "    </tr>\n",
       "    <tr>\n",
       "      <th>1</th>\n",
       "      <td>Khamzat Disebut Tak Pantas Dapat Duel Gelar Ju...</td>\n",
       "      <td>Olahraga Lainnya</td>\n",
       "      <td>https://www.cnnindonesia.com/olahraga/20231023...</td>\n",
       "    </tr>\n",
       "    <tr>\n",
       "      <th>2</th>\n",
       "      <td>Hasil Liga Inggris: Son Cetak Gol, Tottenham H...</td>\n",
       "      <td>Sepakbola</td>\n",
       "      <td>https://www.cnnindonesia.com/olahraga/20231024...</td>\n",
       "    </tr>\n",
       "    <tr>\n",
       "      <th>3</th>\n",
       "      <td>Binder Merasa Kasihan Martin Gagal Menang di M...</td>\n",
       "      <td>Moto GP</td>\n",
       "      <td>https://www.cnnindonesia.com/olahraga/20231024...</td>\n",
       "    </tr>\n",
       "    <tr>\n",
       "      <th>4</th>\n",
       "      <td>FOTO: Tottenham Jaga Rekor Belum Terkalahkan U...</td>\n",
       "      <td>Sepakbola</td>\n",
       "      <td>https://www.cnnindonesia.com/olahraga/20231024...</td>\n",
       "    </tr>\n",
       "    <tr>\n",
       "      <th>...</th>\n",
       "      <td>...</td>\n",
       "      <td>...</td>\n",
       "      <td>...</td>\n",
       "    </tr>\n",
       "    <tr>\n",
       "      <th>1995</th>\n",
       "      <td>Jadwal Siaran Langsung Final Hong Kong Open: 3...</td>\n",
       "      <td>Raket</td>\n",
       "      <td>https://www.cnnindonesia.com/olahraga/20230917...</td>\n",
       "    </tr>\n",
       "    <tr>\n",
       "      <th>1996</th>\n",
       "      <td>Klasemen Liga Inggris Usai MU Terpuruk di Old ...</td>\n",
       "      <td>Sepakbola</td>\n",
       "      <td>https://www.cnnindonesia.com/olahraga/20230917...</td>\n",
       "    </tr>\n",
       "    <tr>\n",
       "      <th>1997</th>\n",
       "      <td>Ronaldo Tunjukkan Gairah Besar di Saudi Pro Le...</td>\n",
       "      <td>Sepakbola</td>\n",
       "      <td>https://www.cnnindonesia.com/olahraga/20230917...</td>\n",
       "    </tr>\n",
       "    <tr>\n",
       "      <th>1998</th>\n",
       "      <td>2 Pemain Al Raed Berebut Tendang Penalti, Rona...</td>\n",
       "      <td>Sepakbola</td>\n",
       "      <td>https://www.cnnindonesia.com/olahraga/20230917...</td>\n",
       "    </tr>\n",
       "    <tr>\n",
       "      <th>1999</th>\n",
       "      <td>Hasil Liga Spanyol: Joao Felix Cetak Gol, Barc...</td>\n",
       "      <td>Sepakbola</td>\n",
       "      <td>https://www.cnnindonesia.com/olahraga/20230917...</td>\n",
       "    </tr>\n",
       "  </tbody>\n",
       "</table>\n",
       "<p>2000 rows × 3 columns</p>\n",
       "</div>"
      ],
      "text/plain": [
       "                                                  title          category  \\\n",
       "0     Klasemen Liga Inggris: Tottenham Gusur Man Cit...         Sepakbola   \n",
       "1     Khamzat Disebut Tak Pantas Dapat Duel Gelar Ju...  Olahraga Lainnya   \n",
       "2     Hasil Liga Inggris: Son Cetak Gol, Tottenham H...         Sepakbola   \n",
       "3     Binder Merasa Kasihan Martin Gagal Menang di M...           Moto GP   \n",
       "4     FOTO: Tottenham Jaga Rekor Belum Terkalahkan U...         Sepakbola   \n",
       "...                                                 ...               ...   \n",
       "1995  Jadwal Siaran Langsung Final Hong Kong Open: 3...             Raket   \n",
       "1996  Klasemen Liga Inggris Usai MU Terpuruk di Old ...         Sepakbola   \n",
       "1997  Ronaldo Tunjukkan Gairah Besar di Saudi Pro Le...         Sepakbola   \n",
       "1998  2 Pemain Al Raed Berebut Tendang Penalti, Rona...         Sepakbola   \n",
       "1999  Hasil Liga Spanyol: Joao Felix Cetak Gol, Barc...         Sepakbola   \n",
       "\n",
       "                                                   link  \n",
       "0     https://www.cnnindonesia.com/olahraga/20231024...  \n",
       "1     https://www.cnnindonesia.com/olahraga/20231023...  \n",
       "2     https://www.cnnindonesia.com/olahraga/20231024...  \n",
       "3     https://www.cnnindonesia.com/olahraga/20231024...  \n",
       "4     https://www.cnnindonesia.com/olahraga/20231024...  \n",
       "...                                                 ...  \n",
       "1995  https://www.cnnindonesia.com/olahraga/20230917...  \n",
       "1996  https://www.cnnindonesia.com/olahraga/20230917...  \n",
       "1997  https://www.cnnindonesia.com/olahraga/20230917...  \n",
       "1998  https://www.cnnindonesia.com/olahraga/20230917...  \n",
       "1999  https://www.cnnindonesia.com/olahraga/20230917...  \n",
       "\n",
       "[2000 rows x 3 columns]"
      ]
     },
     "execution_count": 7,
     "metadata": {},
     "output_type": "execute_result"
    }
   ],
   "source": [
    "dataset = pd.read_csv('cnn_sport.csv')\n",
    "dataset"
   ]
  },
  {
   "cell_type": "code",
   "execution_count": 8,
   "metadata": {},
   "outputs": [],
   "source": [
    "feature = dataset.iloc[:,0]"
   ]
  },
  {
   "cell_type": "code",
   "execution_count": 9,
   "metadata": {},
   "outputs": [
    {
     "data": {
      "text/plain": [
       "0    Klasemen Liga Inggris: Tottenham Gusur Man Cit...\n",
       "1    Khamzat Disebut Tak Pantas Dapat Duel Gelar Ju...\n",
       "2    Hasil Liga Inggris: Son Cetak Gol, Tottenham H...\n",
       "3    Binder Merasa Kasihan Martin Gagal Menang di M...\n",
       "4    FOTO: Tottenham Jaga Rekor Belum Terkalahkan U...\n",
       "5    INFOGRAFIS: Jadwal Timnas Indonesia di Kualifi...\n",
       "6          Messi Banggakan Capaian Bersama Inter Miami\n",
       "7    Erick Thohir Soal Persiapan Piala Dunia U-17: ...\n",
       "8    Bagnaia Mulai Pongah Jelang MotoGP Thailand da...\n",
       "9    Sidang Komdis PSSI: Hugo Samir Pukul Pemain Pe...\n",
       "Name: title, dtype: object"
      ]
     },
     "execution_count": 9,
     "metadata": {},
     "output_type": "execute_result"
    }
   ],
   "source": [
    "feature[0:10]"
   ]
  },
  {
   "cell_type": "code",
   "execution_count": 10,
   "metadata": {},
   "outputs": [
    {
     "data": {
      "text/plain": [
       "2000"
      ]
     },
     "execution_count": 10,
     "metadata": {},
     "output_type": "execute_result"
    }
   ],
   "source": [
    "norm_corpus = normalize_corpus(feature)\n",
    "len(norm_corpus)"
   ]
  },
  {
   "cell_type": "code",
   "execution_count": 14,
   "metadata": {},
   "outputs": [
    {
     "data": {
      "text/plain": [
       "['klasemen liga ingris totenham gusur man city puncak',\n",
       " 'khamzat sebut tak pantas duel gelar juara ufc',\n",
       " 'hasil liga ingris son cetak gol totenham hajar fulham 20',\n",
       " 'binder rasa kasihan martin gagal menang motogp australia',\n",
       " 'foto totenham jaga rekor kalah usai hajar fulham',\n",
       " 'infografis jadwal timnas indonesia kualifikasi piala dunia 2026',\n",
       " 'mesi banga capai sama inter miami',\n",
       " 'erick thohir soal siap piala dunia u17 fifa beri jempol',\n",
       " 'bagnaia mulai pongah jelang motogp thailand malaysia',\n",
       " 'sidang komdis psi hugo samir pukul main persib hukum 2 laga']"
      ]
     },
     "execution_count": 14,
     "metadata": {},
     "output_type": "execute_result"
    }
   ],
   "source": [
    "norm_corpus[0:10]"
   ]
  },
  {
   "cell_type": "code",
   "execution_count": 15,
   "metadata": {},
   "outputs": [],
   "source": [
    "test_data = [\n",
    "    'klasemen liga ingris terkini',\n",
    "    'hasil terbaru motogp 2023',\n",
    "    'jadwal pertandingan piala dunia 2026',\n",
    "    'siapa pemenang liga 1 musim ini',\n",
    "    'biodata pemain timnas indonesia u17'\n",
    "]\n"
   ]
  },
  {
   "cell_type": "code",
   "execution_count": 16,
   "metadata": {},
   "outputs": [
    {
     "name": "stdout",
     "output_type": "stream",
     "text": [
      "Test Data: klasemen liga ingris terkini\n",
      "Predicted Document: klasemen liga ingris usai arsenal gebuk man city\n",
      "Cosine Similarity: 0.35097116384693405\n",
      "---\n",
      "Test Data: hasil terbaru motogp 2023\n",
      "Predicted Document: indonesia asi games 2023 gagal hasil\n",
      "Cosine Similarity: 0.2694076040766079\n",
      "---\n",
      "Test Data: jadwal pertandingan piala dunia 2026\n",
      "Predicted Document: jadwal brunei vs indonesia kualifikasi piala dunia 2026\n",
      "Cosine Similarity: 0.5870322656339431\n",
      "---\n",
      "Test Data: siapa pemenang liga 1 musim ini\n",
      "Predicted Document: siapa lawan timnas indonesia u24 16 besar asi games\n",
      "Cosine Similarity: 0.2594826355703311\n",
      "---\n",
      "Test Data: biodata pemain timnas indonesia u17\n",
      "Predicted Document: timnas indonesia u17 raih menang jerman\n",
      "Cosine Similarity: 0.2553662164669305\n",
      "---\n",
      "Accuracy: 20.00%\n"
     ]
    }
   ],
   "source": [
    "from sklearn.feature_extraction.text import TfidfVectorizer\n",
    "from sklearn.metrics.pairwise import cosine_similarity\n",
    "\n",
    "# Menggunakan TfidfVectorizer untuk mengonversi teks menjadi vektor TF-IDF\n",
    "vectorizer = TfidfVectorizer()\n",
    "tfidf_matrix = vectorizer.fit_transform(norm_corpus + test_data)\n",
    "\n",
    "# Menghitung cosine similarity antara dokumen dalam norm_corpus dan data uji\n",
    "cosine_similarities = cosine_similarity(tfidf_matrix[-len(test_data):], tfidf_matrix[:-len(test_data)])\n",
    "correct_predictions=0\n",
    "# Menghitung akurasi\n",
    "for i in range(len(test_data)):\n",
    "    predicted_index = cosine_similarities[i].argmax()\n",
    "    print(f'Test Data: {test_data[i]}')\n",
    "    print(f'Predicted Document: {norm_corpus[predicted_index]}')\n",
    "    print(f'Cosine Similarity: {cosine_similarities[i][predicted_index]}')\n",
    "    print('---')\n",
    "    if cosine_similarities[i][predicted_index] >= 0.5:\n",
    "        correct_predictions+=1\n",
    "        \n",
    "        \n",
    "\n",
    "\n",
    "accuracy = correct_predictions / len(test_data)\n",
    "print(f'Accuracy: {accuracy * 100:.2f}%')\n"
   ]
  },
  {
   "cell_type": "code",
   "execution_count": null,
   "metadata": {},
   "outputs": [],
   "source": []
  }
 ],
 "metadata": {
  "kernelspec": {
   "display_name": "base",
   "language": "python",
   "name": "python3"
  },
  "language_info": {
   "codemirror_mode": {
    "name": "ipython",
    "version": 3
   },
   "file_extension": ".py",
   "mimetype": "text/x-python",
   "name": "python",
   "nbconvert_exporter": "python",
   "pygments_lexer": "ipython3",
   "version": "3.11.5"
  }
 },
 "nbformat": 4,
 "nbformat_minor": 2
}
