{
 "cells": [
  {
   "cell_type": "markdown",
   "metadata": {},
   "source": [
    "# Project UTS - Pengolahan Bahasa Alami\n",
    "##  KLASIFIKASI TEKS BAHASA INDONESIA UNTUK BERITA OLAHRAGA\n",
    "\n",
    "**Anggota Kelompok:**\n",
    "1. Emmanuel Mathew Krisna Rata - 200710530\n",
    "2. Antonius Indra Wardhana - 200710542\n",
    "3. Farrel Rayner Nathanael Geovano - 200710560\n",
    "4. Edmond Sorensen - 200710617\n",
    "4. Paulus Bayu Kurnia Wicaksono - 200710691"
   ]
  },
  {
   "cell_type": "markdown",
   "metadata": {},
   "source": [
    "## Objective\n",
    "Mempermudah pembaca dalam menemukan berita yang dituju \n",
    "\n",
    "Meningkatkan efisiensi dan efektivitas dalam mengelola berita "
   ]
  },
  {
   "cell_type": "markdown",
   "metadata": {},
   "source": [
    "## Latar Belakang\n",
    "POIN 1 \n",
    "\n",
    "Klasifikasi berita olahraga juga dapat membantu pembaca untuk menemukan berita yang lebih relevan dengan minatnya. Hal ini karena berita-berita olahraga yang dikategorikan akan lebih mudah dicari dan diakses. \n",
    "\n",
    "POIN 2 \n",
    "\n",
    "Klasifikasi berita olahraga dapat membantu media massa untuk mengelola berita olahraga dengan lebih efisien dan efektif. Hal ini dapat dilakukan dengan memisahkan berita-berita olahraga berdasarkan kategorinya masing-masing "
   ]
  },
  {
   "cell_type": "markdown",
   "metadata": {},
   "source": [
    "## Deskripsi Dataset\n",
    "SUMBER \n",
    "\n",
    "Sumber berita online terkait olahraga diambil dari CNN \n",
    "\n",
    "KARAKTERISTIK \n",
    "\n",
    "Label yang dipakai adalah Judul berita, kategori berita. Jumlah data ada pada dataset adalah 2000 baris "
   ]
  },
  {
   "cell_type": "markdown",
   "metadata": {},
   "source": [
    "## Pengembangan Model Klasifikasi Teks\n"
   ]
  },
  {
   "cell_type": "markdown",
   "metadata": {},
   "source": [
    "### Inisialisasi\n",
    "Silakan isi bagian ini dengan mengimport library-library yang akan digunakan. "
   ]
  },
  {
   "cell_type": "code",
   "execution_count": 36,
   "metadata": {},
   "outputs": [],
   "source": [
    "import numpy as np\n",
    "import pandas as pd\n",
    "import modSpellChecker as sc\n",
    "from contractions_id import CONTRACTION_MAP\n",
    "import re\n",
    "import nltk\n",
    "import string\n",
    "from nltk.stem import WordNetLemmatizer\n",
    "from Sastrawi.Stemmer.StemmerFactory import StemmerFactory\n",
    "import gensim\n",
    "from gensim.models import Word2Vec\n",
    "from gensim import models\n",
    "#from pattern.en import tag\n",
    "from nltk.corpus import wordnet as wn\n",
    "from Sastrawi.StopWordRemover.StopWordRemoverFactory import StopWordRemoverFactory\n",
    "from gensim import corpora, models\n",
    "import sklearn\n",
    "#from normalization import normalize_corpus\n",
    "from sklearn.feature_extraction.text import CountVectorizer\n",
    "from sklearn.feature_extraction.text import TfidfTransformer\n",
    "from sklearn.feature_extraction.text import TfidfVectorizer\n",
    "from sklearn.datasets import fetch_20newsgroups\n",
    "from sklearn.model_selection import train_test_split\n",
    "from sklearn import metrics\n",
    "from sklearn.naive_bayes import MultinomialNB\n",
    "from datetime import datetime\n",
    "import csv\n",
    "from sklearn.linear_model import SGDClassifier\n",
    "from sklearn.svm import LinearSVC\n",
    "from sklearn.naive_bayes import MultinomialNB\n",
    "from sklearn.feature_selection import SelectKBest, chi2\n",
    "from sklearn.model_selection import GridSearchCV\n",
    "from sklearn.pipeline import Pipeline\n",
    "from sklearn.feature_selection import SelectKBest, chi2\n",
    "import matplotlib.pyplot as plt\n",
    "import seaborn as sns\n",
    "from sklearn.metrics import confusion_matrix"
   ]
  },
  {
   "cell_type": "markdown",
   "metadata": {},
   "source": [
    "### Data Preparation\n",
    "Silakan isi bagian ini dengan script untuk memanggil data yang akan digunakan untuk keperluan pengembangan model klasifikasi teks dan menampilkan contoh data yang telah dipanggil baik yang akan dijadikan sebagai input maupun target-nya (label)."
   ]
  },
  {
   "cell_type": "code",
   "execution_count": 2,
   "metadata": {},
   "outputs": [
    {
     "data": {
      "text/html": [
       "<div>\n",
       "<style scoped>\n",
       "    .dataframe tbody tr th:only-of-type {\n",
       "        vertical-align: middle;\n",
       "    }\n",
       "\n",
       "    .dataframe tbody tr th {\n",
       "        vertical-align: top;\n",
       "    }\n",
       "\n",
       "    .dataframe thead th {\n",
       "        text-align: right;\n",
       "    }\n",
       "</style>\n",
       "<table border=\"1\" class=\"dataframe\">\n",
       "  <thead>\n",
       "    <tr style=\"text-align: right;\">\n",
       "      <th></th>\n",
       "      <th>title</th>\n",
       "      <th>category</th>\n",
       "      <th>link</th>\n",
       "    </tr>\n",
       "  </thead>\n",
       "  <tbody>\n",
       "    <tr>\n",
       "      <th>0</th>\n",
       "      <td>Klasemen Liga Inggris: Tottenham Gusur Man Cit...</td>\n",
       "      <td>Sepakbola</td>\n",
       "      <td>https://www.cnnindonesia.com/olahraga/20231024...</td>\n",
       "    </tr>\n",
       "    <tr>\n",
       "      <th>1</th>\n",
       "      <td>Khamzat Disebut Tak Pantas Dapat Duel Gelar Ju...</td>\n",
       "      <td>Olahraga Lainnya</td>\n",
       "      <td>https://www.cnnindonesia.com/olahraga/20231023...</td>\n",
       "    </tr>\n",
       "    <tr>\n",
       "      <th>2</th>\n",
       "      <td>Hasil Liga Inggris: Son Cetak Gol, Tottenham H...</td>\n",
       "      <td>Sepakbola</td>\n",
       "      <td>https://www.cnnindonesia.com/olahraga/20231024...</td>\n",
       "    </tr>\n",
       "    <tr>\n",
       "      <th>3</th>\n",
       "      <td>Binder Merasa Kasihan Martin Gagal Menang di M...</td>\n",
       "      <td>Moto GP</td>\n",
       "      <td>https://www.cnnindonesia.com/olahraga/20231024...</td>\n",
       "    </tr>\n",
       "    <tr>\n",
       "      <th>4</th>\n",
       "      <td>FOTO: Tottenham Jaga Rekor Belum Terkalahkan U...</td>\n",
       "      <td>Sepakbola</td>\n",
       "      <td>https://www.cnnindonesia.com/olahraga/20231024...</td>\n",
       "    </tr>\n",
       "    <tr>\n",
       "      <th>...</th>\n",
       "      <td>...</td>\n",
       "      <td>...</td>\n",
       "      <td>...</td>\n",
       "    </tr>\n",
       "    <tr>\n",
       "      <th>1995</th>\n",
       "      <td>Jadwal Siaran Langsung Final Hong Kong Open: 3...</td>\n",
       "      <td>Raket</td>\n",
       "      <td>https://www.cnnindonesia.com/olahraga/20230917...</td>\n",
       "    </tr>\n",
       "    <tr>\n",
       "      <th>1996</th>\n",
       "      <td>Klasemen Liga Inggris Usai MU Terpuruk di Old ...</td>\n",
       "      <td>Sepakbola</td>\n",
       "      <td>https://www.cnnindonesia.com/olahraga/20230917...</td>\n",
       "    </tr>\n",
       "    <tr>\n",
       "      <th>1997</th>\n",
       "      <td>Ronaldo Tunjukkan Gairah Besar di Saudi Pro Le...</td>\n",
       "      <td>Sepakbola</td>\n",
       "      <td>https://www.cnnindonesia.com/olahraga/20230917...</td>\n",
       "    </tr>\n",
       "    <tr>\n",
       "      <th>1998</th>\n",
       "      <td>2 Pemain Al Raed Berebut Tendang Penalti, Rona...</td>\n",
       "      <td>Sepakbola</td>\n",
       "      <td>https://www.cnnindonesia.com/olahraga/20230917...</td>\n",
       "    </tr>\n",
       "    <tr>\n",
       "      <th>1999</th>\n",
       "      <td>Hasil Liga Spanyol: Joao Felix Cetak Gol, Barc...</td>\n",
       "      <td>Sepakbola</td>\n",
       "      <td>https://www.cnnindonesia.com/olahraga/20230917...</td>\n",
       "    </tr>\n",
       "  </tbody>\n",
       "</table>\n",
       "<p>2000 rows × 3 columns</p>\n",
       "</div>"
      ],
      "text/plain": [
       "                                                  title          category  \\\n",
       "0     Klasemen Liga Inggris: Tottenham Gusur Man Cit...         Sepakbola   \n",
       "1     Khamzat Disebut Tak Pantas Dapat Duel Gelar Ju...  Olahraga Lainnya   \n",
       "2     Hasil Liga Inggris: Son Cetak Gol, Tottenham H...         Sepakbola   \n",
       "3     Binder Merasa Kasihan Martin Gagal Menang di M...           Moto GP   \n",
       "4     FOTO: Tottenham Jaga Rekor Belum Terkalahkan U...         Sepakbola   \n",
       "...                                                 ...               ...   \n",
       "1995  Jadwal Siaran Langsung Final Hong Kong Open: 3...             Raket   \n",
       "1996  Klasemen Liga Inggris Usai MU Terpuruk di Old ...         Sepakbola   \n",
       "1997  Ronaldo Tunjukkan Gairah Besar di Saudi Pro Le...         Sepakbola   \n",
       "1998  2 Pemain Al Raed Berebut Tendang Penalti, Rona...         Sepakbola   \n",
       "1999  Hasil Liga Spanyol: Joao Felix Cetak Gol, Barc...         Sepakbola   \n",
       "\n",
       "                                                   link  \n",
       "0     https://www.cnnindonesia.com/olahraga/20231024...  \n",
       "1     https://www.cnnindonesia.com/olahraga/20231023...  \n",
       "2     https://www.cnnindonesia.com/olahraga/20231024...  \n",
       "3     https://www.cnnindonesia.com/olahraga/20231024...  \n",
       "4     https://www.cnnindonesia.com/olahraga/20231024...  \n",
       "...                                                 ...  \n",
       "1995  https://www.cnnindonesia.com/olahraga/20230917...  \n",
       "1996  https://www.cnnindonesia.com/olahraga/20230917...  \n",
       "1997  https://www.cnnindonesia.com/olahraga/20230917...  \n",
       "1998  https://www.cnnindonesia.com/olahraga/20230917...  \n",
       "1999  https://www.cnnindonesia.com/olahraga/20230917...  \n",
       "\n",
       "[2000 rows x 3 columns]"
      ]
     },
     "execution_count": 2,
     "metadata": {},
     "output_type": "execute_result"
    }
   ],
   "source": [
    "dataset = pd.read_csv('cnn_sport.csv')\n",
    "dataset"
   ]
  },
  {
   "cell_type": "code",
   "execution_count": 3,
   "metadata": {},
   "outputs": [],
   "source": [
    "kategori_tidak_ingin_dihapus = ['Category not found','Analisis','Tanya Jawab','Infografis']\n",
    "\n",
    "dataset = dataset[~dataset['category'].isin(kategori_tidak_ingin_dihapus)]"
   ]
  },
  {
   "cell_type": "code",
   "execution_count": 4,
   "metadata": {},
   "outputs": [
    {
     "data": {
      "text/plain": [
       "(1973, 3)"
      ]
     },
     "execution_count": 4,
     "metadata": {},
     "output_type": "execute_result"
    }
   ],
   "source": [
    "dataset.shape"
   ]
  },
  {
   "cell_type": "code",
   "execution_count": 5,
   "metadata": {},
   "outputs": [
    {
     "data": {
      "text/plain": [
       "category\n",
       "F1                    7\n",
       "Moto GP             357\n",
       "Olahraga Lainnya    394\n",
       "Raket               219\n",
       "Sepakbola           996\n",
       "Name: title, dtype: int64"
      ]
     },
     "execution_count": 5,
     "metadata": {},
     "output_type": "execute_result"
    }
   ],
   "source": [
    "df2 = dataset.groupby(['category'])['title'].count()\n",
    "df2"
   ]
  },
  {
   "cell_type": "code",
   "execution_count": 6,
   "metadata": {},
   "outputs": [],
   "source": [
    "label = dataset.iloc[:,1]\n",
    "feature = dataset.iloc[:,0]"
   ]
  },
  {
   "cell_type": "code",
   "execution_count": 7,
   "metadata": {},
   "outputs": [
    {
     "data": {
      "text/plain": [
       "0            Sepakbola\n",
       "1     Olahraga Lainnya\n",
       "2            Sepakbola\n",
       "3              Moto GP\n",
       "4            Sepakbola\n",
       "6            Sepakbola\n",
       "7            Sepakbola\n",
       "8              Moto GP\n",
       "9            Sepakbola\n",
       "10               Raket\n",
       "Name: category, dtype: object"
      ]
     },
     "execution_count": 7,
     "metadata": {},
     "output_type": "execute_result"
    }
   ],
   "source": [
    "label[0:10]"
   ]
  },
  {
   "cell_type": "code",
   "execution_count": 8,
   "metadata": {},
   "outputs": [
    {
     "data": {
      "text/plain": [
       "0     Klasemen Liga Inggris: Tottenham Gusur Man Cit...\n",
       "1     Khamzat Disebut Tak Pantas Dapat Duel Gelar Ju...\n",
       "2     Hasil Liga Inggris: Son Cetak Gol, Tottenham H...\n",
       "3     Binder Merasa Kasihan Martin Gagal Menang di M...\n",
       "4     FOTO: Tottenham Jaga Rekor Belum Terkalahkan U...\n",
       "6           Messi Banggakan Capaian Bersama Inter Miami\n",
       "7     Erick Thohir Soal Persiapan Piala Dunia U-17: ...\n",
       "8     Bagnaia Mulai Pongah Jelang MotoGP Thailand da...\n",
       "9     Sidang Komdis PSSI: Hugo Samir Pukul Pemain Pe...\n",
       "10          Daftar Pemain Indonesia di French Open 2023\n",
       "Name: title, dtype: object"
      ]
     },
     "execution_count": 8,
     "metadata": {},
     "output_type": "execute_result"
    }
   ],
   "source": [
    "feature[0:10]"
   ]
  },
  {
   "cell_type": "markdown",
   "metadata": {},
   "source": [
    "### Normalisasi Data\n",
    "Silakan isi bagian ini dengan script untuk keperluan normalisasi data teks yang akan digunakan untuk pengembangan model klasifikasi teks. \n",
    "Untuk setiap strategi normalisasi yang akan digunakan sebaiknya dibuat fungsi tersendiri dan dipanggil dalam satu fungsi normalisasi. Jangan lupa pada bagian ini ditampilkan contoh hasil normalisasi datanya."
   ]
  },
  {
   "cell_type": "code",
   "execution_count": 9,
   "metadata": {},
   "outputs": [],
   "source": [
    "#fungsi2 untuk normalisasi dataset\n",
    "character =['z','y','x','w','v','u','t','s','r','q','p','o','n','m','l','k','j','i','h','g','f','e','d','c','b','a',',','.',';',':','-','...','?','!','(',')','[',']','{','}','<','>','\"','/','\\'','#','-','@']\n",
    "def repeatcharNormalize(text):\n",
    "    for i in range(len(character)):\n",
    "        charac_long = 5\n",
    "        while charac_long>=2:\n",
    "            char=character[i]*charac_long\n",
    "            text=text.replace(char,character[i])\n",
    "            charac_long-=1\n",
    "        return text\n",
    "def spellNormalize(text):\n",
    "    spellCheck = []\n",
    "    for i in text:\n",
    "        if i not in character:\n",
    "            j=sc.correction(i)\n",
    "            spellCheck.append(j)\n",
    "        else:\n",
    "            spellCheck.append(i)\n",
    "        return spellCheck\n",
    "def tokenize_text(text):\n",
    "    tokens=nltk.word_tokenize(text)\n",
    "    tokens=[token.strip() for token in tokens]\n",
    "    return tokens\n",
    "def expand_contractions(text, contraction_mapping):\n",
    "    contractions_pattern = re.compile('({})'.format('|'.join(contraction_mapping.keys())),\n",
    "    flags=re.IGNORECASE|re.DOTALL)\n",
    "    def expand_match(contraction):\n",
    "        match = contraction.group(0)\n",
    "        first_char = match[0]\n",
    "        expanded_contraction = contraction_mapping.get(match)\\\n",
    "                                if contraction_mapping.get(match)\\\n",
    "                                else contraction_mapping.get(match.lower())\n",
    "        expanded_contraction = first_char + expanded_contraction[1:]\n",
    "        return expanded_contraction\n",
    "    expanded_text = contractions_pattern.sub(expand_match, text)\n",
    "    expanded_text = re.sub(\"'\",\"\", expanded_text)\n",
    "    return expanded_text\n",
    "def stemmer_text(text):\n",
    "    factory = StemmerFactory()\n",
    "    stemmer = factory.create_stemmer()\n",
    "    text = stemmer.stem(text)\n",
    "    return text\n",
    "# def lemmatize_text(text):\n",
    "# pos_tagged_text = pos_tag_text(text)\n",
    "# lemmatized_tokens = [wnl.lemmatize(word, pos_tag) if pos_tag\n",
    "# else word for word,\n",
    "# pos_tag in pos_tagged_text]\n",
    "# lemmatize_text=' '.join(lemmatized_tokens)\n",
    "# return lemmatize_text"
   ]
  },
  {
   "cell_type": "code",
   "execution_count": 10,
   "metadata": {},
   "outputs": [],
   "source": [
    "def remove_special_characters(text):\n",
    "    tokens = tokenize_text(text)\n",
    "    pattern = re.compile('[{}]'.format(re.escape(string.punctuation)))\n",
    "    filtered_tokens = filter(None, [pattern.sub('',token) for token in tokens])\n",
    "    filtered_text = ' '.join(filtered_tokens)\n",
    "    return filtered_text\n",
    "factory = StopWordRemoverFactory()\n",
    "stopword_list = factory.get_stop_words()\n",
    "def remove_stopwords(text):\n",
    "    tokens = tokenize_text(text)\n",
    "    filtered_tokens = [token for token in tokens if token not in stopword_list]\n",
    "    filtered_text = ' '.join(filtered_tokens)\n",
    "    return filtered_text\n",
    "def normalize_corpus(corpus, tokenize=False):\n",
    "    normalized_corpus = []\n",
    "    for text in corpus:\n",
    "        text = expand_contractions(text, CONTRACTION_MAP)\n",
    "        text = stemmer_text(text)\n",
    "        text = remove_special_characters(text)\n",
    "        text = repeatcharNormalize(text)\n",
    "        text = remove_stopwords(text)\n",
    "        normalized_corpus.append(text)\n",
    "        if tokenize:\n",
    "            text = tokenize_text(text)\n",
    "            text = spellNormalize(text)\n",
    "            normalized_corpus.append(text)\n",
    "    return normalized_corpus"
   ]
  },
  {
   "cell_type": "markdown",
   "metadata": {},
   "source": [
    "### Ekstraksi Fitur\n",
    "Silakan isi bagian ini dengan script untuk keperluan ekstraksi fitur data teks yang akan digunakan untuk pengembangan model klasifikasi teks. \n",
    "Untuk setiap strategi ekstraksi fitur yang akan digunakan sebaiknya dibuat fungsi tersendiri dan dipanggil dalam satu fungsi ekstraksi fitur. Jangan lupa pada bagian ini ditampilkan contoh hasil ekstraksi fitur terhadap datanya."
   ]
  },
  {
   "cell_type": "code",
   "execution_count": 11,
   "metadata": {},
   "outputs": [],
   "source": [
    "#Fungsi untuk mengekstraksi feature menggunakan TF-IDF Model\n",
    "def tfidf_transformer(bow_matrix):\n",
    "    transformer = TfidfTransformer(norm='l2',\n",
    "                                    smooth_idf=True,\n",
    "                                    use_idf=True)\n",
    "    tfidf_matrix = transformer.fit_transform(bow_matrix)\n",
    "    return transformer, tfidf_matrix\n",
    "def tfidf_extractor(corpus, ngram_range=(1,1)):\n",
    "    vectorizer = TfidfVectorizer(min_df=1,\n",
    "                                norm='l2',\n",
    "                                smooth_idf=True,\n",
    "                                use_idf=True,\n",
    "                                ngram_range=ngram_range)\n",
    "    features = vectorizer.fit_transform(corpus)\n",
    "    return vectorizer, features"
   ]
  },
  {
   "cell_type": "markdown",
   "metadata": {},
   "source": [
    "### Model Training\n",
    "Silakan isi bagian ini dengan script untuk keperluan training model klasifikasi teks. Jangan lupa untuk menjabarkan rancangan pemodelan algoritme yang akan diterapkan dan kombinasi parameter yang akan digunakan dengan benar dan lengkap."
   ]
  },
  {
   "cell_type": "code",
   "execution_count": 13,
   "metadata": {},
   "outputs": [],
   "source": [
    "#training dataset\n",
    "def prepare_datasets(corpus, labels, test_data_proportion=0.3):\n",
    "    train_X, test_X, train_Y, test_Y = train_test_split(corpus, labels,\n",
    "    test_size=0.33,random_state=42)\n",
    "    return train_X, test_X, train_Y, test_Y\n",
    "train_corpus, test_corpus, train_labels, test_labels = prepare_datasets(feature,\n",
    "                                                                        label,test_data_proportion=0.3)"
   ]
  },
  {
   "cell_type": "code",
   "execution_count": 14,
   "metadata": {},
   "outputs": [],
   "source": [
    "#memanggil fungsi normalisasi dataset yang telah ditraining\n",
    "norm_train_corpus = normalize_corpus(train_corpus)"
   ]
  },
  {
   "cell_type": "code",
   "execution_count": 15,
   "metadata": {},
   "outputs": [
    {
     "data": {
      "text/plain": [
       "['tangis giannantonio usai finis ke4 motogp mandalika pertamina',\n",
       " 'video detik trofi piala dunia u17 pamer car free day',\n",
       " '2 main al raed rebut tendang penalti ronaldo ikut campur',\n",
       " 'hasil denmark open buang unggul leo daniel tumbang babak 1',\n",
       " 'muncul lee chong wei bikin heboh empat final asi games',\n",
       " 'hasil saudi pro league mane ronaldo cetak gol al nassr menang',\n",
       " 'zidane minta rp4 9 triliun arab saudi latih marseille',\n",
       " 'video momen rendah rahmat erwin juara asi games',\n",
       " 'indra sjafri bawa hugo samir timnas u24 tekuk kirgistan',\n",
       " 'foto man city tumbang piala liga']"
      ]
     },
     "execution_count": 15,
     "metadata": {},
     "output_type": "execute_result"
    }
   ],
   "source": [
    "norm_train_corpus[0:10]"
   ]
  },
  {
   "cell_type": "code",
   "execution_count": 16,
   "metadata": {},
   "outputs": [],
   "source": [
    "norm_test_corpus = normalize_corpus(test_corpus)"
   ]
  },
  {
   "cell_type": "code",
   "execution_count": 17,
   "metadata": {},
   "outputs": [
    {
     "data": {
      "text/plain": [
       "['erick timnas indonesia rencana lawan portugal jerman belanda',\n",
       " 'shin tae yong kirim mata pantau laga yordania vs irak',\n",
       " 'al nassr tetap beringas ronaldo',\n",
       " 'timnas indonesia bantai brunei 60 laju kualifikasi piala dunia',\n",
       " 'hasil liga italia roma menang juventus imbang',\n",
       " 'erick kan 2 opsi indonesia bidding tuan rumah piala dunia 2034',\n",
       " 'khamzat chimaev beri senjata biar perang palestina',\n",
       " 'agil angga mesin cetak poin timnas voli indonesia asi games',\n",
       " 'usman bukan tarung ganti pilih pertama lawan khamzat chimaev',\n",
       " 'old trafford ubah jadi tempat siksa mu']"
      ]
     },
     "execution_count": 17,
     "metadata": {},
     "output_type": "execute_result"
    }
   ],
   "source": [
    "norm_test_corpus[0:10]"
   ]
  },
  {
   "cell_type": "markdown",
   "metadata": {},
   "source": [
    "### Model Evaluation\n",
    "Silakan isi bagian ini dengan script untuk keperluan evaluasi model klasifikasi teks. Jangan lupa untuk menjabarkan rancangan proses evaluasi model, metrik, dan visualisasi confusion matrix yang akan digunakan dengan benar dan lengkap"
   ]
  },
  {
   "cell_type": "code",
   "execution_count": 18,
   "metadata": {},
   "outputs": [],
   "source": [
    "#mengunakan model TF-IDF untuk mengekstraksi feature\n",
    "tfidf_vectorizer, tfidf_train_features = tfidf_extractor(norm_train_corpus)\n",
    "tfidf_test_features = tfidf_vectorizer.transform(norm_test_corpus)"
   ]
  },
  {
   "cell_type": "code",
   "execution_count": 19,
   "metadata": {},
   "outputs": [],
   "source": [
    "#kami mengevaluasi model menggunakan fungsi train_predict_evaluate_model\n",
    "#kami mengukur nilai accuracy,precission, recall, dan F1 score apakan nilainya sudah sesuai atau tidak. Jika nilainya mendekati 1 maka proses klasifikasi berhasil\n",
    "\n",
    "train_features=tfidf_train_features\n",
    "train_labels=train_labels\n",
    "test_features=tfidf_test_features\n",
    "test_labels=test_labels"
   ]
  },
  {
   "cell_type": "code",
   "execution_count": 20,
   "metadata": {},
   "outputs": [],
   "source": [
    "df_train = pd.DataFrame()\n",
    "df_train['norm_train'] = norm_train_corpus\n",
    "df_train['train_labels'] = train_labels\n",
    "df_test = pd.DataFrame()\n",
    "df_test['norm_test'] = norm_test_corpus\n",
    "df_test['test_labels'] = test_labels"
   ]
  },
  {
   "cell_type": "code",
   "execution_count": 21,
   "metadata": {},
   "outputs": [
    {
     "data": {
      "text/html": [
       "<div>\n",
       "<style scoped>\n",
       "    .dataframe tbody tr th:only-of-type {\n",
       "        vertical-align: middle;\n",
       "    }\n",
       "\n",
       "    .dataframe tbody tr th {\n",
       "        vertical-align: top;\n",
       "    }\n",
       "\n",
       "    .dataframe thead th {\n",
       "        text-align: right;\n",
       "    }\n",
       "</style>\n",
       "<table border=\"1\" class=\"dataframe\">\n",
       "  <thead>\n",
       "    <tr style=\"text-align: right;\">\n",
       "      <th></th>\n",
       "      <th>norm_train</th>\n",
       "      <th>train_labels</th>\n",
       "    </tr>\n",
       "  </thead>\n",
       "  <tbody>\n",
       "    <tr>\n",
       "      <th>0</th>\n",
       "      <td>tangis giannantonio usai finis ke4 motogp mand...</td>\n",
       "      <td>Sepakbola</td>\n",
       "    </tr>\n",
       "    <tr>\n",
       "      <th>1</th>\n",
       "      <td>video detik trofi piala dunia u17 pamer car fr...</td>\n",
       "      <td>Olahraga Lainnya</td>\n",
       "    </tr>\n",
       "    <tr>\n",
       "      <th>2</th>\n",
       "      <td>2 main al raed rebut tendang penalti ronaldo i...</td>\n",
       "      <td>NaN</td>\n",
       "    </tr>\n",
       "    <tr>\n",
       "      <th>3</th>\n",
       "      <td>hasil denmark open buang unggul leo daniel tum...</td>\n",
       "      <td>Moto GP</td>\n",
       "    </tr>\n",
       "    <tr>\n",
       "      <th>4</th>\n",
       "      <td>muncul lee chong wei bikin heboh empat final a...</td>\n",
       "      <td>Sepakbola</td>\n",
       "    </tr>\n",
       "  </tbody>\n",
       "</table>\n",
       "</div>"
      ],
      "text/plain": [
       "                                          norm_train      train_labels\n",
       "0  tangis giannantonio usai finis ke4 motogp mand...         Sepakbola\n",
       "1  video detik trofi piala dunia u17 pamer car fr...  Olahraga Lainnya\n",
       "2  2 main al raed rebut tendang penalti ronaldo i...               NaN\n",
       "3  hasil denmark open buang unggul leo daniel tum...           Moto GP\n",
       "4  muncul lee chong wei bikin heboh empat final a...         Sepakbola"
      ]
     },
     "execution_count": 21,
     "metadata": {},
     "output_type": "execute_result"
    }
   ],
   "source": [
    "df_train.head()"
   ]
  },
  {
   "cell_type": "code",
   "execution_count": 22,
   "metadata": {},
   "outputs": [
    {
     "data": {
      "text/html": [
       "<div>\n",
       "<style scoped>\n",
       "    .dataframe tbody tr th:only-of-type {\n",
       "        vertical-align: middle;\n",
       "    }\n",
       "\n",
       "    .dataframe tbody tr th {\n",
       "        vertical-align: top;\n",
       "    }\n",
       "\n",
       "    .dataframe thead th {\n",
       "        text-align: right;\n",
       "    }\n",
       "</style>\n",
       "<table border=\"1\" class=\"dataframe\">\n",
       "  <thead>\n",
       "    <tr style=\"text-align: right;\">\n",
       "      <th></th>\n",
       "      <th>norm_test</th>\n",
       "      <th>test_labels</th>\n",
       "    </tr>\n",
       "  </thead>\n",
       "  <tbody>\n",
       "    <tr>\n",
       "      <th>0</th>\n",
       "      <td>erick timnas indonesia rencana lawan portugal ...</td>\n",
       "      <td>NaN</td>\n",
       "    </tr>\n",
       "    <tr>\n",
       "      <th>1</th>\n",
       "      <td>shin tae yong kirim mata pantau laga yordania ...</td>\n",
       "      <td>NaN</td>\n",
       "    </tr>\n",
       "    <tr>\n",
       "      <th>2</th>\n",
       "      <td>al nassr tetap beringas ronaldo</td>\n",
       "      <td>Sepakbola</td>\n",
       "    </tr>\n",
       "    <tr>\n",
       "      <th>3</th>\n",
       "      <td>timnas indonesia bantai brunei 60 laju kualifi...</td>\n",
       "      <td>NaN</td>\n",
       "    </tr>\n",
       "    <tr>\n",
       "      <th>4</th>\n",
       "      <td>hasil liga italia roma menang juventus imbang</td>\n",
       "      <td>NaN</td>\n",
       "    </tr>\n",
       "  </tbody>\n",
       "</table>\n",
       "</div>"
      ],
      "text/plain": [
       "                                           norm_test test_labels\n",
       "0  erick timnas indonesia rencana lawan portugal ...         NaN\n",
       "1  shin tae yong kirim mata pantau laga yordania ...         NaN\n",
       "2                    al nassr tetap beringas ronaldo   Sepakbola\n",
       "3  timnas indonesia bantai brunei 60 laju kualifi...         NaN\n",
       "4      hasil liga italia roma menang juventus imbang         NaN"
      ]
     },
     "execution_count": 22,
     "metadata": {},
     "output_type": "execute_result"
    }
   ],
   "source": [
    "df_test.head()"
   ]
  },
  {
   "cell_type": "code",
   "execution_count": 23,
   "metadata": {},
   "outputs": [
    {
     "data": {
      "text/plain": [
       "<1x2066 sparse matrix of type '<class 'numpy.float64'>'\n",
       "\twith 8 stored elements in Compressed Sparse Row format>"
      ]
     },
     "execution_count": 23,
     "metadata": {},
     "output_type": "execute_result"
    }
   ],
   "source": [
    "train_features[0:1]"
   ]
  },
  {
   "cell_type": "code",
   "execution_count": 24,
   "metadata": {},
   "outputs": [
    {
     "data": {
      "text/plain": [
       "455    Moto GP\n",
       "Name: category, dtype: object"
      ]
     },
     "execution_count": 24,
     "metadata": {},
     "output_type": "execute_result"
    }
   ],
   "source": [
    "train_labels[0:1]"
   ]
  },
  {
   "cell_type": "code",
   "execution_count": 25,
   "metadata": {},
   "outputs": [],
   "source": [
    "clf = SGDClassifier(loss='hinge', max_iter=100)\n",
    "#clf = LinearSVC(penalty='l2', loss='squared_hinge', max_iter=100)\n",
    "#clf = MultinomialNB()"
   ]
  },
  {
   "cell_type": "code",
   "execution_count": 26,
   "metadata": {},
   "outputs": [
    {
     "name": "stdout",
     "output_type": "stream",
     "text": [
      "Label test: \n",
      "771            Sepakbola\n",
      "300            Sepakbola\n",
      "1437           Sepakbola\n",
      "353            Sepakbola\n",
      "1117           Sepakbola\n",
      "703            Sepakbola\n",
      "72      Olahraga Lainnya\n",
      "1438    Olahraga Lainnya\n",
      "57      Olahraga Lainnya\n",
      "1092           Sepakbola\n",
      "Name: category, dtype: object\n",
      "Prediction test: \n",
      "['Sepakbola' 'Sepakbola' 'Sepakbola' 'Sepakbola' 'Sepakbola' 'Sepakbola'\n",
      " 'Olahraga Lainnya' 'Olahraga Lainnya' 'Olahraga Lainnya' 'Sepakbola']\n"
     ]
    }
   ],
   "source": [
    "clf.fit(train_features, train_labels)\n",
    "predictions = clf.predict(test_features)\n",
    "print(\"Label test: \\n\" + format(test_labels[:10]))\n",
    "print(\"Prediction test: \\n\"+ format(predictions[:10]))"
   ]
  },
  {
   "cell_type": "code",
   "execution_count": 27,
   "metadata": {},
   "outputs": [
    {
     "name": "stdout",
     "output_type": "stream",
     "text": [
      "Accuration: 0.9601226993865031\n"
     ]
    }
   ],
   "source": [
    "print(\"Accuration: \"+format(clf.score(test_features,test_labels)))"
   ]
  },
  {
   "cell_type": "code",
   "execution_count": 28,
   "metadata": {},
   "outputs": [
    {
     "name": "stdout",
     "output_type": "stream",
     "text": [
      "Accuracy:  0.96\n",
      "Precision:  0.96\n",
      "Recall:  0.96\n",
      "F1 Score:  0.96\n"
     ]
    }
   ],
   "source": [
    "def get_metrics(true_labels, predicted_labels):\n",
    "    print('Accuracy: ', np.round(metrics.accuracy_score(true_labels,\n",
    "                                                        predicted_labels),2))\n",
    "    print('Precision: ', np.round(metrics.precision_score(true_labels,\n",
    "                                                        predicted_labels,\n",
    "                                                        average='weighted'),2))\n",
    "    print('Recall: ', np.round(metrics.recall_score(true_labels,\n",
    "                                                        predicted_labels,\n",
    "                                                        average='weighted'),2))\n",
    "    print('F1 Score: ', np.round(metrics.f1_score(true_labels,\n",
    "                                                        predicted_labels,\n",
    "                                                        average='weighted'),2))\n",
    "# mengevaluasi performa prediksi menggunakan model\n",
    "get_metrics(true_labels=test_labels,predicted_labels=predictions)"
   ]
  },
  {
   "cell_type": "code",
   "execution_count": 37,
   "metadata": {},
   "outputs": [],
   "source": [
    "text_clf = Pipeline([\n",
    "    ('tfidf', TfidfVectorizer(min_df=1, norm='l2', smooth_idf=True, use_idf=True, ngram_range=(1, 1))),\n",
    "    ('chi2', SelectKBest(chi2, k=1000)),  \n",
    "    ('clf', SGDClassifier(loss='hinge', max_iter=100))\n",
    "])"
   ]
  },
  {
   "cell_type": "code",
   "execution_count": 38,
   "metadata": {},
   "outputs": [],
   "source": [
    "param_grid = {\n",
    "    'tfidf__ngram_range': [(1, 1), (1, 2), (2, 2)],  \n",
    "    'chi2__k': [1000, 2000, 5000],  \n",
    "    'clf__alpha': [0.0001, 0.001, 0.01],\n",
    "    'clf__max_iter': [100, 1000, 10000]\n",
    "}"
   ]
  },
  {
   "cell_type": "code",
   "execution_count": 39,
   "metadata": {},
   "outputs": [],
   "source": [
    "grid_search = GridSearchCV(text_clf, param_grid, cv=5, n_jobs=-1, verbose=2)"
   ]
  },
  {
   "cell_type": "code",
   "execution_count": 40,
   "metadata": {},
   "outputs": [
    {
     "name": "stdout",
     "output_type": "stream",
     "text": [
      "Fitting 5 folds for each of 81 candidates, totalling 405 fits\n",
      "[CV] END chi2__k=1000, clf__alpha=0.0001, clf__max_iter=100, tfidf__ngram_range=(1, 1); total time=   0.1s[CV] END chi2__k=1000, clf__alpha=0.0001, clf__max_iter=100, tfidf__ngram_range=(1, 1); total time=   0.1s\n",
      "[CV] END chi2__k=1000, clf__alpha=0.0001, clf__max_iter=100, tfidf__ngram_range=(1, 1); total time=   0.1s\n",
      "\n",
      "[CV] END chi2__k=1000, clf__alpha=0.0001, clf__max_iter=100, tfidf__ngram_range=(1, 1); total time=   0.1s\n",
      "[CV] END chi2__k=1000, clf__alpha=0.0001, clf__max_iter=100, tfidf__ngram_range=(1, 2); total time=   0.1s\n",
      "[CV] END chi2__k=1000, clf__alpha=0.0001, clf__max_iter=100, tfidf__ngram_range=(1, 2); total time=   0.1s\n",
      "[CV] END chi2__k=1000, clf__alpha=0.0001, clf__max_iter=100, tfidf__ngram_range=(1, 1); total time=   0.1s\n",
      "[CV] END chi2__k=1000, clf__alpha=0.0001, clf__max_iter=100, tfidf__ngram_range=(1, 2); total time=   0.1s\n",
      "[CV] END chi2__k=1000, clf__alpha=0.0001, clf__max_iter=100, tfidf__ngram_range=(2, 2); total time=   0.1s\n",
      "[CV] END chi2__k=1000, clf__alpha=0.0001, clf__max_iter=1000, tfidf__ngram_range=(1, 1); total time=   0.1s\n",
      "[CV] END chi2__k=1000, clf__alpha=0.0001, clf__max_iter=100, tfidf__ngram_range=(1, 2); total time=   0.1s\n",
      "[CV] END chi2__k=1000, clf__alpha=0.0001, clf__max_iter=100, tfidf__ngram_range=(2, 2); total time=   0.1s\n",
      "[CV] END chi2__k=1000, clf__alpha=0.0001, clf__max_iter=100, tfidf__ngram_range=(2, 2); total time=   0.1s\n",
      "[CV] END chi2__k=1000, clf__alpha=0.0001, clf__max_iter=100, tfidf__ngram_range=(1, 2); total time=   0.1s\n",
      "[CV] END chi2__k=1000, clf__alpha=0.0001, clf__max_iter=100, tfidf__ngram_range=(2, 2); total time=   0.1s\n",
      "[CV] END chi2__k=1000, clf__alpha=0.0001, clf__max_iter=100, tfidf__ngram_range=(2, 2); total time=   0.1s\n",
      "[CV] END chi2__k=1000, clf__alpha=0.0001, clf__max_iter=1000, tfidf__ngram_range=(1, 1); total time=   0.0s\n",
      "[CV] END chi2__k=1000, clf__alpha=0.0001, clf__max_iter=1000, tfidf__ngram_range=(1, 1); total time=   0.0s\n",
      "[CV] END chi2__k=1000, clf__alpha=0.0001, clf__max_iter=1000, tfidf__ngram_range=(1, 1); total time=   0.0s\n",
      "[CV] END chi2__k=1000, clf__alpha=0.0001, clf__max_iter=1000, tfidf__ngram_range=(1, 1); total time=   0.1s\n",
      "[CV] END chi2__k=1000, clf__alpha=0.0001, clf__max_iter=1000, tfidf__ngram_range=(1, 2); total time=   0.1s\n",
      "[CV] END chi2__k=1000, clf__alpha=0.0001, clf__max_iter=1000, tfidf__ngram_range=(1, 2); total time=   0.1s\n",
      "[CV] END chi2__k=1000, clf__alpha=0.0001, clf__max_iter=1000, tfidf__ngram_range=(1, 2); total time=   0.1s\n",
      "[CV] END chi2__k=1000, clf__alpha=0.0001, clf__max_iter=1000, tfidf__ngram_range=(1, 2); total time=   0.1s\n",
      "[CV] END chi2__k=1000, clf__alpha=0.0001, clf__max_iter=1000, tfidf__ngram_range=(2, 2); total time=   0.1s\n",
      "[CV] END chi2__k=1000, clf__alpha=0.0001, clf__max_iter=1000, tfidf__ngram_range=(2, 2); total time=   0.1s\n",
      "[CV] END chi2__k=1000, clf__alpha=0.0001, clf__max_iter=1000, tfidf__ngram_range=(2, 2); total time=   0.1s\n",
      "[CV] END chi2__k=1000, clf__alpha=0.0001, clf__max_iter=1000, tfidf__ngram_range=(1, 2); total time=   0.1s\n",
      "[CV] END chi2__k=1000, clf__alpha=0.0001, clf__max_iter=1000, tfidf__ngram_range=(2, 2); total time=   0.1s\n",
      "[CV] END chi2__k=1000, clf__alpha=0.0001, clf__max_iter=10000, tfidf__ngram_range=(1, 1); total time=   0.1s\n",
      "[CV] END chi2__k=1000, clf__alpha=0.0001, clf__max_iter=10000, tfidf__ngram_range=(1, 1); total time=   0.1s\n",
      "[CV] END chi2__k=1000, clf__alpha=0.0001, clf__max_iter=10000, tfidf__ngram_range=(1, 1); total time=   0.0s\n",
      "[CV] END chi2__k=1000, clf__alpha=0.0001, clf__max_iter=10000, tfidf__ngram_range=(1, 1); total time=   0.0s\n",
      "[CV] END chi2__k=1000, clf__alpha=0.0001, clf__max_iter=1000, tfidf__ngram_range=(2, 2); total time=   0.1s\n",
      "[CV] END chi2__k=1000, clf__alpha=0.0001, clf__max_iter=10000, tfidf__ngram_range=(1, 1); total time=   0.0s\n",
      "[CV] END chi2__k=1000, clf__alpha=0.0001, clf__max_iter=10000, tfidf__ngram_range=(1, 2); total time=   0.1s\n",
      "[CV] END chi2__k=1000, clf__alpha=0.0001, clf__max_iter=10000, tfidf__ngram_range=(1, 2); total time=   0.1s\n",
      "[CV] END chi2__k=1000, clf__alpha=0.0001, clf__max_iter=10000, tfidf__ngram_range=(1, 2); total time=   0.1s[CV] END chi2__k=1000, clf__alpha=0.0001, clf__max_iter=10000, tfidf__ngram_range=(2, 2); total time=   0.1s\n",
      "\n",
      "[CV] END chi2__k=1000, clf__alpha=0.0001, clf__max_iter=10000, tfidf__ngram_range=(1, 2); total time=   0.1s\n",
      "[CV] END chi2__k=1000, clf__alpha=0.0001, clf__max_iter=10000, tfidf__ngram_range=(1, 2); total time=   0.1s\n",
      "[CV] END chi2__k=1000, clf__alpha=0.0001, clf__max_iter=10000, tfidf__ngram_range=(2, 2); total time=   0.1s\n",
      "[CV] END chi2__k=1000, clf__alpha=0.0001, clf__max_iter=10000, tfidf__ngram_range=(2, 2); total time=   0.1s\n",
      "[CV] END chi2__k=1000, clf__alpha=0.001, clf__max_iter=100, tfidf__ngram_range=(1, 1); total time=   0.0s\n",
      "[CV] END chi2__k=1000, clf__alpha=0.001, clf__max_iter=100, tfidf__ngram_range=(1, 1); total time=   0.0s\n",
      "[CV] END chi2__k=1000, clf__alpha=0.0001, clf__max_iter=10000, tfidf__ngram_range=(2, 2); total time=   0.1s\n",
      "[CV] END chi2__k=1000, clf__alpha=0.0001, clf__max_iter=10000, tfidf__ngram_range=(2, 2); total time=   0.1s\n",
      "[CV] END chi2__k=1000, clf__alpha=0.001, clf__max_iter=100, tfidf__ngram_range=(1, 1); total time=   0.1s\n",
      "[CV] END chi2__k=1000, clf__alpha=0.001, clf__max_iter=100, tfidf__ngram_range=(1, 1); total time=   0.1s\n",
      "[CV] END chi2__k=1000, clf__alpha=0.001, clf__max_iter=100, tfidf__ngram_range=(1, 2); total time=   0.1s\n",
      "[CV] END chi2__k=1000, clf__alpha=0.001, clf__max_iter=100, tfidf__ngram_range=(2, 2); total time=   0.1s\n",
      "[CV] END chi2__k=1000, clf__alpha=0.001, clf__max_iter=1000, tfidf__ngram_range=(1, 1); total time=   0.1s\n",
      "[CV] END chi2__k=1000, clf__alpha=0.001, clf__max_iter=100, tfidf__ngram_range=(1, 1); total time=   0.1s\n",
      "[CV] END chi2__k=1000, clf__alpha=0.001, clf__max_iter=100, tfidf__ngram_range=(1, 2); total time=   0.1s\n",
      "[CV] END chi2__k=1000, clf__alpha=0.001, clf__max_iter=100, tfidf__ngram_range=(2, 2); total time=   0.1s\n",
      "[CV] END chi2__k=1000, clf__alpha=0.001, clf__max_iter=100, tfidf__ngram_range=(1, 2); total time=   0.1s\n",
      "[CV] END chi2__k=1000, clf__alpha=0.001, clf__max_iter=1000, tfidf__ngram_range=(1, 1); total time=   0.1s\n",
      "[CV] END chi2__k=1000, clf__alpha=0.001, clf__max_iter=1000, tfidf__ngram_range=(1, 1); total time=   0.0s\n",
      "[CV] END chi2__k=1000, clf__alpha=0.001, clf__max_iter=100, tfidf__ngram_range=(2, 2); total time=   0.1s\n",
      "[CV] END chi2__k=1000, clf__alpha=0.001, clf__max_iter=1000, tfidf__ngram_range=(1, 1); total time=   0.0s\n",
      "[CV] END chi2__k=1000, clf__alpha=0.001, clf__max_iter=100, tfidf__ngram_range=(1, 2); total time=   0.1s\n",
      "[CV] END chi2__k=1000, clf__alpha=0.001, clf__max_iter=100, tfidf__ngram_range=(2, 2); total time=   0.1s\n",
      "[CV] END chi2__k=1000, clf__alpha=0.001, clf__max_iter=1000, tfidf__ngram_range=(1, 1); total time=   0.1s\n",
      "[CV] END chi2__k=1000, clf__alpha=0.001, clf__max_iter=100, tfidf__ngram_range=(2, 2); total time=   0.1s\n",
      "[CV] END chi2__k=1000, clf__alpha=0.001, clf__max_iter=100, tfidf__ngram_range=(1, 2); total time=   0.1s\n",
      "[CV] END chi2__k=1000, clf__alpha=0.001, clf__max_iter=1000, tfidf__ngram_range=(1, 2); total time=   0.1s\n",
      "[CV] END chi2__k=1000, clf__alpha=0.001, clf__max_iter=1000, tfidf__ngram_range=(1, 2); total time=   0.1s\n",
      "[CV] END chi2__k=1000, clf__alpha=0.001, clf__max_iter=1000, tfidf__ngram_range=(2, 2); total time=   0.1s\n",
      "[CV] END chi2__k=1000, clf__alpha=0.001, clf__max_iter=1000, tfidf__ngram_range=(1, 2); total time=   0.1s\n",
      "[CV] END chi2__k=1000, clf__alpha=0.001, clf__max_iter=1000, tfidf__ngram_range=(2, 2); total time=   0.1s\n",
      "[CV] END chi2__k=1000, clf__alpha=0.001, clf__max_iter=1000, tfidf__ngram_range=(2, 2); total time=   0.1s\n",
      "[CV] END chi2__k=1000, clf__alpha=0.001, clf__max_iter=10000, tfidf__ngram_range=(1, 1); total time=   0.1s\n",
      "[CV] END chi2__k=1000, clf__alpha=0.001, clf__max_iter=10000, tfidf__ngram_range=(1, 1); total time=   0.1s\n",
      "[CV] END chi2__k=1000, clf__alpha=0.001, clf__max_iter=1000, tfidf__ngram_range=(2, 2); total time=   0.1s\n",
      "[CV] END chi2__k=1000, clf__alpha=0.001, clf__max_iter=10000, tfidf__ngram_range=(1, 1); total time=   0.0s\n",
      "[CV] END chi2__k=1000, clf__alpha=0.001, clf__max_iter=1000, tfidf__ngram_range=(1, 2); total time=   0.1s\n",
      "[CV] END chi2__k=1000, clf__alpha=0.001, clf__max_iter=1000, tfidf__ngram_range=(2, 2); total time=   0.1s\n",
      "[CV] END chi2__k=1000, clf__alpha=0.001, clf__max_iter=1000, tfidf__ngram_range=(1, 2); total time=   0.1s\n",
      "[CV] END chi2__k=1000, clf__alpha=0.001, clf__max_iter=10000, tfidf__ngram_range=(1, 1); total time=   0.1s\n",
      "[CV] END chi2__k=1000, clf__alpha=0.001, clf__max_iter=10000, tfidf__ngram_range=(1, 2); total time=   0.1s\n",
      "[CV] END chi2__k=1000, clf__alpha=0.01, clf__max_iter=100, tfidf__ngram_range=(1, 1); total time=   0.0s\n",
      "[CV] END chi2__k=1000, clf__alpha=0.001, clf__max_iter=10000, tfidf__ngram_range=(1, 1); total time=   0.1s\n",
      "[CV] END chi2__k=1000, clf__alpha=0.001, clf__max_iter=10000, tfidf__ngram_range=(2, 2); total time=   0.1s\n",
      "[CV] END chi2__k=1000, clf__alpha=0.001, clf__max_iter=10000, tfidf__ngram_range=(1, 2); total time=   0.1s\n",
      "[CV] END chi2__k=1000, clf__alpha=0.01, clf__max_iter=100, tfidf__ngram_range=(1, 2); total time=   0.1s\n",
      "[CV] END chi2__k=1000, clf__alpha=0.01, clf__max_iter=100, tfidf__ngram_range=(2, 2); total time=   0.1s\n",
      "[CV] END chi2__k=1000, clf__alpha=0.01, clf__max_iter=100, tfidf__ngram_range=(1, 1); total time=   0.0s\n",
      "[CV] END chi2__k=1000, clf__alpha=0.001, clf__max_iter=10000, tfidf__ngram_range=(1, 2); total time=   0.1s\n",
      "[CV] END chi2__k=1000, clf__alpha=0.001, clf__max_iter=10000, tfidf__ngram_range=(2, 2); total time=   0.1s\n",
      "[CV] END chi2__k=1000, clf__alpha=0.01, clf__max_iter=1000, tfidf__ngram_range=(1, 1); total time=   0.1s\n",
      "[CV] END chi2__k=1000, clf__alpha=0.01, clf__max_iter=100, tfidf__ngram_range=(2, 2); total time=   0.1s\n",
      "[CV] END chi2__k=1000, clf__alpha=0.01, clf__max_iter=100, tfidf__ngram_range=(1, 1); total time=   0.0s\n",
      "[CV] END chi2__k=1000, clf__alpha=0.001, clf__max_iter=10000, tfidf__ngram_range=(2, 2); total time=   0.1s\n",
      "[CV] END chi2__k=1000, clf__alpha=0.01, clf__max_iter=100, tfidf__ngram_range=(2, 2); total time=   0.1s\n",
      "[CV] END chi2__k=1000, clf__alpha=0.01, clf__max_iter=100, tfidf__ngram_range=(1, 2); total time=   0.1s\n",
      "[CV] END chi2__k=1000, clf__alpha=0.01, clf__max_iter=100, tfidf__ngram_range=(1, 1); total time=   0.0s\n",
      "[CV] END chi2__k=1000, clf__alpha=0.01, clf__max_iter=1000, tfidf__ngram_range=(1, 1); total time=   0.0s\n",
      "[CV] END chi2__k=1000, clf__alpha=0.01, clf__max_iter=1000, tfidf__ngram_range=(1, 1); total time=   0.1s\n",
      "[CV] END chi2__k=1000, clf__alpha=0.001, clf__max_iter=10000, tfidf__ngram_range=(1, 2); total time=   0.1s\n",
      "[CV] END chi2__k=1000, clf__alpha=0.001, clf__max_iter=10000, tfidf__ngram_range=(2, 2); total time=   0.1s\n",
      "[CV] END chi2__k=1000, clf__alpha=0.01, clf__max_iter=100, tfidf__ngram_range=(1, 1); total time=   0.0s\n",
      "[CV] END chi2__k=1000, clf__alpha=0.01, clf__max_iter=100, tfidf__ngram_range=(2, 2); total time=   0.1s\n",
      "[CV] END chi2__k=1000, clf__alpha=0.01, clf__max_iter=100, tfidf__ngram_range=(1, 2); total time=   0.1s\n",
      "[CV] END chi2__k=1000, clf__alpha=0.01, clf__max_iter=100, tfidf__ngram_range=(1, 2); total time=   0.1s\n",
      "[CV] END chi2__k=1000, clf__alpha=0.01, clf__max_iter=1000, tfidf__ngram_range=(1, 1); total time=   0.1s\n",
      "[CV] END chi2__k=1000, clf__alpha=0.001, clf__max_iter=10000, tfidf__ngram_range=(2, 2); total time=   0.1s\n",
      "[CV] END chi2__k=1000, clf__alpha=0.01, clf__max_iter=1000, tfidf__ngram_range=(1, 2); total time=   0.1s\n",
      "[CV] END chi2__k=1000, clf__alpha=0.01, clf__max_iter=100, tfidf__ngram_range=(2, 2); total time=   0.1s\n",
      "[CV] END chi2__k=1000, clf__alpha=0.001, clf__max_iter=10000, tfidf__ngram_range=(1, 2); total time=   0.1s\n",
      "[CV] END chi2__k=1000, clf__alpha=0.01, clf__max_iter=1000, tfidf__ngram_range=(2, 2); total time=   0.1s\n",
      "[CV] END chi2__k=1000, clf__alpha=0.01, clf__max_iter=100, tfidf__ngram_range=(1, 2); total time=   0.1s\n",
      "[CV] END chi2__k=1000, clf__alpha=0.01, clf__max_iter=1000, tfidf__ngram_range=(1, 2); total time=   0.1s\n",
      "[CV] END chi2__k=1000, clf__alpha=0.01, clf__max_iter=1000, tfidf__ngram_range=(1, 1); total time=   0.1s\n",
      "[CV] END chi2__k=1000, clf__alpha=0.01, clf__max_iter=10000, tfidf__ngram_range=(1, 1); total time=   0.0s\n",
      "[CV] END chi2__k=1000, clf__alpha=0.01, clf__max_iter=10000, tfidf__ngram_range=(1, 1); total time=   0.0s\n",
      "[CV] END chi2__k=1000, clf__alpha=0.01, clf__max_iter=1000, tfidf__ngram_range=(1, 2); total time=   0.1s\n",
      "[CV] END chi2__k=1000, clf__alpha=0.01, clf__max_iter=1000, tfidf__ngram_range=(2, 2); total time=   0.1s\n",
      "[CV] END chi2__k=1000, clf__alpha=0.01, clf__max_iter=10000, tfidf__ngram_range=(1, 1); total time=   0.0s\n",
      "[CV] END chi2__k=2000, clf__alpha=0.0001, clf__max_iter=100, tfidf__ngram_range=(1, 1); total time=   0.1s\n",
      "[CV] END chi2__k=1000, clf__alpha=0.01, clf__max_iter=10000, tfidf__ngram_range=(2, 2); total time=   0.1s\n",
      "[CV] END chi2__k=1000, clf__alpha=0.01, clf__max_iter=10000, tfidf__ngram_range=(1, 2); total time=   0.1s\n",
      "[CV] END chi2__k=1000, clf__alpha=0.01, clf__max_iter=1000, tfidf__ngram_range=(1, 2); total time=   0.1s\n",
      "[CV] END chi2__k=1000, clf__alpha=0.01, clf__max_iter=10000, tfidf__ngram_range=(1, 2); total time=   0.1s\n",
      "[CV] END chi2__k=1000, clf__alpha=0.01, clf__max_iter=10000, tfidf__ngram_range=(1, 1); total time=   0.0s\n",
      "[CV] END chi2__k=1000, clf__alpha=0.01, clf__max_iter=1000, tfidf__ngram_range=(2, 2); total time=   0.1s\n",
      "[CV] END chi2__k=2000, clf__alpha=0.0001, clf__max_iter=100, tfidf__ngram_range=(1, 2); total time=   0.1s\n",
      "[CV] END chi2__k=2000, clf__alpha=0.0001, clf__max_iter=100, tfidf__ngram_range=(1, 1); total time=   0.1s\n",
      "[CV] END chi2__k=1000, clf__alpha=0.01, clf__max_iter=10000, tfidf__ngram_range=(2, 2); total time=   0.1s\n",
      "[CV] END chi2__k=1000, clf__alpha=0.01, clf__max_iter=1000, tfidf__ngram_range=(2, 2); total time=   0.1s\n",
      "[CV] END chi2__k=1000, clf__alpha=0.01, clf__max_iter=10000, tfidf__ngram_range=(1, 2); total time=   0.1s[CV] END chi2__k=1000, clf__alpha=0.01, clf__max_iter=10000, tfidf__ngram_range=(1, 1); total time=   0.1s\n",
      "\n",
      "[CV] END chi2__k=2000, clf__alpha=0.0001, clf__max_iter=100, tfidf__ngram_range=(1, 1); total time=   0.1s\n",
      "[CV] END chi2__k=2000, clf__alpha=0.0001, clf__max_iter=100, tfidf__ngram_range=(1, 2); total time=   0.1s\n",
      "[CV] END chi2__k=1000, clf__alpha=0.01, clf__max_iter=1000, tfidf__ngram_range=(1, 2); total time=   0.2s\n",
      "[CV] END chi2__k=1000, clf__alpha=0.01, clf__max_iter=10000, tfidf__ngram_range=(2, 2); total time=   0.1s\n",
      "[CV] END chi2__k=2000, clf__alpha=0.0001, clf__max_iter=100, tfidf__ngram_range=(1, 2); total time=   0.1s\n",
      "[CV] END chi2__k=1000, clf__alpha=0.01, clf__max_iter=10000, tfidf__ngram_range=(1, 2); total time=   0.2s\n",
      "[CV] END chi2__k=2000, clf__alpha=0.0001, clf__max_iter=100, tfidf__ngram_range=(1, 1); total time=   0.1s\n",
      "[CV] END chi2__k=2000, clf__alpha=0.0001, clf__max_iter=100, tfidf__ngram_range=(2, 2); total time=   0.1s\n",
      "[CV] END chi2__k=2000, clf__alpha=0.0001, clf__max_iter=100, tfidf__ngram_range=(1, 1); total time=   0.1s\n",
      "[CV] END chi2__k=1000, clf__alpha=0.01, clf__max_iter=10000, tfidf__ngram_range=(2, 2); total time=   0.1s\n",
      "[CV] END chi2__k=1000, clf__alpha=0.01, clf__max_iter=1000, tfidf__ngram_range=(2, 2); total time=   0.1s\n",
      "[CV] END chi2__k=2000, clf__alpha=0.0001, clf__max_iter=100, tfidf__ngram_range=(1, 2); total time=   0.1s\n",
      "[CV] END chi2__k=2000, clf__alpha=0.0001, clf__max_iter=100, tfidf__ngram_range=(2, 2); total time=   0.1s\n",
      "[CV] END chi2__k=2000, clf__alpha=0.0001, clf__max_iter=1000, tfidf__ngram_range=(1, 1); total time=   0.1s\n",
      "[CV] END chi2__k=2000, clf__alpha=0.0001, clf__max_iter=100, tfidf__ngram_range=(2, 2); total time=   0.1s\n",
      "[CV] END chi2__k=1000, clf__alpha=0.01, clf__max_iter=10000, tfidf__ngram_range=(1, 2); total time=   0.1s\n",
      "[CV] END chi2__k=2000, clf__alpha=0.0001, clf__max_iter=1000, tfidf__ngram_range=(2, 2); total time=   0.1s\n",
      "[CV] END chi2__k=2000, clf__alpha=0.0001, clf__max_iter=1000, tfidf__ngram_range=(1, 2); total time=   0.1s\n",
      "[CV] END chi2__k=2000, clf__alpha=0.0001, clf__max_iter=1000, tfidf__ngram_range=(1, 1); total time=   0.0s\n",
      "[CV] END chi2__k=2000, clf__alpha=0.0001, clf__max_iter=100, tfidf__ngram_range=(2, 2); total time=   0.1s[CV] END chi2__k=2000, clf__alpha=0.0001, clf__max_iter=1000, tfidf__ngram_range=(1, 1); total time=   0.0s\n",
      "\n",
      "[CV] END chi2__k=1000, clf__alpha=0.01, clf__max_iter=10000, tfidf__ngram_range=(2, 2); total time=   0.1s\n",
      "[CV] END chi2__k=2000, clf__alpha=0.0001, clf__max_iter=100, tfidf__ngram_range=(1, 2); total time=   0.1s\n",
      "[CV] END chi2__k=2000, clf__alpha=0.0001, clf__max_iter=1000, tfidf__ngram_range=(1, 1); total time=   0.1s\n",
      "[CV] END chi2__k=2000, clf__alpha=0.0001, clf__max_iter=1000, tfidf__ngram_range=(2, 2); total time=   0.1s\n",
      "[CV] END chi2__k=2000, clf__alpha=0.0001, clf__max_iter=1000, tfidf__ngram_range=(1, 1); total time=   0.1s\n",
      "[CV] END chi2__k=2000, clf__alpha=0.0001, clf__max_iter=100, tfidf__ngram_range=(2, 2); total time=   0.1s\n",
      "[CV] END chi2__k=2000, clf__alpha=0.0001, clf__max_iter=1000, tfidf__ngram_range=(1, 2); total time=   0.1s\n",
      "[CV] END chi2__k=2000, clf__alpha=0.0001, clf__max_iter=10000, tfidf__ngram_range=(1, 1); total time=   0.1s\n",
      "[CV] END chi2__k=2000, clf__alpha=0.0001, clf__max_iter=1000, tfidf__ngram_range=(2, 2); total time=   0.1s\n",
      "[CV] END chi2__k=2000, clf__alpha=0.0001, clf__max_iter=1000, tfidf__ngram_range=(2, 2); total time=   0.1s\n",
      "[CV] END chi2__k=2000, clf__alpha=0.0001, clf__max_iter=10000, tfidf__ngram_range=(1, 1); total time=   0.0s\n",
      "[CV] END chi2__k=2000, clf__alpha=0.001, clf__max_iter=100, tfidf__ngram_range=(1, 1); total time=   0.1s\n",
      "[CV] END chi2__k=2000, clf__alpha=0.0001, clf__max_iter=10000, tfidf__ngram_range=(1, 2); total time=   0.1s\n",
      "[CV] END chi2__k=2000, clf__alpha=0.0001, clf__max_iter=1000, tfidf__ngram_range=(1, 2); total time=   0.1s\n",
      "[CV] END chi2__k=2000, clf__alpha=0.0001, clf__max_iter=10000, tfidf__ngram_range=(1, 1); total time=   0.1s\n",
      "[CV] END chi2__k=2000, clf__alpha=0.0001, clf__max_iter=1000, tfidf__ngram_range=(1, 2); total time=   0.1s\n",
      "[CV] END chi2__k=2000, clf__alpha=0.0001, clf__max_iter=1000, tfidf__ngram_range=(2, 2); total time=   0.1s\n",
      "[CV] END chi2__k=2000, clf__alpha=0.001, clf__max_iter=100, tfidf__ngram_range=(1, 1); total time=   0.0s\n",
      "[CV] END chi2__k=2000, clf__alpha=0.001, clf__max_iter=100, tfidf__ngram_range=(1, 1); total time=   0.1s\n",
      "[CV] END chi2__k=2000, clf__alpha=0.0001, clf__max_iter=10000, tfidf__ngram_range=(2, 2); total time=   0.1s\n",
      "[CV] END chi2__k=2000, clf__alpha=0.0001, clf__max_iter=10000, tfidf__ngram_range=(1, 2); total time=   0.1s\n",
      "[CV] END chi2__k=2000, clf__alpha=0.0001, clf__max_iter=10000, tfidf__ngram_range=(1, 2); total time=   0.1s\n",
      "[CV] END chi2__k=2000, clf__alpha=0.0001, clf__max_iter=10000, tfidf__ngram_range=(1, 1); total time=   0.1s\n",
      "[CV] END chi2__k=2000, clf__alpha=0.001, clf__max_iter=100, tfidf__ngram_range=(1, 1); total time=   0.1s\n",
      "[CV] END chi2__k=2000, clf__alpha=0.0001, clf__max_iter=10000, tfidf__ngram_range=(2, 2); total time=   0.1s\n",
      "[CV] END chi2__k=2000, clf__alpha=0.001, clf__max_iter=100, tfidf__ngram_range=(1, 2); total time=   0.1s\n",
      "[CV] END chi2__k=2000, clf__alpha=0.0001, clf__max_iter=1000, tfidf__ngram_range=(1, 2); total time=   0.1s\n",
      "[CV] END chi2__k=2000, clf__alpha=0.0001, clf__max_iter=10000, tfidf__ngram_range=(1, 2); total time=   0.1s\n",
      "[CV] END chi2__k=2000, clf__alpha=0.001, clf__max_iter=100, tfidf__ngram_range=(1, 2); total time=   0.1s\n",
      "[CV] END chi2__k=2000, clf__alpha=0.0001, clf__max_iter=10000, tfidf__ngram_range=(1, 1); total time=   0.0s\n",
      "[CV] END chi2__k=2000, clf__alpha=0.001, clf__max_iter=100, tfidf__ngram_range=(1, 1); total time=   0.0s\n",
      "[CV] END chi2__k=2000, clf__alpha=0.0001, clf__max_iter=10000, tfidf__ngram_range=(1, 2); total time=   0.1s\n",
      "[CV] END chi2__k=2000, clf__alpha=0.0001, clf__max_iter=10000, tfidf__ngram_range=(2, 2); total time=   0.1s\n",
      "[CV] END chi2__k=2000, clf__alpha=0.001, clf__max_iter=1000, tfidf__ngram_range=(1, 1); total time=   0.0s\n",
      "[CV] END chi2__k=2000, clf__alpha=0.001, clf__max_iter=100, tfidf__ngram_range=(1, 2); total time=   0.1s\n",
      "[CV] END chi2__k=2000, clf__alpha=0.001, clf__max_iter=100, tfidf__ngram_range=(2, 2); total time=   0.1s\n",
      "[CV] END chi2__k=2000, clf__alpha=0.0001, clf__max_iter=10000, tfidf__ngram_range=(2, 2); total time=   0.1s\n",
      "[CV] END chi2__k=2000, clf__alpha=0.001, clf__max_iter=100, tfidf__ngram_range=(1, 2); total time=   0.1s\n",
      "[CV] END chi2__k=2000, clf__alpha=0.001, clf__max_iter=1000, tfidf__ngram_range=(1, 2); total time=   0.1s\n",
      "[CV] END chi2__k=2000, clf__alpha=0.001, clf__max_iter=1000, tfidf__ngram_range=(1, 2); total time=   0.1s\n",
      "[CV] END chi2__k=2000, clf__alpha=0.001, clf__max_iter=1000, tfidf__ngram_range=(1, 1); total time=   0.1s\n",
      "[CV] END chi2__k=2000, clf__alpha=0.0001, clf__max_iter=10000, tfidf__ngram_range=(2, 2); total time=   0.1s\n",
      "[CV] END chi2__k=2000, clf__alpha=0.001, clf__max_iter=100, tfidf__ngram_range=(2, 2); total time=   0.1s\n",
      "[CV] END chi2__k=2000, clf__alpha=0.001, clf__max_iter=1000, tfidf__ngram_range=(1, 1); total time=   0.0s\n",
      "[CV] END chi2__k=2000, clf__alpha=0.001, clf__max_iter=100, tfidf__ngram_range=(2, 2); total time=   0.1s\n",
      "[CV] END chi2__k=2000, clf__alpha=0.001, clf__max_iter=10000, tfidf__ngram_range=(1, 1); total time=   0.1s\n",
      "[CV] END chi2__k=2000, clf__alpha=0.001, clf__max_iter=1000, tfidf__ngram_range=(2, 2); total time=   0.1s\n",
      "[CV] END chi2__k=2000, clf__alpha=0.001, clf__max_iter=1000, tfidf__ngram_range=(1, 1); total time=   0.1s\n",
      "[CV] END chi2__k=2000, clf__alpha=0.001, clf__max_iter=100, tfidf__ngram_range=(2, 2); total time=   0.1s\n",
      "[CV] END chi2__k=2000, clf__alpha=0.001, clf__max_iter=100, tfidf__ngram_range=(1, 2); total time=   0.1s\n",
      "[CV] END chi2__k=2000, clf__alpha=0.001, clf__max_iter=1000, tfidf__ngram_range=(1, 2); total time=   0.1s\n",
      "[CV] END chi2__k=2000, clf__alpha=0.001, clf__max_iter=1000, tfidf__ngram_range=(2, 2); total time=   0.1s\n",
      "[CV] END chi2__k=2000, clf__alpha=0.001, clf__max_iter=10000, tfidf__ngram_range=(1, 1); total time=   0.0s\n",
      "[CV] END chi2__k=2000, clf__alpha=0.001, clf__max_iter=100, tfidf__ngram_range=(2, 2); total time=   0.1s\n",
      "[CV] END chi2__k=2000, clf__alpha=0.001, clf__max_iter=1000, tfidf__ngram_range=(2, 2); total time=   0.1s\n",
      "[CV] END chi2__k=2000, clf__alpha=0.001, clf__max_iter=10000, tfidf__ngram_range=(2, 2); total time=   0.1s\n",
      "[CV] END chi2__k=2000, clf__alpha=0.001, clf__max_iter=10000, tfidf__ngram_range=(2, 2); total time=   0.1s\n",
      "[CV] END chi2__k=2000, clf__alpha=0.001, clf__max_iter=10000, tfidf__ngram_range=(1, 1); total time=   0.0s\n",
      "[CV] END chi2__k=2000, clf__alpha=0.001, clf__max_iter=10000, tfidf__ngram_range=(1, 2); total time=   0.1s[CV] END chi2__k=2000, clf__alpha=0.001, clf__max_iter=1000, tfidf__ngram_range=(1, 2); total time=   0.1s\n",
      "\n",
      "[CV] END chi2__k=2000, clf__alpha=0.001, clf__max_iter=1000, tfidf__ngram_range=(2, 2); total time=   0.1s\n",
      "[CV] END chi2__k=2000, clf__alpha=0.001, clf__max_iter=1000, tfidf__ngram_range=(1, 1); total time=   0.1s\n",
      "[CV] END chi2__k=2000, clf__alpha=0.001, clf__max_iter=1000, tfidf__ngram_range=(2, 2); total time=   0.1s\n",
      "[CV] END chi2__k=2000, clf__alpha=0.01, clf__max_iter=100, tfidf__ngram_range=(1, 1); total time=   0.1s\n",
      "[CV] END chi2__k=2000, clf__alpha=0.001, clf__max_iter=10000, tfidf__ngram_range=(2, 2); total time=   0.1s\n",
      "[CV] END chi2__k=2000, clf__alpha=0.001, clf__max_iter=10000, tfidf__ngram_range=(1, 2); total time=   0.1s\n",
      "[CV] END chi2__k=2000, clf__alpha=0.001, clf__max_iter=10000, tfidf__ngram_range=(1, 1); total time=   0.1s\n",
      "[CV] END chi2__k=2000, clf__alpha=0.01, clf__max_iter=100, tfidf__ngram_range=(1, 1); total time=   0.0s\n",
      "[CV] END chi2__k=2000, clf__alpha=0.01, clf__max_iter=100, tfidf__ngram_range=(1, 1); total time=   0.0s\n",
      "[CV] END chi2__k=2000, clf__alpha=0.001, clf__max_iter=1000, tfidf__ngram_range=(1, 2); total time=   0.1s\n",
      "[CV] END chi2__k=2000, clf__alpha=0.001, clf__max_iter=10000, tfidf__ngram_range=(1, 2); total time=   0.1s\n",
      "[CV] END chi2__k=2000, clf__alpha=0.001, clf__max_iter=10000, tfidf__ngram_range=(2, 2); total time=   0.1s\n",
      "[CV] END chi2__k=2000, clf__alpha=0.01, clf__max_iter=100, tfidf__ngram_range=(1, 2); total time=   0.1s\n",
      "[CV] END chi2__k=2000, clf__alpha=0.01, clf__max_iter=100, tfidf__ngram_range=(1, 1); total time=   0.0s\n",
      "[CV] END chi2__k=2000, clf__alpha=0.01, clf__max_iter=100, tfidf__ngram_range=(1, 1); total time=   0.0s\n",
      "[CV] END chi2__k=2000, clf__alpha=0.001, clf__max_iter=10000, tfidf__ngram_range=(1, 1); total time=   0.1s\n",
      "[CV] END chi2__k=2000, clf__alpha=0.01, clf__max_iter=100, tfidf__ngram_range=(2, 2); total time=   0.1s\n",
      "[CV] END chi2__k=2000, clf__alpha=0.01, clf__max_iter=1000, tfidf__ngram_range=(1, 1); total time=   0.0s\n",
      "[CV] END chi2__k=2000, clf__alpha=0.001, clf__max_iter=10000, tfidf__ngram_range=(2, 2); total time=   0.1s\n",
      "[CV] END chi2__k=2000, clf__alpha=0.01, clf__max_iter=100, tfidf__ngram_range=(1, 2); total time=   0.1s\n",
      "[CV] END chi2__k=2000, clf__alpha=0.01, clf__max_iter=1000, tfidf__ngram_range=(1, 1); total time=   0.1s\n",
      "[CV] END chi2__k=2000, clf__alpha=0.01, clf__max_iter=100, tfidf__ngram_range=(2, 2); total time=   0.1s\n",
      "[CV] END chi2__k=2000, clf__alpha=0.001, clf__max_iter=10000, tfidf__ngram_range=(1, 2); total time=   0.1s\n",
      "[CV] END chi2__k=2000, clf__alpha=0.01, clf__max_iter=100, tfidf__ngram_range=(1, 2); total time=   0.1s\n",
      "[CV] END chi2__k=2000, clf__alpha=0.01, clf__max_iter=1000, tfidf__ngram_range=(1, 2); total time=   0.1s\n",
      "[CV] END chi2__k=2000, clf__alpha=0.01, clf__max_iter=1000, tfidf__ngram_range=(1, 1); total time=   0.1s\n",
      "[CV] END chi2__k=2000, clf__alpha=0.01, clf__max_iter=1000, tfidf__ngram_range=(2, 2); total time=   0.1s\n",
      "[CV] END chi2__k=2000, clf__alpha=0.01, clf__max_iter=1000, tfidf__ngram_range=(1, 2); total time=   0.1s\n",
      "[CV] END chi2__k=2000, clf__alpha=0.01, clf__max_iter=100, tfidf__ngram_range=(2, 2); total time=   0.1s\n",
      "[CV] END chi2__k=2000, clf__alpha=0.01, clf__max_iter=100, tfidf__ngram_range=(1, 2); total time=   0.1s\n",
      "[CV] END chi2__k=2000, clf__alpha=0.01, clf__max_iter=1000, tfidf__ngram_range=(1, 1); total time=   0.1s\n",
      "[CV] END chi2__k=2000, clf__alpha=0.001, clf__max_iter=10000, tfidf__ngram_range=(1, 2); total time=   0.1s\n",
      "[CV] END chi2__k=2000, clf__alpha=0.01, clf__max_iter=1000, tfidf__ngram_range=(1, 2); total time=   0.1s\n",
      "[CV] END chi2__k=2000, clf__alpha=0.01, clf__max_iter=1000, tfidf__ngram_range=(2, 2); total time=   0.1s\n",
      "[CV] END chi2__k=2000, clf__alpha=0.01, clf__max_iter=100, tfidf__ngram_range=(1, 2); total time=   0.1s\n",
      "[CV] END chi2__k=2000, clf__alpha=0.01, clf__max_iter=100, tfidf__ngram_range=(2, 2); total time=   0.1s\n",
      "[CV] END chi2__k=2000, clf__alpha=0.01, clf__max_iter=1000, tfidf__ngram_range=(1, 1); total time=   0.1s\n",
      "[CV] END chi2__k=2000, clf__alpha=0.01, clf__max_iter=10000, tfidf__ngram_range=(1, 1); total time=   0.0s\n",
      "[CV] END chi2__k=2000, clf__alpha=0.01, clf__max_iter=100, tfidf__ngram_range=(2, 2); total time=   0.1s\n",
      "[CV] END chi2__k=2000, clf__alpha=0.01, clf__max_iter=1000, tfidf__ngram_range=(1, 2); total time=   0.1s\n",
      "[CV] END chi2__k=2000, clf__alpha=0.01, clf__max_iter=1000, tfidf__ngram_range=(2, 2); total time=   0.1s\n",
      "[CV] END chi2__k=2000, clf__alpha=0.01, clf__max_iter=1000, tfidf__ngram_range=(2, 2); total time=   0.1s\n",
      "[CV] END chi2__k=2000, clf__alpha=0.01, clf__max_iter=10000, tfidf__ngram_range=(1, 2); total time=   0.1s\n",
      "[CV] END chi2__k=2000, clf__alpha=0.01, clf__max_iter=10000, tfidf__ngram_range=(1, 1); total time=   0.1s\n",
      "[CV] END chi2__k=2000, clf__alpha=0.01, clf__max_iter=10000, tfidf__ngram_range=(1, 1); total time=   0.0s\n",
      "[CV] END chi2__k=2000, clf__alpha=0.01, clf__max_iter=10000, tfidf__ngram_range=(1, 2); total time=   0.1s\n",
      "[CV] END chi2__k=2000, clf__alpha=0.01, clf__max_iter=1000, tfidf__ngram_range=(2, 2); total time=   0.1s\n",
      "[CV] END chi2__k=2000, clf__alpha=0.01, clf__max_iter=10000, tfidf__ngram_range=(2, 2); total time=   0.1s\n",
      "[CV] END chi2__k=2000, clf__alpha=0.01, clf__max_iter=1000, tfidf__ngram_range=(1, 2); total time=   0.1s\n",
      "[CV] END chi2__k=5000, clf__alpha=0.0001, clf__max_iter=100, tfidf__ngram_range=(1, 1); total time=   0.0s\n",
      "[CV] END chi2__k=2000, clf__alpha=0.01, clf__max_iter=10000, tfidf__ngram_range=(1, 1); total time=   0.0s\n",
      "[CV] END chi2__k=5000, clf__alpha=0.0001, clf__max_iter=100, tfidf__ngram_range=(1, 1); total time=   0.0s\n",
      "[CV] END chi2__k=2000, clf__alpha=0.01, clf__max_iter=10000, tfidf__ngram_range=(1, 2); total time=   0.1s\n",
      "[CV] END chi2__k=2000, clf__alpha=0.01, clf__max_iter=10000, tfidf__ngram_range=(2, 2); total time=   0.1s\n",
      "[CV] END chi2__k=5000, clf__alpha=0.0001, clf__max_iter=100, tfidf__ngram_range=(1, 1); total time=   0.0s\n",
      "[CV] END chi2__k=2000, clf__alpha=0.01, clf__max_iter=10000, tfidf__ngram_range=(1, 1); total time=   0.0s\n",
      "[CV] END chi2__k=2000, clf__alpha=0.01, clf__max_iter=10000, tfidf__ngram_range=(2, 2); total time=   0.1s\n",
      "[CV] END chi2__k=5000, clf__alpha=0.0001, clf__max_iter=100, tfidf__ngram_range=(1, 2); total time=   0.1s\n",
      "[CV] END chi2__k=5000, clf__alpha=0.0001, clf__max_iter=100, tfidf__ngram_range=(1, 1); total time=   0.0s\n",
      "[CV] END chi2__k=5000, clf__alpha=0.0001, clf__max_iter=1000, tfidf__ngram_range=(1, 1); total time=   0.0s\n",
      "[CV] END chi2__k=5000, clf__alpha=0.0001, clf__max_iter=100, tfidf__ngram_range=(2, 2); total time=   0.1s\n",
      "[CV] END chi2__k=2000, clf__alpha=0.01, clf__max_iter=10000, tfidf__ngram_range=(2, 2); total time=   0.1s\n",
      "[CV] END chi2__k=5000, clf__alpha=0.0001, clf__max_iter=100, tfidf__ngram_range=(2, 2); total time=   0.1s\n",
      "[CV] END chi2__k=2000, clf__alpha=0.01, clf__max_iter=10000, tfidf__ngram_range=(1, 2); total time=   0.1s\n",
      "[CV] END chi2__k=5000, clf__alpha=0.0001, clf__max_iter=100, tfidf__ngram_range=(1, 1); total time=   0.0s\n",
      "[CV] END chi2__k=5000, clf__alpha=0.0001, clf__max_iter=1000, tfidf__ngram_range=(1, 1); total time=   0.0s\n",
      "[CV] END chi2__k=5000, clf__alpha=0.0001, clf__max_iter=100, tfidf__ngram_range=(1, 2); total time=   0.1s\n",
      "[CV] END chi2__k=5000, clf__alpha=0.0001, clf__max_iter=100, tfidf__ngram_range=(1, 2); total time=   0.1s\n",
      "[CV] END chi2__k=5000, clf__alpha=0.0001, clf__max_iter=1000, tfidf__ngram_range=(1, 1); total time=   0.0s\n",
      "[CV] END chi2__k=2000, clf__alpha=0.01, clf__max_iter=10000, tfidf__ngram_range=(2, 2); total time=   0.1s\n",
      "[CV] END chi2__k=2000, clf__alpha=0.01, clf__max_iter=10000, tfidf__ngram_range=(1, 2); total time=   0.1s\n",
      "[CV] END chi2__k=5000, clf__alpha=0.0001, clf__max_iter=100, tfidf__ngram_range=(2, 2); total time=   0.1s\n",
      "[CV] END chi2__k=5000, clf__alpha=0.0001, clf__max_iter=10000, tfidf__ngram_range=(1, 1); total time=   0.0s\n",
      "[CV] END chi2__k=5000, clf__alpha=0.0001, clf__max_iter=1000, tfidf__ngram_range=(1, 1); total time=   0.1s\n",
      "[CV] END chi2__k=5000, clf__alpha=0.0001, clf__max_iter=100, tfidf__ngram_range=(1, 2); total time=   0.1s\n",
      "[CV] END chi2__k=5000, clf__alpha=0.0001, clf__max_iter=10000, tfidf__ngram_range=(1, 1); total time=   0.0s\n",
      "[CV] END chi2__k=5000, clf__alpha=0.0001, clf__max_iter=1000, tfidf__ngram_range=(2, 2); total time=   0.1s\n",
      "[CV] END chi2__k=5000, clf__alpha=0.0001, clf__max_iter=10000, tfidf__ngram_range=(1, 1); total time=   0.0s\n",
      "[CV] END chi2__k=5000, clf__alpha=0.0001, clf__max_iter=1000, tfidf__ngram_range=(1, 2); total time=   0.1s[CV] END chi2__k=5000, clf__alpha=0.0001, clf__max_iter=10000, tfidf__ngram_range=(1, 1); total time=   0.0s\n",
      "\n",
      "[CV] END chi2__k=5000, clf__alpha=0.0001, clf__max_iter=1000, tfidf__ngram_range=(1, 1); total time=   0.0s\n",
      "[CV] END chi2__k=5000, clf__alpha=0.0001, clf__max_iter=1000, tfidf__ngram_range=(1, 2); total time=   0.2s\n",
      "[CV] END chi2__k=5000, clf__alpha=0.0001, clf__max_iter=10000, tfidf__ngram_range=(1, 1); total time=   0.0s[CV] END chi2__k=5000, clf__alpha=0.0001, clf__max_iter=100, tfidf__ngram_range=(2, 2); total time=   0.1s\n",
      "\n",
      "[CV] END chi2__k=5000, clf__alpha=0.0001, clf__max_iter=100, tfidf__ngram_range=(1, 2); total time=   0.1s\n",
      "[CV] END chi2__k=5000, clf__alpha=0.0001, clf__max_iter=1000, tfidf__ngram_range=(2, 2); total time=   0.1s\n",
      "[CV] END chi2__k=5000, clf__alpha=0.001, clf__max_iter=100, tfidf__ngram_range=(1, 1); total time=   0.0s\n",
      "[CV] END chi2__k=5000, clf__alpha=0.0001, clf__max_iter=10000, tfidf__ngram_range=(1, 2); total time=   0.1s\n",
      "[CV] END chi2__k=5000, clf__alpha=0.0001, clf__max_iter=100, tfidf__ngram_range=(2, 2); total time=   0.1s\n",
      "[CV] END chi2__k=5000, clf__alpha=0.001, clf__max_iter=100, tfidf__ngram_range=(1, 1); total time=   0.0s\n",
      "[CV] END chi2__k=5000, clf__alpha=0.0001, clf__max_iter=1000, tfidf__ngram_range=(1, 2); total time=   0.1s\n",
      "[CV] END chi2__k=5000, clf__alpha=0.0001, clf__max_iter=10000, tfidf__ngram_range=(1, 2); total time=   0.1s\n",
      "[CV] END chi2__k=5000, clf__alpha=0.0001, clf__max_iter=1000, tfidf__ngram_range=(1, 2); total time=   0.1s\n",
      "[CV] END chi2__k=5000, clf__alpha=0.001, clf__max_iter=100, tfidf__ngram_range=(1, 1); total time=   0.0s\n",
      "[CV] END chi2__k=5000, clf__alpha=0.0001, clf__max_iter=10000, tfidf__ngram_range=(2, 2); total time=   0.1s\n",
      "[CV] END chi2__k=5000, clf__alpha=0.0001, clf__max_iter=1000, tfidf__ngram_range=(2, 2); total time=   0.1s\n",
      "[CV] END chi2__k=5000, clf__alpha=0.001, clf__max_iter=100, tfidf__ngram_range=(1, 1); total time=   0.0s\n",
      "[CV] END chi2__k=5000, clf__alpha=0.001, clf__max_iter=100, tfidf__ngram_range=(1, 2); total time=   0.1s\n",
      "[CV] END chi2__k=5000, clf__alpha=0.0001, clf__max_iter=10000, tfidf__ngram_range=(2, 2); total time=   0.1s\n",
      "[CV] END chi2__k=5000, clf__alpha=0.0001, clf__max_iter=1000, tfidf__ngram_range=(1, 2); total time=   0.1s\n",
      "[CV] END chi2__k=5000, clf__alpha=0.0001, clf__max_iter=10000, tfidf__ngram_range=(1, 2); total time=   0.1s\n",
      "[CV] END chi2__k=5000, clf__alpha=0.0001, clf__max_iter=10000, tfidf__ngram_range=(1, 2); total time=   0.1s[CV] END chi2__k=5000, clf__alpha=0.0001, clf__max_iter=1000, tfidf__ngram_range=(2, 2); total time=   0.1s\n",
      "\n",
      "[CV] END chi2__k=5000, clf__alpha=0.001, clf__max_iter=100, tfidf__ngram_range=(2, 2); total time=   0.1s\n",
      "[CV] END chi2__k=5000, clf__alpha=0.001, clf__max_iter=100, tfidf__ngram_range=(1, 2); total time=   0.1s\n",
      "[CV] END chi2__k=5000, clf__alpha=0.001, clf__max_iter=1000, tfidf__ngram_range=(1, 1); total time=   0.0s\n",
      "[CV] END chi2__k=5000, clf__alpha=0.0001, clf__max_iter=10000, tfidf__ngram_range=(2, 2); total time=   0.1s\n",
      "[CV] END chi2__k=5000, clf__alpha=0.001, clf__max_iter=100, tfidf__ngram_range=(1, 2); total time=   0.1s\n",
      "[CV] END chi2__k=5000, clf__alpha=0.0001, clf__max_iter=1000, tfidf__ngram_range=(2, 2); total time=   0.1s\n",
      "[CV] END chi2__k=5000, clf__alpha=0.0001, clf__max_iter=10000, tfidf__ngram_range=(2, 2); total time=   0.1s\n",
      "[CV] END chi2__k=5000, clf__alpha=0.001, clf__max_iter=100, tfidf__ngram_range=(1, 1); total time=   0.0s\n",
      "[CV] END chi2__k=5000, clf__alpha=0.001, clf__max_iter=1000, tfidf__ngram_range=(1, 1); total time=   0.0s\n",
      "[CV] END chi2__k=5000, clf__alpha=0.001, clf__max_iter=100, tfidf__ngram_range=(2, 2); total time=   0.1s\n",
      "[CV] END chi2__k=5000, clf__alpha=0.001, clf__max_iter=100, tfidf__ngram_range=(2, 2); total time=   0.1s\n",
      "[CV] END chi2__k=5000, clf__alpha=0.001, clf__max_iter=1000, tfidf__ngram_range=(1, 1); total time=   0.0s\n",
      "[CV] END chi2__k=5000, clf__alpha=0.001, clf__max_iter=1000, tfidf__ngram_range=(1, 1); total time=   0.0s\n",
      "[CV] END chi2__k=5000, clf__alpha=0.001, clf__max_iter=1000, tfidf__ngram_range=(1, 1); total time=   0.0s\n",
      "[CV] END chi2__k=5000, clf__alpha=0.0001, clf__max_iter=10000, tfidf__ngram_range=(2, 2); total time=   0.1s\n",
      "[CV] END chi2__k=5000, clf__alpha=0.0001, clf__max_iter=10000, tfidf__ngram_range=(1, 2); total time=   0.1s\n",
      "[CV] END chi2__k=5000, clf__alpha=0.001, clf__max_iter=1000, tfidf__ngram_range=(2, 2); total time=   0.1s\n",
      "[CV] END chi2__k=5000, clf__alpha=0.001, clf__max_iter=100, tfidf__ngram_range=(1, 2); total time=   0.1s\n",
      "[CV] END chi2__k=5000, clf__alpha=0.001, clf__max_iter=1000, tfidf__ngram_range=(1, 2); total time=   0.1s\n",
      "[CV] END chi2__k=5000, clf__alpha=0.001, clf__max_iter=10000, tfidf__ngram_range=(1, 1); total time=   0.0s\n",
      "[CV] END chi2__k=5000, clf__alpha=0.001, clf__max_iter=10000, tfidf__ngram_range=(1, 1); total time=   0.0s\n",
      "[CV] END chi2__k=5000, clf__alpha=0.001, clf__max_iter=100, tfidf__ngram_range=(2, 2); total time=   0.1s\n",
      "[CV] END chi2__k=5000, clf__alpha=0.001, clf__max_iter=1000, tfidf__ngram_range=(1, 2); total time=   0.1s\n",
      "[CV] END chi2__k=5000, clf__alpha=0.001, clf__max_iter=1000, tfidf__ngram_range=(2, 2); total time=   0.1s\n",
      "[CV] END chi2__k=5000, clf__alpha=0.001, clf__max_iter=1000, tfidf__ngram_range=(2, 2); total time=   0.1s\n",
      "[CV] END chi2__k=5000, clf__alpha=0.001, clf__max_iter=10000, tfidf__ngram_range=(1, 1); total time=   0.0s\n",
      "[CV] END chi2__k=5000, clf__alpha=0.001, clf__max_iter=1000, tfidf__ngram_range=(1, 2); total time=   0.1s\n",
      "[CV] END chi2__k=5000, clf__alpha=0.001, clf__max_iter=10000, tfidf__ngram_range=(1, 2); total time=   0.1s\n",
      "[CV] END chi2__k=5000, clf__alpha=0.001, clf__max_iter=10000, tfidf__ngram_range=(1, 1); total time=   0.0s\n",
      "[CV] END chi2__k=5000, clf__alpha=0.001, clf__max_iter=100, tfidf__ngram_range=(1, 2); total time=   0.1s\n",
      "[CV] END chi2__k=5000, clf__alpha=0.001, clf__max_iter=100, tfidf__ngram_range=(2, 2); total time=   0.1s\n",
      "[CV] END chi2__k=5000, clf__alpha=0.001, clf__max_iter=10000, tfidf__ngram_range=(2, 2); total time=   0.1s\n",
      "[CV] END chi2__k=5000, clf__alpha=0.001, clf__max_iter=10000, tfidf__ngram_range=(1, 1); total time=   0.0s\n",
      "[CV] END chi2__k=5000, clf__alpha=0.001, clf__max_iter=1000, tfidf__ngram_range=(2, 2); total time=   0.1s\n",
      "[CV] END chi2__k=5000, clf__alpha=0.001, clf__max_iter=10000, tfidf__ngram_range=(1, 2); total time=   0.1s\n",
      "[CV] END chi2__k=5000, clf__alpha=0.01, clf__max_iter=100, tfidf__ngram_range=(1, 1); total time=   0.0s\n",
      "[CV] END chi2__k=5000, clf__alpha=0.01, clf__max_iter=100, tfidf__ngram_range=(1, 1); total time=   0.0s\n",
      "[CV] END chi2__k=5000, clf__alpha=0.001, clf__max_iter=1000, tfidf__ngram_range=(1, 2); total time=   0.1s\n",
      "[CV] END chi2__k=5000, clf__alpha=0.001, clf__max_iter=10000, tfidf__ngram_range=(2, 2); total time=   0.1s\n",
      "[CV] END chi2__k=5000, clf__alpha=0.01, clf__max_iter=100, tfidf__ngram_range=(1, 1); total time=   0.0s\n",
      "[CV] END chi2__k=5000, clf__alpha=0.001, clf__max_iter=1000, tfidf__ngram_range=(2, 2); total time=   0.1s\n",
      "[CV] END chi2__k=5000, clf__alpha=0.001, clf__max_iter=10000, tfidf__ngram_range=(1, 2); total time=   0.1s\n",
      "[CV] END chi2__k=5000, clf__alpha=0.01, clf__max_iter=100, tfidf__ngram_range=(1, 2); total time=   0.1s\n",
      "[CV] END chi2__k=5000, clf__alpha=0.01, clf__max_iter=100, tfidf__ngram_range=(1, 1); total time=   0.0s\n",
      "[CV] END chi2__k=5000, clf__alpha=0.001, clf__max_iter=10000, tfidf__ngram_range=(1, 2); total time=   0.1s\n",
      "[CV] END chi2__k=5000, clf__alpha=0.01, clf__max_iter=100, tfidf__ngram_range=(1, 1); total time=   0.0s\n",
      "[CV] END chi2__k=5000, clf__alpha=0.01, clf__max_iter=1000, tfidf__ngram_range=(1, 1); total time=   0.0s\n",
      "[CV] END chi2__k=5000, clf__alpha=0.001, clf__max_iter=10000, tfidf__ngram_range=(2, 2); total time=   0.1s\n",
      "[CV] END chi2__k=5000, clf__alpha=0.01, clf__max_iter=100, tfidf__ngram_range=(2, 2); total time=   0.1s\n",
      "[CV] END chi2__k=5000, clf__alpha=0.001, clf__max_iter=1000, tfidf__ngram_range=(1, 2); total time=   0.1s\n",
      "[CV] END chi2__k=5000, clf__alpha=0.01, clf__max_iter=100, tfidf__ngram_range=(1, 2); total time=   0.1s\n",
      "[CV] END chi2__k=5000, clf__alpha=0.01, clf__max_iter=1000, tfidf__ngram_range=(1, 1); total time=   0.0s\n",
      "[CV] END chi2__k=5000, clf__alpha=0.001, clf__max_iter=10000, tfidf__ngram_range=(1, 2); total time=   0.1s\n",
      "[CV] END chi2__k=5000, clf__alpha=0.01, clf__max_iter=100, tfidf__ngram_range=(1, 2); total time=   0.1s\n",
      "[CV] END chi2__k=5000, clf__alpha=0.01, clf__max_iter=1000, tfidf__ngram_range=(1, 1); total time=   0.0s\n",
      "[CV] END chi2__k=5000, clf__alpha=0.001, clf__max_iter=10000, tfidf__ngram_range=(2, 2); total time=   0.1s\n",
      "[CV] END chi2__k=5000, clf__alpha=0.01, clf__max_iter=1000, tfidf__ngram_range=(1, 1); total time=   0.0s\n",
      "[CV] END chi2__k=5000, clf__alpha=0.01, clf__max_iter=100, tfidf__ngram_range=(2, 2); total time=   0.1s\n",
      "[CV] END chi2__k=5000, clf__alpha=0.01, clf__max_iter=10000, tfidf__ngram_range=(1, 1); total time=   0.0s\n",
      "[CV] END chi2__k=5000, clf__alpha=0.01, clf__max_iter=1000, tfidf__ngram_range=(1, 2); total time=   0.1s\n",
      "[CV] END chi2__k=5000, clf__alpha=0.01, clf__max_iter=100, tfidf__ngram_range=(2, 2); total time=   0.1s\n",
      "[CV] END chi2__k=5000, clf__alpha=0.01, clf__max_iter=100, tfidf__ngram_range=(1, 2); total time=   0.1s\n",
      "[CV] END chi2__k=5000, clf__alpha=0.001, clf__max_iter=10000, tfidf__ngram_range=(2, 2); total time=   0.1s\n",
      "[CV] END chi2__k=5000, clf__alpha=0.01, clf__max_iter=10000, tfidf__ngram_range=(1, 1); total time=   0.0s\n",
      "[CV] END chi2__k=5000, clf__alpha=0.01, clf__max_iter=1000, tfidf__ngram_range=(1, 2); total time=   0.1s\n",
      "[CV] END chi2__k=5000, clf__alpha=0.01, clf__max_iter=100, tfidf__ngram_range=(2, 2); total time=   0.1s\n",
      "[CV] END chi2__k=5000, clf__alpha=0.01, clf__max_iter=10000, tfidf__ngram_range=(1, 1); total time=   0.0s\n",
      "[CV] END chi2__k=5000, clf__alpha=0.01, clf__max_iter=1000, tfidf__ngram_range=(2, 2); total time=   0.1s\n",
      "[CV] END chi2__k=5000, clf__alpha=0.01, clf__max_iter=1000, tfidf__ngram_range=(1, 1); total time=   0.0s\n",
      "[CV] END chi2__k=5000, clf__alpha=0.01, clf__max_iter=1000, tfidf__ngram_range=(2, 2); total time=   0.1s\n",
      "[CV] END chi2__k=5000, clf__alpha=0.01, clf__max_iter=100, tfidf__ngram_range=(2, 2); total time=   0.1s\n",
      "[CV] END chi2__k=5000, clf__alpha=0.01, clf__max_iter=100, tfidf__ngram_range=(1, 2); total time=   0.1s\n",
      "[CV] END chi2__k=5000, clf__alpha=0.01, clf__max_iter=10000, tfidf__ngram_range=(1, 2); total time=   0.1s\n",
      "[CV] END chi2__k=5000, clf__alpha=0.01, clf__max_iter=10000, tfidf__ngram_range=(2, 2); total time=   0.1s\n",
      "[CV] END chi2__k=5000, clf__alpha=0.01, clf__max_iter=1000, tfidf__ngram_range=(2, 2); total time=   0.1s\n",
      "[CV] END chi2__k=5000, clf__alpha=0.01, clf__max_iter=1000, tfidf__ngram_range=(2, 2); total time=   0.1s\n",
      "[CV] END chi2__k=5000, clf__alpha=0.01, clf__max_iter=10000, tfidf__ngram_range=(1, 2); total time=   0.1s\n",
      "[CV] END chi2__k=5000, clf__alpha=0.01, clf__max_iter=10000, tfidf__ngram_range=(2, 2); total time=   0.1s\n",
      "[CV] END chi2__k=5000, clf__alpha=0.01, clf__max_iter=10000, tfidf__ngram_range=(2, 2); total time=   0.1s\n",
      "[CV] END chi2__k=5000, clf__alpha=0.01, clf__max_iter=1000, tfidf__ngram_range=(1, 2); total time=   0.1s\n",
      "[CV] END chi2__k=5000, clf__alpha=0.01, clf__max_iter=10000, tfidf__ngram_range=(1, 1); total time=   0.0s\n",
      "[CV] END chi2__k=5000, clf__alpha=0.01, clf__max_iter=10000, tfidf__ngram_range=(1, 1); total time=   0.0s\n",
      "[CV] END chi2__k=5000, clf__alpha=0.01, clf__max_iter=1000, tfidf__ngram_range=(2, 2); total time=   0.1s\n",
      "[CV] END chi2__k=5000, clf__alpha=0.01, clf__max_iter=10000, tfidf__ngram_range=(2, 2); total time=   0.1s\n",
      "[CV] END chi2__k=5000, clf__alpha=0.01, clf__max_iter=10000, tfidf__ngram_range=(2, 2); total time=   0.1s\n",
      "[CV] END chi2__k=5000, clf__alpha=0.01, clf__max_iter=10000, tfidf__ngram_range=(1, 2); total time=   0.1s\n",
      "[CV] END chi2__k=5000, clf__alpha=0.01, clf__max_iter=1000, tfidf__ngram_range=(1, 2); total time=   0.1s\n",
      "[CV] END chi2__k=5000, clf__alpha=0.01, clf__max_iter=10000, tfidf__ngram_range=(1, 2); total time=   0.1s\n",
      "[CV] END chi2__k=5000, clf__alpha=0.01, clf__max_iter=1000, tfidf__ngram_range=(1, 2); total time=   0.1s\n",
      "[CV] END chi2__k=5000, clf__alpha=0.01, clf__max_iter=10000, tfidf__ngram_range=(1, 2); total time=   0.0s\n"
     ]
    },
    {
     "name": "stderr",
     "output_type": "stream",
     "text": [
      "/home/krisna/anaconda3/lib/python3.11/site-packages/sklearn/model_selection/_validation.py:425: FitFailedWarning: \n",
      "45 fits failed out of a total of 405.\n",
      "The score on these train-test partitions for these parameters will be set to nan.\n",
      "If these failures are not expected, you can try to debug them by setting error_score='raise'.\n",
      "\n",
      "Below are more details about the failures:\n",
      "--------------------------------------------------------------------------------\n",
      "9 fits failed with the following error:\n",
      "Traceback (most recent call last):\n",
      "  File \"/home/krisna/anaconda3/lib/python3.11/site-packages/sklearn/model_selection/_validation.py\", line 732, in _fit_and_score\n",
      "    estimator.fit(X_train, y_train, **fit_params)\n",
      "  File \"/home/krisna/anaconda3/lib/python3.11/site-packages/sklearn/base.py\", line 1151, in wrapper\n",
      "    return fit_method(estimator, *args, **kwargs)\n",
      "           ^^^^^^^^^^^^^^^^^^^^^^^^^^^^^^^^^^^^^^\n",
      "  File \"/home/krisna/anaconda3/lib/python3.11/site-packages/sklearn/pipeline.py\", line 416, in fit\n",
      "    Xt = self._fit(X, y, **fit_params_steps)\n",
      "         ^^^^^^^^^^^^^^^^^^^^^^^^^^^^^^^^^^^\n",
      "  File \"/home/krisna/anaconda3/lib/python3.11/site-packages/sklearn/pipeline.py\", line 370, in _fit\n",
      "    X, fitted_transformer = fit_transform_one_cached(\n",
      "                            ^^^^^^^^^^^^^^^^^^^^^^^^^\n",
      "  File \"/home/krisna/anaconda3/lib/python3.11/site-packages/joblib/memory.py\", line 349, in __call__\n",
      "    return self.func(*args, **kwargs)\n",
      "           ^^^^^^^^^^^^^^^^^^^^^^^^^^\n",
      "  File \"/home/krisna/anaconda3/lib/python3.11/site-packages/sklearn/pipeline.py\", line 950, in _fit_transform_one\n",
      "    res = transformer.fit_transform(X, y, **fit_params)\n",
      "          ^^^^^^^^^^^^^^^^^^^^^^^^^^^^^^^^^^^^^^^^^^^^^\n",
      "  File \"/home/krisna/anaconda3/lib/python3.11/site-packages/sklearn/utils/_set_output.py\", line 140, in wrapped\n",
      "    data_to_wrap = f(self, X, *args, **kwargs)\n",
      "                   ^^^^^^^^^^^^^^^^^^^^^^^^^^^\n",
      "  File \"/home/krisna/anaconda3/lib/python3.11/site-packages/sklearn/base.py\", line 918, in fit_transform\n",
      "    return self.fit(X, y, **fit_params).transform(X)\n",
      "           ^^^^^^^^^^^^^^^^^^^^^^^^^^^^\n",
      "  File \"/home/krisna/anaconda3/lib/python3.11/site-packages/sklearn/base.py\", line 1151, in wrapper\n",
      "    return fit_method(estimator, *args, **kwargs)\n",
      "           ^^^^^^^^^^^^^^^^^^^^^^^^^^^^^^^^^^^^^^\n",
      "  File \"/home/krisna/anaconda3/lib/python3.11/site-packages/sklearn/feature_selection/_univariate_selection.py\", line 502, in fit\n",
      "    self._check_params(X, y)\n",
      "  File \"/home/krisna/anaconda3/lib/python3.11/site-packages/sklearn/feature_selection/_univariate_selection.py\", line 703, in _check_params\n",
      "    raise ValueError(\n",
      "ValueError: k should be <= n_features = 2169; got 5000. Use k='all' to return all features.\n",
      "\n",
      "--------------------------------------------------------------------------------\n",
      "9 fits failed with the following error:\n",
      "Traceback (most recent call last):\n",
      "  File \"/home/krisna/anaconda3/lib/python3.11/site-packages/sklearn/model_selection/_validation.py\", line 732, in _fit_and_score\n",
      "    estimator.fit(X_train, y_train, **fit_params)\n",
      "  File \"/home/krisna/anaconda3/lib/python3.11/site-packages/sklearn/base.py\", line 1151, in wrapper\n",
      "    return fit_method(estimator, *args, **kwargs)\n",
      "           ^^^^^^^^^^^^^^^^^^^^^^^^^^^^^^^^^^^^^^\n",
      "  File \"/home/krisna/anaconda3/lib/python3.11/site-packages/sklearn/pipeline.py\", line 416, in fit\n",
      "    Xt = self._fit(X, y, **fit_params_steps)\n",
      "         ^^^^^^^^^^^^^^^^^^^^^^^^^^^^^^^^^^^\n",
      "  File \"/home/krisna/anaconda3/lib/python3.11/site-packages/sklearn/pipeline.py\", line 370, in _fit\n",
      "    X, fitted_transformer = fit_transform_one_cached(\n",
      "                            ^^^^^^^^^^^^^^^^^^^^^^^^^\n",
      "  File \"/home/krisna/anaconda3/lib/python3.11/site-packages/joblib/memory.py\", line 349, in __call__\n",
      "    return self.func(*args, **kwargs)\n",
      "           ^^^^^^^^^^^^^^^^^^^^^^^^^^\n",
      "  File \"/home/krisna/anaconda3/lib/python3.11/site-packages/sklearn/pipeline.py\", line 950, in _fit_transform_one\n",
      "    res = transformer.fit_transform(X, y, **fit_params)\n",
      "          ^^^^^^^^^^^^^^^^^^^^^^^^^^^^^^^^^^^^^^^^^^^^^\n",
      "  File \"/home/krisna/anaconda3/lib/python3.11/site-packages/sklearn/utils/_set_output.py\", line 140, in wrapped\n",
      "    data_to_wrap = f(self, X, *args, **kwargs)\n",
      "                   ^^^^^^^^^^^^^^^^^^^^^^^^^^^\n",
      "  File \"/home/krisna/anaconda3/lib/python3.11/site-packages/sklearn/base.py\", line 918, in fit_transform\n",
      "    return self.fit(X, y, **fit_params).transform(X)\n",
      "           ^^^^^^^^^^^^^^^^^^^^^^^^^^^^\n",
      "  File \"/home/krisna/anaconda3/lib/python3.11/site-packages/sklearn/base.py\", line 1151, in wrapper\n",
      "    return fit_method(estimator, *args, **kwargs)\n",
      "           ^^^^^^^^^^^^^^^^^^^^^^^^^^^^^^^^^^^^^^\n",
      "  File \"/home/krisna/anaconda3/lib/python3.11/site-packages/sklearn/feature_selection/_univariate_selection.py\", line 502, in fit\n",
      "    self._check_params(X, y)\n",
      "  File \"/home/krisna/anaconda3/lib/python3.11/site-packages/sklearn/feature_selection/_univariate_selection.py\", line 703, in _check_params\n",
      "    raise ValueError(\n",
      "ValueError: k should be <= n_features = 2133; got 5000. Use k='all' to return all features.\n",
      "\n",
      "--------------------------------------------------------------------------------\n",
      "9 fits failed with the following error:\n",
      "Traceback (most recent call last):\n",
      "  File \"/home/krisna/anaconda3/lib/python3.11/site-packages/sklearn/model_selection/_validation.py\", line 732, in _fit_and_score\n",
      "    estimator.fit(X_train, y_train, **fit_params)\n",
      "  File \"/home/krisna/anaconda3/lib/python3.11/site-packages/sklearn/base.py\", line 1151, in wrapper\n",
      "    return fit_method(estimator, *args, **kwargs)\n",
      "           ^^^^^^^^^^^^^^^^^^^^^^^^^^^^^^^^^^^^^^\n",
      "  File \"/home/krisna/anaconda3/lib/python3.11/site-packages/sklearn/pipeline.py\", line 416, in fit\n",
      "    Xt = self._fit(X, y, **fit_params_steps)\n",
      "         ^^^^^^^^^^^^^^^^^^^^^^^^^^^^^^^^^^^\n",
      "  File \"/home/krisna/anaconda3/lib/python3.11/site-packages/sklearn/pipeline.py\", line 370, in _fit\n",
      "    X, fitted_transformer = fit_transform_one_cached(\n",
      "                            ^^^^^^^^^^^^^^^^^^^^^^^^^\n",
      "  File \"/home/krisna/anaconda3/lib/python3.11/site-packages/joblib/memory.py\", line 349, in __call__\n",
      "    return self.func(*args, **kwargs)\n",
      "           ^^^^^^^^^^^^^^^^^^^^^^^^^^\n",
      "  File \"/home/krisna/anaconda3/lib/python3.11/site-packages/sklearn/pipeline.py\", line 950, in _fit_transform_one\n",
      "    res = transformer.fit_transform(X, y, **fit_params)\n",
      "          ^^^^^^^^^^^^^^^^^^^^^^^^^^^^^^^^^^^^^^^^^^^^^\n",
      "  File \"/home/krisna/anaconda3/lib/python3.11/site-packages/sklearn/utils/_set_output.py\", line 140, in wrapped\n",
      "    data_to_wrap = f(self, X, *args, **kwargs)\n",
      "                   ^^^^^^^^^^^^^^^^^^^^^^^^^^^\n",
      "  File \"/home/krisna/anaconda3/lib/python3.11/site-packages/sklearn/base.py\", line 918, in fit_transform\n",
      "    return self.fit(X, y, **fit_params).transform(X)\n",
      "           ^^^^^^^^^^^^^^^^^^^^^^^^^^^^\n",
      "  File \"/home/krisna/anaconda3/lib/python3.11/site-packages/sklearn/base.py\", line 1151, in wrapper\n",
      "    return fit_method(estimator, *args, **kwargs)\n",
      "           ^^^^^^^^^^^^^^^^^^^^^^^^^^^^^^^^^^^^^^\n",
      "  File \"/home/krisna/anaconda3/lib/python3.11/site-packages/sklearn/feature_selection/_univariate_selection.py\", line 502, in fit\n",
      "    self._check_params(X, y)\n",
      "  File \"/home/krisna/anaconda3/lib/python3.11/site-packages/sklearn/feature_selection/_univariate_selection.py\", line 703, in _check_params\n",
      "    raise ValueError(\n",
      "ValueError: k should be <= n_features = 2158; got 5000. Use k='all' to return all features.\n",
      "\n",
      "--------------------------------------------------------------------------------\n",
      "9 fits failed with the following error:\n",
      "Traceback (most recent call last):\n",
      "  File \"/home/krisna/anaconda3/lib/python3.11/site-packages/sklearn/model_selection/_validation.py\", line 732, in _fit_and_score\n",
      "    estimator.fit(X_train, y_train, **fit_params)\n",
      "  File \"/home/krisna/anaconda3/lib/python3.11/site-packages/sklearn/base.py\", line 1151, in wrapper\n",
      "    return fit_method(estimator, *args, **kwargs)\n",
      "           ^^^^^^^^^^^^^^^^^^^^^^^^^^^^^^^^^^^^^^\n",
      "  File \"/home/krisna/anaconda3/lib/python3.11/site-packages/sklearn/pipeline.py\", line 416, in fit\n",
      "    Xt = self._fit(X, y, **fit_params_steps)\n",
      "         ^^^^^^^^^^^^^^^^^^^^^^^^^^^^^^^^^^^\n",
      "  File \"/home/krisna/anaconda3/lib/python3.11/site-packages/sklearn/pipeline.py\", line 370, in _fit\n",
      "    X, fitted_transformer = fit_transform_one_cached(\n",
      "                            ^^^^^^^^^^^^^^^^^^^^^^^^^\n",
      "  File \"/home/krisna/anaconda3/lib/python3.11/site-packages/joblib/memory.py\", line 349, in __call__\n",
      "    return self.func(*args, **kwargs)\n",
      "           ^^^^^^^^^^^^^^^^^^^^^^^^^^\n",
      "  File \"/home/krisna/anaconda3/lib/python3.11/site-packages/sklearn/pipeline.py\", line 950, in _fit_transform_one\n",
      "    res = transformer.fit_transform(X, y, **fit_params)\n",
      "          ^^^^^^^^^^^^^^^^^^^^^^^^^^^^^^^^^^^^^^^^^^^^^\n",
      "  File \"/home/krisna/anaconda3/lib/python3.11/site-packages/sklearn/utils/_set_output.py\", line 140, in wrapped\n",
      "    data_to_wrap = f(self, X, *args, **kwargs)\n",
      "                   ^^^^^^^^^^^^^^^^^^^^^^^^^^^\n",
      "  File \"/home/krisna/anaconda3/lib/python3.11/site-packages/sklearn/base.py\", line 918, in fit_transform\n",
      "    return self.fit(X, y, **fit_params).transform(X)\n",
      "           ^^^^^^^^^^^^^^^^^^^^^^^^^^^^\n",
      "  File \"/home/krisna/anaconda3/lib/python3.11/site-packages/sklearn/base.py\", line 1151, in wrapper\n",
      "    return fit_method(estimator, *args, **kwargs)\n",
      "           ^^^^^^^^^^^^^^^^^^^^^^^^^^^^^^^^^^^^^^\n",
      "  File \"/home/krisna/anaconda3/lib/python3.11/site-packages/sklearn/feature_selection/_univariate_selection.py\", line 502, in fit\n",
      "    self._check_params(X, y)\n",
      "  File \"/home/krisna/anaconda3/lib/python3.11/site-packages/sklearn/feature_selection/_univariate_selection.py\", line 703, in _check_params\n",
      "    raise ValueError(\n",
      "ValueError: k should be <= n_features = 2143; got 5000. Use k='all' to return all features.\n",
      "\n",
      "--------------------------------------------------------------------------------\n",
      "9 fits failed with the following error:\n",
      "Traceback (most recent call last):\n",
      "  File \"/home/krisna/anaconda3/lib/python3.11/site-packages/sklearn/model_selection/_validation.py\", line 732, in _fit_and_score\n",
      "    estimator.fit(X_train, y_train, **fit_params)\n",
      "  File \"/home/krisna/anaconda3/lib/python3.11/site-packages/sklearn/base.py\", line 1151, in wrapper\n",
      "    return fit_method(estimator, *args, **kwargs)\n",
      "           ^^^^^^^^^^^^^^^^^^^^^^^^^^^^^^^^^^^^^^\n",
      "  File \"/home/krisna/anaconda3/lib/python3.11/site-packages/sklearn/pipeline.py\", line 416, in fit\n",
      "    Xt = self._fit(X, y, **fit_params_steps)\n",
      "         ^^^^^^^^^^^^^^^^^^^^^^^^^^^^^^^^^^^\n",
      "  File \"/home/krisna/anaconda3/lib/python3.11/site-packages/sklearn/pipeline.py\", line 370, in _fit\n",
      "    X, fitted_transformer = fit_transform_one_cached(\n",
      "                            ^^^^^^^^^^^^^^^^^^^^^^^^^\n",
      "  File \"/home/krisna/anaconda3/lib/python3.11/site-packages/joblib/memory.py\", line 349, in __call__\n",
      "    return self.func(*args, **kwargs)\n",
      "           ^^^^^^^^^^^^^^^^^^^^^^^^^^\n",
      "  File \"/home/krisna/anaconda3/lib/python3.11/site-packages/sklearn/pipeline.py\", line 950, in _fit_transform_one\n",
      "    res = transformer.fit_transform(X, y, **fit_params)\n",
      "          ^^^^^^^^^^^^^^^^^^^^^^^^^^^^^^^^^^^^^^^^^^^^^\n",
      "  File \"/home/krisna/anaconda3/lib/python3.11/site-packages/sklearn/utils/_set_output.py\", line 140, in wrapped\n",
      "    data_to_wrap = f(self, X, *args, **kwargs)\n",
      "                   ^^^^^^^^^^^^^^^^^^^^^^^^^^^\n",
      "  File \"/home/krisna/anaconda3/lib/python3.11/site-packages/sklearn/base.py\", line 918, in fit_transform\n",
      "    return self.fit(X, y, **fit_params).transform(X)\n",
      "           ^^^^^^^^^^^^^^^^^^^^^^^^^^^^\n",
      "  File \"/home/krisna/anaconda3/lib/python3.11/site-packages/sklearn/base.py\", line 1151, in wrapper\n",
      "    return fit_method(estimator, *args, **kwargs)\n",
      "           ^^^^^^^^^^^^^^^^^^^^^^^^^^^^^^^^^^^^^^\n",
      "  File \"/home/krisna/anaconda3/lib/python3.11/site-packages/sklearn/feature_selection/_univariate_selection.py\", line 502, in fit\n",
      "    self._check_params(X, y)\n",
      "  File \"/home/krisna/anaconda3/lib/python3.11/site-packages/sklearn/feature_selection/_univariate_selection.py\", line 703, in _check_params\n",
      "    raise ValueError(\n",
      "ValueError: k should be <= n_features = 2165; got 5000. Use k='all' to return all features.\n",
      "\n",
      "  warnings.warn(some_fits_failed_message, FitFailedWarning)\n",
      "/home/krisna/anaconda3/lib/python3.11/site-packages/sklearn/model_selection/_search.py:976: UserWarning: One or more of the test scores are non-finite: [0.95306175 0.94776444 0.8765952  0.95154374 0.95307033 0.87735277\n",
      " 0.95003431 0.94852487 0.88189537 0.945506   0.9235506  0.86448542\n",
      " 0.94550314 0.92582333 0.86524014 0.94550314 0.9235506  0.86448542\n",
      " 0.76986278 0.6767753  0.59199257 0.77212979 0.6775243  0.57984563\n",
      " 0.77289022 0.69188393 0.57681818 0.95080332 0.94549457 0.8841681\n",
      " 0.95154946 0.94473699 0.8834048  0.95155517 0.94548885 0.88189537\n",
      " 0.95458262 0.93036306 0.86448256 0.95382504 0.93187822 0.86523728\n",
      " 0.95382504 0.93112064 0.86296455 0.77742424 0.69266724 0.58515437\n",
      " 0.78196684 0.67069182 0.57759577 0.7781761  0.68359348 0.57305317\n",
      "        nan 0.94927959 0.89324471        nan 0.94851915 0.88718982\n",
      "        nan 0.95003431 0.89249571        nan 0.94399085 0.88947113\n",
      "        nan 0.94172098 0.89098628        nan 0.9424757  0.89098628\n",
      "        nan 0.7138279  0.59727273        nan 0.70702401 0.58668954\n",
      "        nan 0.71687536 0.58667238]\n",
      "  warnings.warn(\n"
     ]
    },
    {
     "data": {
      "text/html": [
       "<style>#sk-container-id-1 {color: black;}#sk-container-id-1 pre{padding: 0;}#sk-container-id-1 div.sk-toggleable {background-color: white;}#sk-container-id-1 label.sk-toggleable__label {cursor: pointer;display: block;width: 100%;margin-bottom: 0;padding: 0.3em;box-sizing: border-box;text-align: center;}#sk-container-id-1 label.sk-toggleable__label-arrow:before {content: \"▸\";float: left;margin-right: 0.25em;color: #696969;}#sk-container-id-1 label.sk-toggleable__label-arrow:hover:before {color: black;}#sk-container-id-1 div.sk-estimator:hover label.sk-toggleable__label-arrow:before {color: black;}#sk-container-id-1 div.sk-toggleable__content {max-height: 0;max-width: 0;overflow: hidden;text-align: left;background-color: #f0f8ff;}#sk-container-id-1 div.sk-toggleable__content pre {margin: 0.2em;color: black;border-radius: 0.25em;background-color: #f0f8ff;}#sk-container-id-1 input.sk-toggleable__control:checked~div.sk-toggleable__content {max-height: 200px;max-width: 100%;overflow: auto;}#sk-container-id-1 input.sk-toggleable__control:checked~label.sk-toggleable__label-arrow:before {content: \"▾\";}#sk-container-id-1 div.sk-estimator input.sk-toggleable__control:checked~label.sk-toggleable__label {background-color: #d4ebff;}#sk-container-id-1 div.sk-label input.sk-toggleable__control:checked~label.sk-toggleable__label {background-color: #d4ebff;}#sk-container-id-1 input.sk-hidden--visually {border: 0;clip: rect(1px 1px 1px 1px);clip: rect(1px, 1px, 1px, 1px);height: 1px;margin: -1px;overflow: hidden;padding: 0;position: absolute;width: 1px;}#sk-container-id-1 div.sk-estimator {font-family: monospace;background-color: #f0f8ff;border: 1px dotted black;border-radius: 0.25em;box-sizing: border-box;margin-bottom: 0.5em;}#sk-container-id-1 div.sk-estimator:hover {background-color: #d4ebff;}#sk-container-id-1 div.sk-parallel-item::after {content: \"\";width: 100%;border-bottom: 1px solid gray;flex-grow: 1;}#sk-container-id-1 div.sk-label:hover label.sk-toggleable__label {background-color: #d4ebff;}#sk-container-id-1 div.sk-serial::before {content: \"\";position: absolute;border-left: 1px solid gray;box-sizing: border-box;top: 0;bottom: 0;left: 50%;z-index: 0;}#sk-container-id-1 div.sk-serial {display: flex;flex-direction: column;align-items: center;background-color: white;padding-right: 0.2em;padding-left: 0.2em;position: relative;}#sk-container-id-1 div.sk-item {position: relative;z-index: 1;}#sk-container-id-1 div.sk-parallel {display: flex;align-items: stretch;justify-content: center;background-color: white;position: relative;}#sk-container-id-1 div.sk-item::before, #sk-container-id-1 div.sk-parallel-item::before {content: \"\";position: absolute;border-left: 1px solid gray;box-sizing: border-box;top: 0;bottom: 0;left: 50%;z-index: -1;}#sk-container-id-1 div.sk-parallel-item {display: flex;flex-direction: column;z-index: 1;position: relative;background-color: white;}#sk-container-id-1 div.sk-parallel-item:first-child::after {align-self: flex-end;width: 50%;}#sk-container-id-1 div.sk-parallel-item:last-child::after {align-self: flex-start;width: 50%;}#sk-container-id-1 div.sk-parallel-item:only-child::after {width: 0;}#sk-container-id-1 div.sk-dashed-wrapped {border: 1px dashed gray;margin: 0 0.4em 0.5em 0.4em;box-sizing: border-box;padding-bottom: 0.4em;background-color: white;}#sk-container-id-1 div.sk-label label {font-family: monospace;font-weight: bold;display: inline-block;line-height: 1.2em;}#sk-container-id-1 div.sk-label-container {text-align: center;}#sk-container-id-1 div.sk-container {/* jupyter's `normalize.less` sets `[hidden] { display: none; }` but bootstrap.min.css set `[hidden] { display: none !important; }` so we also need the `!important` here to be able to override the default hidden behavior on the sphinx rendered scikit-learn.org. See: https://github.com/scikit-learn/scikit-learn/issues/21755 */display: inline-block !important;position: relative;}#sk-container-id-1 div.sk-text-repr-fallback {display: none;}</style><div id=\"sk-container-id-1\" class=\"sk-top-container\"><div class=\"sk-text-repr-fallback\"><pre>GridSearchCV(cv=5,\n",
       "             estimator=Pipeline(steps=[(&#x27;tfidf&#x27;, TfidfVectorizer()),\n",
       "                                       (&#x27;chi2&#x27;,\n",
       "                                        SelectKBest(k=1000,\n",
       "                                                    score_func=&lt;function chi2 at 0x7f9435fdb7e0&gt;)),\n",
       "                                       (&#x27;clf&#x27;, SGDClassifier(max_iter=100))]),\n",
       "             n_jobs=-1,\n",
       "             param_grid={&#x27;chi2__k&#x27;: [1000, 2000, 5000],\n",
       "                         &#x27;clf__alpha&#x27;: [0.0001, 0.001, 0.01],\n",
       "                         &#x27;clf__max_iter&#x27;: [100, 1000, 10000],\n",
       "                         &#x27;tfidf__ngram_range&#x27;: [(1, 1), (1, 2), (2, 2)]},\n",
       "             verbose=2)</pre><b>In a Jupyter environment, please rerun this cell to show the HTML representation or trust the notebook. <br />On GitHub, the HTML representation is unable to render, please try loading this page with nbviewer.org.</b></div><div class=\"sk-container\" hidden><div class=\"sk-item sk-dashed-wrapped\"><div class=\"sk-label-container\"><div class=\"sk-label sk-toggleable\"><input class=\"sk-toggleable__control sk-hidden--visually\" id=\"sk-estimator-id-1\" type=\"checkbox\" ><label for=\"sk-estimator-id-1\" class=\"sk-toggleable__label sk-toggleable__label-arrow\">GridSearchCV</label><div class=\"sk-toggleable__content\"><pre>GridSearchCV(cv=5,\n",
       "             estimator=Pipeline(steps=[(&#x27;tfidf&#x27;, TfidfVectorizer()),\n",
       "                                       (&#x27;chi2&#x27;,\n",
       "                                        SelectKBest(k=1000,\n",
       "                                                    score_func=&lt;function chi2 at 0x7f9435fdb7e0&gt;)),\n",
       "                                       (&#x27;clf&#x27;, SGDClassifier(max_iter=100))]),\n",
       "             n_jobs=-1,\n",
       "             param_grid={&#x27;chi2__k&#x27;: [1000, 2000, 5000],\n",
       "                         &#x27;clf__alpha&#x27;: [0.0001, 0.001, 0.01],\n",
       "                         &#x27;clf__max_iter&#x27;: [100, 1000, 10000],\n",
       "                         &#x27;tfidf__ngram_range&#x27;: [(1, 1), (1, 2), (2, 2)]},\n",
       "             verbose=2)</pre></div></div></div><div class=\"sk-parallel\"><div class=\"sk-parallel-item\"><div class=\"sk-item\"><div class=\"sk-label-container\"><div class=\"sk-label sk-toggleable\"><input class=\"sk-toggleable__control sk-hidden--visually\" id=\"sk-estimator-id-2\" type=\"checkbox\" ><label for=\"sk-estimator-id-2\" class=\"sk-toggleable__label sk-toggleable__label-arrow\">estimator: Pipeline</label><div class=\"sk-toggleable__content\"><pre>Pipeline(steps=[(&#x27;tfidf&#x27;, TfidfVectorizer()),\n",
       "                (&#x27;chi2&#x27;,\n",
       "                 SelectKBest(k=1000,\n",
       "                             score_func=&lt;function chi2 at 0x7f9435fdb7e0&gt;)),\n",
       "                (&#x27;clf&#x27;, SGDClassifier(max_iter=100))])</pre></div></div></div><div class=\"sk-serial\"><div class=\"sk-item\"><div class=\"sk-serial\"><div class=\"sk-item\"><div class=\"sk-estimator sk-toggleable\"><input class=\"sk-toggleable__control sk-hidden--visually\" id=\"sk-estimator-id-3\" type=\"checkbox\" ><label for=\"sk-estimator-id-3\" class=\"sk-toggleable__label sk-toggleable__label-arrow\">TfidfVectorizer</label><div class=\"sk-toggleable__content\"><pre>TfidfVectorizer()</pre></div></div></div><div class=\"sk-item\"><div class=\"sk-estimator sk-toggleable\"><input class=\"sk-toggleable__control sk-hidden--visually\" id=\"sk-estimator-id-4\" type=\"checkbox\" ><label for=\"sk-estimator-id-4\" class=\"sk-toggleable__label sk-toggleable__label-arrow\">SelectKBest</label><div class=\"sk-toggleable__content\"><pre>SelectKBest(k=1000, score_func=&lt;function chi2 at 0x7f9435fdb7e0&gt;)</pre></div></div></div><div class=\"sk-item\"><div class=\"sk-estimator sk-toggleable\"><input class=\"sk-toggleable__control sk-hidden--visually\" id=\"sk-estimator-id-5\" type=\"checkbox\" ><label for=\"sk-estimator-id-5\" class=\"sk-toggleable__label sk-toggleable__label-arrow\">SGDClassifier</label><div class=\"sk-toggleable__content\"><pre>SGDClassifier(max_iter=100)</pre></div></div></div></div></div></div></div></div></div></div></div></div>"
      ],
      "text/plain": [
       "GridSearchCV(cv=5,\n",
       "             estimator=Pipeline(steps=[('tfidf', TfidfVectorizer()),\n",
       "                                       ('chi2',\n",
       "                                        SelectKBest(k=1000,\n",
       "                                                    score_func=<function chi2 at 0x7f9435fdb7e0>)),\n",
       "                                       ('clf', SGDClassifier(max_iter=100))]),\n",
       "             n_jobs=-1,\n",
       "             param_grid={'chi2__k': [1000, 2000, 5000],\n",
       "                         'clf__alpha': [0.0001, 0.001, 0.01],\n",
       "                         'clf__max_iter': [100, 1000, 10000],\n",
       "                         'tfidf__ngram_range': [(1, 1), (1, 2), (2, 2)]},\n",
       "             verbose=2)"
      ]
     },
     "execution_count": 40,
     "metadata": {},
     "output_type": "execute_result"
    }
   ],
   "source": [
    "grid_search.fit(train_corpus, train_labels)"
   ]
  },
  {
   "cell_type": "code",
   "execution_count": 41,
   "metadata": {},
   "outputs": [
    {
     "name": "stdout",
     "output_type": "stream",
     "text": [
      "Best Parameters:  {'chi2__k': 2000, 'clf__alpha': 0.001, 'clf__max_iter': 100, 'tfidf__ngram_range': (1, 1)}\n"
     ]
    }
   ],
   "source": [
    "print(\"Best Parameters: \", grid_search.best_params_)"
   ]
  },
  {
   "cell_type": "code",
   "execution_count": 42,
   "metadata": {},
   "outputs": [
    {
     "data": {
      "image/png": "[encoded data removed]",
      "text/plain": [
       "<Figure size 800x600 with 2 Axes>"
      ]
     },
     "metadata": {},
     "output_type": "display_data"
    }
   ],
   "source": [
    "import matplotlib.pyplot as plt\n",
    "import seaborn as sns\n",
    "from sklearn.metrics import confusion_matrix\n",
    "\n",
    "# Get the best model from GridSearchCV\n",
    "best_model = grid_search.best_estimator_\n",
    "\n",
    "# Make predictions on the test set\n",
    "predicted_labels = best_model.predict(test_corpus)\n",
    "\n",
    "# Calculate the confusion matrix\n",
    "conf_matrix = confusion_matrix(test_labels, predicted_labels)\n",
    "\n",
    "# Visualize the confusion matrix\n",
    "plt.figure(figsize=(8, 6))\n",
    "sns.heatmap(conf_matrix, annot=True, fmt='d', cmap=\"Blues\")\n",
    "plt.xlabel('Predicted Labels')\n",
    "plt.ylabel('True Labels')\n",
    "plt.title('Confusion Matrix')\n",
    "plt.show()"
   ]
  },
  {
   "cell_type": "markdown",
   "metadata": {},
   "source": [
    "### Model Testing\n",
    "Berikut beberapa sampel judul berita dalam "
   ]
  },
  {
   "cell_type": "code",
   "execution_count": 52,
   "metadata": {},
   "outputs": [],
   "source": [
    "test = ('Jeka Saragih On Fire Menatap Debut di UFC')\n",
    "test_bola =('Onana Dulu Dicaci, Kini Dipuji')\n",
    "test_Moto_GP =('Update Klasemen MotoGP 2023 - GP Australia Berakhir Tanpa Sprint, Dewi Fortuna Lebih Suka Bagnaia daripada Martin')\n",
    "test_raket =('French Open 2023: Jonatan Taklukkan Nishimoto')\n",
    "test_f1 =('Suhu Panas Tak Hentikan Verstappen Menangkan F1 GP Qatar 2023')"
   ]
  },
  {
   "cell_type": "code",
   "execution_count": 53,
   "metadata": {},
   "outputs": [
    {
     "data": {
      "text/plain": [
       "array(['Olahraga Lainnya'], dtype='<U16')"
      ]
     },
     "execution_count": 53,
     "metadata": {},
     "output_type": "execute_result"
    }
   ],
   "source": [
    "line = tfidf_vectorizer.transform([test])\n",
    "test = clf.predict(line)\n",
    "test"
   ]
  },
  {
   "cell_type": "code",
   "execution_count": 54,
   "metadata": {},
   "outputs": [
    {
     "data": {
      "text/plain": [
       "array(['Sepakbola'], dtype='<U16')"
      ]
     },
     "execution_count": 54,
     "metadata": {},
     "output_type": "execute_result"
    }
   ],
   "source": [
    "line = tfidf_vectorizer.transform([test_bola])\n",
    "test = clf.predict(line)\n",
    "test"
   ]
  },
  {
   "cell_type": "code",
   "execution_count": 55,
   "metadata": {},
   "outputs": [
    {
     "data": {
      "text/plain": [
       "array(['Moto GP'], dtype='<U16')"
      ]
     },
     "execution_count": 55,
     "metadata": {},
     "output_type": "execute_result"
    }
   ],
   "source": [
    "line = tfidf_vectorizer.transform([test_Moto_GP])\n",
    "test = clf.predict(line)\n",
    "test"
   ]
  },
  {
   "cell_type": "code",
   "execution_count": 56,
   "metadata": {},
   "outputs": [
    {
     "data": {
      "text/plain": [
       "array(['Raket'], dtype='<U16')"
      ]
     },
     "execution_count": 56,
     "metadata": {},
     "output_type": "execute_result"
    }
   ],
   "source": [
    "line = tfidf_vectorizer.transform([test_raket])\n",
    "test = clf.predict(line)\n",
    "test"
   ]
  },
  {
   "cell_type": "code",
   "execution_count": 57,
   "metadata": {},
   "outputs": [
    {
     "data": {
      "text/plain": [
       "array(['F1'], dtype='<U16')"
      ]
     },
     "execution_count": 57,
     "metadata": {},
     "output_type": "execute_result"
    }
   ],
   "source": [
    "line = tfidf_vectorizer.transform([test_f1])\n",
    "test = clf.predict(line)\n",
    "test"
   ]
  }
 ],
 "metadata": {
  "kernelspec": {
   "display_name": "Python 3 (ipykernel)",
   "language": "python",
   "name": "python3"
  },
  "language_info": {
   "codemirror_mode": {
    "name": "ipython",
    "version": 3
   },
   "file_extension": ".py",
   "mimetype": "text/x-python",
   "name": "python",
   "nbconvert_exporter": "python",
   "pygments_lexer": "ipython3",
   "version": "3.11.4"
  }
 },
 "nbformat": 4,
 "nbformat_minor": 4
}
